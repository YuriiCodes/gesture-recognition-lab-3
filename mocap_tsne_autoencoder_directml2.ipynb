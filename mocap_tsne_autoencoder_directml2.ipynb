{
  "cells": [
    {
      "cell_type": "markdown",
      "metadata": {
        "id": "view-in-github"
      },
      "source": [
        "<a href=\"https://colab.research.google.com/github/JustSerhii/gestures-lab3/blob/main/mocap_tsne_autoencoder_directml2_(3).ipynb\" target=\"_parent\"><img src=\"https://colab.research.google.com/assets/colab-badge.svg\" alt=\"Open In Colab\"/></a>"
      ]
    },
    {
      "cell_type": "code",
      "execution_count": null,
      "metadata": {
        "id": "OVAdgMoRi6si"
      },
      "outputs": [],
      "source": [
        "################################################\n",
        "### using filtered data"
      ]
    },
    {
      "cell_type": "code",
      "execution_count": 2,
      "metadata": {
        "id": "LyUj_oZqi6sm"
      },
      "outputs": [],
      "source": [
        "import pickle\n",
        "with open('shaped.pickle', 'rb') as f:\n",
        "    ab = pickle.load(f)"
      ]
    },
    {
      "cell_type": "markdown",
      "source": [
        "# Новий розділ"
      ],
      "metadata": {
        "id": "5ZIhw49BjkJR"
      }
    },
    {
      "cell_type": "code",
      "execution_count": 3,
      "metadata": {
        "id": "slx70xjxi6sn",
        "outputId": "fda650de-09f5-4ea0-858a-41dd97ed19b9",
        "colab": {
          "base_uri": "https://localhost:8080/"
        }
      },
      "outputs": [
        {
          "output_type": "execute_result",
          "data": {
            "text/plain": [
              "(297, 1200)"
            ]
          },
          "metadata": {},
          "execution_count": 3
        }
      ],
      "source": [
        "ab.shape"
      ]
    },
    {
      "cell_type": "code",
      "execution_count": 4,
      "metadata": {
        "id": "VCrarOqZi6so"
      },
      "outputs": [],
      "source": [
        "from sklearn import model_selection, preprocessing, linear_model, naive_bayes, metrics, svm\n",
        "#from sklearn.feature_extraction.text import TfidfVectorizer, CountVectorizer\n",
        "from sklearn import decomposition, ensemble\n",
        "\n",
        "import numpy #,  string #pandas, xgboost, textblob,\n",
        "#from tensorflow.keras.preprocessing import text, sequence\n",
        "from tensorflow.keras import layers, models, optimizers"
      ]
    },
    {
      "cell_type": "code",
      "execution_count": 5,
      "metadata": {
        "id": "FINs3Y7pi6sp",
        "outputId": "266d5817-63c9-4281-8f93-7813fd1e93b1",
        "colab": {
          "base_uri": "https://localhost:8080/",
          "height": 35
        }
      },
      "outputs": [
        {
          "output_type": "execute_result",
          "data": {
            "text/plain": [
              "'2.18.0'"
            ],
            "application/vnd.google.colaboratory.intrinsic+json": {
              "type": "string"
            }
          },
          "metadata": {},
          "execution_count": 5
        }
      ],
      "source": [
        "import tensorflow as tf\n",
        "tf. __version__"
      ]
    },
    {
      "cell_type": "code",
      "source": [
        "!nvidia-smi\n"
      ],
      "metadata": {
        "colab": {
          "base_uri": "https://localhost:8080/"
        },
        "id": "BZdIWFiJWaek",
        "outputId": "0b9d9abe-b549-4ebd-8223-1d3e098ab793"
      },
      "execution_count": 6,
      "outputs": [
        {
          "output_type": "stream",
          "name": "stdout",
          "text": [
            "Sun Apr  6 10:39:40 2025       \n",
            "+-----------------------------------------------------------------------------------------+\n",
            "| NVIDIA-SMI 550.54.15              Driver Version: 550.54.15      CUDA Version: 12.4     |\n",
            "|-----------------------------------------+------------------------+----------------------+\n",
            "| GPU  Name                 Persistence-M | Bus-Id          Disp.A | Volatile Uncorr. ECC |\n",
            "| Fan  Temp   Perf          Pwr:Usage/Cap |           Memory-Usage | GPU-Util  Compute M. |\n",
            "|                                         |                        |               MIG M. |\n",
            "|=========================================+========================+======================|\n",
            "|   0  Tesla T4                       Off |   00000000:00:04.0 Off |                    0 |\n",
            "| N/A   44C    P8              9W /   70W |       0MiB /  15360MiB |      0%      Default |\n",
            "|                                         |                        |                  N/A |\n",
            "+-----------------------------------------+------------------------+----------------------+\n",
            "                                                                                         \n",
            "+-----------------------------------------------------------------------------------------+\n",
            "| Processes:                                                                              |\n",
            "|  GPU   GI   CI        PID   Type   Process name                              GPU Memory |\n",
            "|        ID   ID                                                               Usage      |\n",
            "|=========================================================================================|\n",
            "|  No running processes found                                                             |\n",
            "+-----------------------------------------------------------------------------------------+\n"
          ]
        }
      ]
    },
    {
      "cell_type": "code",
      "source": [
        "# Перевірка, які пристрої бачить TensorFlow:\n",
        "import tensorflow as tf\n",
        "print(\"TensorFlow version:\", tf.__version__)\n",
        "print(\"List of physical devices:\", tf.config.list_physical_devices())\n",
        "\n",
        "# Перевірка CPU (виведе модель процесора, кількість ядер тощо):\n",
        "!cat /proc/cpuinfo | grep \"model name\" | uniq"
      ],
      "metadata": {
        "colab": {
          "base_uri": "https://localhost:8080/"
        },
        "id": "aX9K1NsmWlGo",
        "outputId": "021cca13-6537-4544-82b5-6a8154002b77"
      },
      "execution_count": 7,
      "outputs": [
        {
          "output_type": "stream",
          "name": "stdout",
          "text": [
            "TensorFlow version: 2.18.0\n",
            "List of physical devices: [PhysicalDevice(name='/physical_device:CPU:0', device_type='CPU'), PhysicalDevice(name='/physical_device:GPU:0', device_type='GPU')]\n",
            "model name\t: Intel(R) Xeon(R) CPU @ 2.00GHz\n"
          ]
        }
      ]
    },
    {
      "cell_type": "code",
      "source": [
        "!cat /etc/os-release"
      ],
      "metadata": {
        "colab": {
          "base_uri": "https://localhost:8080/"
        },
        "id": "E5maY9rvXIri",
        "outputId": "82584de1-6820-4bfc-b9c5-ec4ac6e42fe1"
      },
      "execution_count": 8,
      "outputs": [
        {
          "output_type": "stream",
          "name": "stdout",
          "text": [
            "PRETTY_NAME=\"Ubuntu 22.04.4 LTS\"\n",
            "NAME=\"Ubuntu\"\n",
            "VERSION_ID=\"22.04\"\n",
            "VERSION=\"22.04.4 LTS (Jammy Jellyfish)\"\n",
            "VERSION_CODENAME=jammy\n",
            "ID=ubuntu\n",
            "ID_LIKE=debian\n",
            "HOME_URL=\"https://www.ubuntu.com/\"\n",
            "SUPPORT_URL=\"https://help.ubuntu.com/\"\n",
            "BUG_REPORT_URL=\"https://bugs.launchpad.net/ubuntu/\"\n",
            "PRIVACY_POLICY_URL=\"https://www.ubuntu.com/legal/terms-and-policies/privacy-policy\"\n",
            "UBUNTU_CODENAME=jammy\n"
          ]
        }
      ]
    },
    {
      "cell_type": "code",
      "source": [
        "!lsb_release -a"
      ],
      "metadata": {
        "colab": {
          "base_uri": "https://localhost:8080/"
        },
        "id": "2fnU7dFVXNjV",
        "outputId": "954545ee-00a0-4dae-9687-8c3db437ee8c"
      },
      "execution_count": 9,
      "outputs": [
        {
          "output_type": "stream",
          "name": "stdout",
          "text": [
            "No LSB modules are available.\n",
            "Distributor ID:\tUbuntu\n",
            "Description:\tUbuntu 22.04.4 LTS\n",
            "Release:\t22.04\n",
            "Codename:\tjammy\n"
          ]
        }
      ]
    },
    {
      "cell_type": "code",
      "execution_count": 10,
      "metadata": {
        "id": "knzBAADPi6sp"
      },
      "outputs": [],
      "source": [
        "# Define models:\n",
        "\n",
        "def train_model(classifier, feature_vector_train, label, feature_vector_valid, is_neural_net=False):\n",
        "    # fit the training dataset on the classifier\n",
        "    classifier.fit(feature_vector_train, label)\n",
        "\n",
        "    # predict the labels on validation dataset\n",
        "    predictions = classifier.predict(feature_vector_valid)\n",
        "\n",
        "    if is_neural_net:\n",
        "        predictions = predictions.argmax(axis=-1)\n",
        "\n",
        "    return metrics.accuracy_score(predictions, valid_y)\n",
        "\n",
        "def train_model2(classifier, feature_vector_train, label, feature_vector_valid, valid_Y, is_neural_net=False):\n",
        "    # fit the training dataset on the classifier\n",
        "    classifier.fit(feature_vector_train, label)\n",
        "\n",
        "    # predict the labels on validation dataset\n",
        "    predictions = classifier.predict(feature_vector_valid)\n",
        "\n",
        "    if is_neural_net:\n",
        "        predictions = predictions.argmax(axis=-1)\n",
        "\n",
        "    return metrics.accuracy_score(predictions, valid_Y)"
      ]
    },
    {
      "cell_type": "code",
      "execution_count": 11,
      "metadata": {
        "id": "yAfQ7puBi6sq"
      },
      "outputs": [],
      "source": [
        "from sklearn.decomposition import PCA\n",
        "from sklearn.decomposition import TruncatedSVD\n",
        "import numpy as np\n",
        "from scipy.sparse import csr_matrix\n",
        "\n",
        "from sklearn.manifold import TSNE\n",
        "from sklearn.cluster import KMeans\n",
        "import time\n",
        "import warnings\n",
        "\n",
        "import matplotlib.pyplot as plt\n",
        "\n",
        "from sklearn import cluster, datasets, mixture\n",
        "from sklearn.neighbors import kneighbors_graph\n",
        "from sklearn.preprocessing import StandardScaler\n",
        "from itertools import cycle, islice\n",
        "\n",
        "import scipy"
      ]
    },
    {
      "cell_type": "code",
      "execution_count": 12,
      "metadata": {
        "id": "GwncsoKci6sr"
      },
      "outputs": [],
      "source": [
        "y_ = np.ones(len(ab))"
      ]
    },
    {
      "cell_type": "code",
      "execution_count": 13,
      "metadata": {
        "id": "BaSBlmubi6sr",
        "outputId": "791649f6-39ef-40fa-f8d1-ea7f78409e9e",
        "colab": {
          "base_uri": "https://localhost:8080/"
        }
      },
      "outputs": [
        {
          "output_type": "execute_result",
          "data": {
            "text/plain": [
              "0.3347182273864746"
            ]
          },
          "metadata": {},
          "execution_count": 13
        }
      ],
      "source": [
        "start_time = time.time()\n",
        "#a = np.reshape(np.array(tempvar),(297*20,60))\n",
        "\n",
        "#base parameters\n",
        "default_base = {'quantile': .3,\n",
        "                'eps': .3,\n",
        "                'damping': .9,\n",
        "                'preference': -200,\n",
        "                'n_neighbors': 10, #maybe more\n",
        "                'n_clusters': 4, #3 is actual number\n",
        "                'min_samples': 20,\n",
        "                'xi': 0.05,\n",
        "                'min_cluster_size': 0.1}\n",
        "\n",
        "params = default_base.copy()\n",
        "\n",
        "pca = TruncatedSVD(n_components=10)\n",
        "pca.fit(ab)\n",
        "#csr_matrix(\n",
        "transformed_ = pca.transform(ab)\n",
        "end_time = time.time()\n",
        "end_time-start_time"
      ]
    },
    {
      "cell_type": "code",
      "execution_count": 14,
      "metadata": {
        "id": "GvJ3CMz1i6ss"
      },
      "outputs": [],
      "source": [
        "#X_embedded2 = X_embedded"
      ]
    },
    {
      "cell_type": "code",
      "execution_count": 15,
      "metadata": {
        "id": "ti2G5fm3i6ss"
      },
      "outputs": [],
      "source": [
        "#X_embedded = transformed_"
      ]
    },
    {
      "cell_type": "code",
      "execution_count": 16,
      "metadata": {
        "id": "rPIffDu_i6ss",
        "outputId": "25d99a87-ae02-49ce-a985-d9d4f488c9c3",
        "colab": {
          "base_uri": "https://localhost:8080/"
        }
      },
      "outputs": [
        {
          "output_type": "execute_result",
          "data": {
            "text/plain": [
              "5.507469177246094e-05"
            ]
          },
          "metadata": {},
          "execution_count": 16
        }
      ],
      "source": [
        "start_time = time.time()\n",
        "#X_embedded = TSNE(n_components=2).fit_transform(transformed_)\n",
        "X_embedded = transformed_\n",
        "end_time = time.time()\n",
        "end_time-start_time"
      ]
    },
    {
      "cell_type": "code",
      "execution_count": 17,
      "metadata": {
        "id": "lXmggtVdi6st"
      },
      "outputs": [],
      "source": [
        "# ============\n",
        "# Create cluster objects\n",
        "# ============\n",
        "\n",
        "\n",
        "\n",
        "two_means = cluster.MiniBatchKMeans(n_clusters=params['n_clusters'])\n",
        "\n",
        "clustering_algorithms = (\n",
        "        ('MBatchKMeans', two_means),\n",
        ")\n",
        "\n",
        "plot_num = 1"
      ]
    },
    {
      "cell_type": "code",
      "execution_count": 18,
      "metadata": {
        "scrolled": true,
        "id": "i0CkOfswi6st",
        "outputId": "8711519c-f6e5-4582-a2da-7283031e0bbc",
        "colab": {
          "base_uri": "https://localhost:8080/",
          "height": 423
        }
      },
      "outputs": [
        {
          "output_type": "execute_result",
          "data": {
            "text/plain": [
              "0.06640195846557617"
            ]
          },
          "metadata": {},
          "execution_count": 18
        },
        {
          "output_type": "display_data",
          "data": {
            "text/plain": [
              "<Figure size 640x480 with 1 Axes>"
            ],
            "image/png": "[encoded data removed]"
          },
          "metadata": {}
        }
      ],
      "source": [
        "for name, algorithm in clustering_algorithms:\n",
        "\n",
        "        t0 = time.time()\n",
        "\n",
        "        # catch warnings related to kneighbors_graph\n",
        "        with warnings.catch_warnings():\n",
        "            warnings.filterwarnings(\n",
        "                \"ignore\",\n",
        "                message=\"the number of connected components of the \" +\n",
        "                \"connectivity matrix is [0-9]{1,2}\" +\n",
        "                \" > 1. Completing it to avoid stopping the tree early.\",\n",
        "                category=UserWarning)\n",
        "            warnings.filterwarnings(\n",
        "                \"ignore\",\n",
        "                message=\"Graph is not fully connected, spectral embedding\" +\n",
        "                \" may not work as expected.\",\n",
        "                category=UserWarning)\n",
        "            algorithm.fit(X_embedded)\n",
        "\n",
        "\n",
        "\n",
        "        t1 = time.time()\n",
        "\n",
        "        if hasattr(algorithm, 'labels_'):\n",
        "            y_pred = algorithm.labels_.astype(int)\n",
        "        else:\n",
        "            y_pred = algorithm.predict(X_embedded)\n",
        "\n",
        "        plt.subplot(1, len(clustering_algorithms), plot_num)\n",
        "\n",
        "        colors = np.array(list(islice(cycle(['#377eb8', '#ff7f00', '#4daf4a',\n",
        "                                             '#f781bf', '#a65628', '#984ea3',\n",
        "                                             '#999999', '#e41a1c', '#dede00']),\n",
        "                                      int(max(y_pred) + 1))))\n",
        "        # add black color for outliers (if any)\n",
        "        colors = np.append(colors, [\"#000000\"])\n",
        "\n",
        "\n",
        "        plt.scatter(X_embedded[:, 0], X_embedded[:, 1], s=2, color=colors[y_pred])\n",
        "\n",
        "        plt.xlim(-2.5, 2.5)\n",
        "        plt.ylim(-2.5, 2.5)\n",
        "        plt.xticks(())\n",
        "        plt.yticks(())\n",
        "\n",
        "        plot_num += 1\n",
        "\n",
        "        # stop, plot only one image\n",
        "        break\n",
        "\n",
        "#plt.show()\n",
        "t1-t0"
      ]
    },
    {
      "cell_type": "code",
      "execution_count": 19,
      "metadata": {
        "id": "I7Owfj0Qi6st",
        "outputId": "9aeabd07-27e4-48e7-9d49-e6bb255b4351",
        "colab": {
          "base_uri": "https://localhost:8080/",
          "height": 528
        }
      },
      "outputs": [
        {
          "output_type": "display_data",
          "data": {
            "text/plain": [
              "<Figure size 600x600 with 2 Axes>"
            ],
            "image/png": "[encoded data removed]"
          },
          "metadata": {}
        }
      ],
      "source": [
        "colors = np.array(list(islice(cycle(['#377eb8', '#ff7f00', '#4daf4a',\n",
        "                                             '#f781bf', '#a65628', '#984ea3',\n",
        "                                             '#999999', '#e41a1c', '#dede00']), int(max(y_pred) + 1))))\n",
        "\n",
        "plt.figure(figsize=(6, 6))\n",
        "plt.scatter(X_embedded[:, 0], X_embedded[:, 1], s=2, c=colors[y_pred])\n",
        "plt.colorbar()\n",
        "plt.show()"
      ]
    },
    {
      "cell_type": "code",
      "execution_count": 20,
      "metadata": {
        "id": "SnBb2R2mi6su",
        "outputId": "6267a96f-8aef-4bf2-f1e1-4a4cc74ca7ad",
        "colab": {
          "base_uri": "https://localhost:8080/"
        }
      },
      "outputs": [
        {
          "output_type": "execute_result",
          "data": {
            "text/plain": [
              "(297,)"
            ]
          },
          "metadata": {},
          "execution_count": 20
        }
      ],
      "source": [
        "y_pred.shape"
      ]
    },
    {
      "cell_type": "code",
      "execution_count": 21,
      "metadata": {
        "id": "xa46Vk3Ui6su"
      },
      "outputs": [],
      "source": [
        "#optional classifiers to choose\n",
        "from sklearn.naive_bayes import MultinomialNB\n",
        "from sklearn.linear_model import LogisticRegression\n",
        "from sklearn.ensemble import RandomForestClassifier\n",
        "from sklearn.svm import LinearSVC\n",
        "from sklearn.neural_network import MLPClassifier\n",
        "from sklearn.neighbors import KNeighborsClassifier\n",
        "from sklearn.svm import SVC\n",
        "from sklearn.gaussian_process import GaussianProcessClassifier\n",
        "from sklearn.gaussian_process.kernels import RBF\n",
        "from sklearn.tree import DecisionTreeClassifier\n",
        "from sklearn.ensemble import RandomForestClassifier, AdaBoostClassifier\n",
        "from sklearn.naive_bayes import GaussianNB\n",
        "from sklearn.discriminant_analysis import QuadraticDiscriminantAnalysis\n",
        "from sklearn.model_selection import cross_val_score\n",
        "import matplotlib.pyplot as plt\n",
        "#import seaborn as sns"
      ]
    },
    {
      "cell_type": "code",
      "execution_count": 22,
      "metadata": {
        "id": "VgQKR2tPi6su"
      },
      "outputs": [],
      "source": [
        "# ab (297x1200)!"
      ]
    },
    {
      "cell_type": "code",
      "execution_count": 23,
      "metadata": {
        "id": "lI2HsX6ri6su",
        "outputId": "b6d7c83f-fb0c-4544-e307-cd67732df84b",
        "colab": {
          "base_uri": "https://localhost:8080/"
        }
      },
      "outputs": [
        {
          "output_type": "execute_result",
          "data": {
            "text/plain": [
              "0.004369974136352539"
            ]
          },
          "metadata": {},
          "execution_count": 23
        }
      ],
      "source": [
        "start_time = time.time()\n",
        "train_x, valid_x, train_y, valid_y = model_selection.train_test_split(X_embedded, y_pred)\n",
        "end_time = time.time()\n",
        "end_time-start_time"
      ]
    },
    {
      "cell_type": "code",
      "execution_count": 24,
      "metadata": {
        "id": "-VE5h4XSi6sv"
      },
      "outputs": [],
      "source": [
        "import numpy as np\n",
        "#import pandas as pd\n",
        "import os\n",
        "\n",
        "import tensorflow as tf\n",
        "#import tensorflow_addons as tfa #none\n",
        "from tensorflow.keras import layers\n",
        "\n",
        "import matplotlib.pyplot as plt\n",
        "from IPython import display\n",
        "from IPython.display import clear_output\n",
        "\n",
        "import glob\n",
        "#import imageio\n",
        "import time\n",
        "import IPython.display as ipd\n",
        "\n",
        "#AUTOTUNE = tf.data.experimental.AUTOTUNE"
      ]
    },
    {
      "cell_type": "code",
      "execution_count": 25,
      "metadata": {
        "id": "XalkKf_6i6sv"
      },
      "outputs": [],
      "source": [
        "# Shallow Neural Networks\n",
        "# model nx100xn\n",
        "\n",
        "import numpy as np\n",
        "import scipy.sparse\n",
        "import tensorflow as tf\n",
        "\n",
        "import tensorflow.keras\n",
        "from tensorflow.keras import layers\n",
        "from tensorflow.keras import regularizers"
      ]
    },
    {
      "cell_type": "code",
      "execution_count": 26,
      "metadata": {
        "id": "9nCoLZd7i6sv"
      },
      "outputs": [],
      "source": [
        "import tensorflow.keras as keras\n",
        "from tensorflow.keras import backend as K"
      ]
    },
    {
      "cell_type": "code",
      "execution_count": 27,
      "metadata": {
        "id": "M9H0QwSvi6sv"
      },
      "outputs": [],
      "source": [
        "from tensorflow.keras.layers import Input, Dense, Flatten, Reshape\n",
        "from tensorflow.keras.models import Model"
      ]
    },
    {
      "cell_type": "code",
      "execution_count": 28,
      "metadata": {
        "id": "wsHtvAYji6sv"
      },
      "outputs": [],
      "source": [
        "def create_dense_ae():\n",
        "    # Розмірність кодованого простору\n",
        "    hidden_dim = 60\n",
        "    encoding_dim = 2\n",
        "\n",
        "    # Кодувальник\n",
        "    input = Input(shape=(10*1, )) # 10*1,  - розмірність вхідного шару\n",
        "    # Додатковий шар для кодування вхідного представлення\n",
        "    flat = Flatten()(input)\n",
        "\n",
        "    hidden = Dense(hidden_dim, activation='relu')(flat)\n",
        "    hidden2 = Dense(hidden_dim, activation='relu')(hidden)\n",
        "    # Приховане подання кодувальника\n",
        "    encoded = Dense(encoding_dim, activation='relu')(hidden2)\n",
        "\n",
        "    # Декодувальник\n",
        "    # Аналогічним чином, але послідовність шарів протилежна кодувальнику\n",
        "    input_encoded = Input(shape=(encoding_dim,))\n",
        "    hidden_encoded = Dense(hidden_dim, activation='sigmoid')(input_encoded)\n",
        "    hidden_encoded2 = Dense(hidden_dim, activation='sigmoid')(hidden_encoded)\n",
        "\n",
        "    flat_decoded = Dense(10*1, activation='sigmoid')(hidden_encoded2)\n",
        "    decoded = Reshape((10*1, ))(flat_decoded)\n",
        "\n",
        "    # Таким чином можна подати окремо модель як для кодувальника так і декодувальника\n",
        "    # Або подавати шари окермо\n",
        "    encoder = Model(input, encoded, name=\"encoder\")\n",
        "    decoder = Model(input_encoded, decoded, name=\"decoder\")\n",
        "    autoencoder = Model(input, decoder(encoder(input)), name=\"autoencoder\")\n",
        "    return encoder, decoder, autoencoder"
      ]
    },
    {
      "cell_type": "code",
      "execution_count": 29,
      "metadata": {
        "id": "HPKG2myHi6sw"
      },
      "outputs": [],
      "source": [
        "# перелік наявних пристроїв (у випадку TF-DML)"
      ]
    },
    {
      "cell_type": "code",
      "execution_count": 30,
      "metadata": {
        "id": "saf7akn4i6sw",
        "outputId": "b39e192a-ff1e-4af5-d47f-c41b02d87638",
        "colab": {
          "base_uri": "https://localhost:8080/"
        }
      },
      "outputs": [
        {
          "output_type": "execute_result",
          "data": {
            "text/plain": [
              "[PhysicalDevice(name='/physical_device:CPU:0', device_type='CPU'),\n",
              " PhysicalDevice(name='/physical_device:GPU:0', device_type='GPU')]"
            ]
          },
          "metadata": {},
          "execution_count": 30
        }
      ],
      "source": [
        "tf.config.list_physical_devices()"
      ]
    },
    {
      "cell_type": "code",
      "execution_count": 34,
      "metadata": {
        "id": "hkWK0oU2i6sw"
      },
      "outputs": [],
      "source": [
        "with tf.device(\"/device:GPU:0\"): # /device:DML:0 для версії 1.15\n",
        "    encoder, decoder, autoencoder = create_dense_ae()\n",
        "    autoencoder.compile(optimizer='adam', loss='binary_crossentropy', metrics=[\"accuracy\"])"
      ]
    },
    {
      "cell_type": "code",
      "execution_count": 32,
      "metadata": {
        "id": "UAcbw9_gi6sx"
      },
      "outputs": [],
      "source": [
        "# якщо все гаразд, у консолі Conda має бути подібний текст:\n",
        "# tensorflow/c/logging.cc:34] DirectML: creating device on adapter 0 (___ім'я вашої відеокарти___)\n",
        "# tensorflow/c/logging.cc:34] Successfully opened dynamic library Kernel32.dll\n",
        "# tensorflow/core/common_runtime/pluggable_device/pluggable_device_factory.cc:272]\n",
        "# Created TensorFlow device (/job:localhost/replica:0/task:0/device:GPU:0 with XXXX MB memory) -> physical PluggableDevice (device: 0, name: DML, pci bus id: <undefined>)\n",
        "\n",
        "# зазвичай обсяг пам'яті може бути вищим через віртуальну пам'ять системи, наприклад 8192 замість 4096 МB, якщо відеокарта на 4096 MB"
      ]
    },
    {
      "cell_type": "code",
      "execution_count": 35,
      "metadata": {
        "id": "gJN7vhp2i6sx"
      },
      "outputs": [],
      "source": [
        "# якщо немає відеокарти як такої (наприклад, якщо є процесор з ARM архітектурою без виділеного відеоядра), можливо написати і так:"
      ]
    },
    {
      "cell_type": "code",
      "execution_count": null,
      "metadata": {
        "id": "E6tOBZiBi6sx"
      },
      "outputs": [],
      "source": [
        "#with tf.device(\"/device:CPU:0\"):\n",
        "#    encoder, decoder, autoencoder = create_dense_ae()\n",
        "#    autoencoder.compile(optimizer='adam', loss='binary_crossentropy', metrics=[\"accuracy\"])"
      ]
    },
    {
      "cell_type": "code",
      "execution_count": 36,
      "metadata": {
        "id": "dG2g1TKoi6sx",
        "outputId": "f580a678-9979-4bf6-a8e8-f7d22cb5a099",
        "colab": {
          "base_uri": "https://localhost:8080/",
          "height": 234
        }
      },
      "outputs": [
        {
          "output_type": "display_data",
          "data": {
            "text/plain": [
              "\u001b[1mModel: \"autoencoder\"\u001b[0m\n"
            ],
            "text/html": [
              "<pre style=\"white-space:pre;overflow-x:auto;line-height:normal;font-family:Menlo,'DejaVu Sans Mono',consolas,'Courier New',monospace\"><span style=\"font-weight: bold\">Model: \"autoencoder\"</span>\n",
              "</pre>\n"
            ]
          },
          "metadata": {}
        },
        {
          "output_type": "display_data",
          "data": {
            "text/plain": [
              "┏━━━━━━━━━━━━━━━━━━━━━━━━━━━━━━━━━━━━━━┳━━━━━━━━━━━━━━━━━━━━━━━━━━━━━┳━━━━━━━━━━━━━━━━━┓\n",
              "┃\u001b[1m \u001b[0m\u001b[1mLayer (type)                        \u001b[0m\u001b[1m \u001b[0m┃\u001b[1m \u001b[0m\u001b[1mOutput Shape               \u001b[0m\u001b[1m \u001b[0m┃\u001b[1m \u001b[0m\u001b[1m        Param #\u001b[0m\u001b[1m \u001b[0m┃\n",
              "┡━━━━━━━━━━━━━━━━━━━━━━━━━━━━━━━━━━━━━━╇━━━━━━━━━━━━━━━━━━━━━━━━━━━━━╇━━━━━━━━━━━━━━━━━┩\n",
              "│ input_layer_2 (\u001b[38;5;33mInputLayer\u001b[0m)           │ (\u001b[38;5;45mNone\u001b[0m, \u001b[38;5;34m10\u001b[0m)                  │               \u001b[38;5;34m0\u001b[0m │\n",
              "├──────────────────────────────────────┼─────────────────────────────┼─────────────────┤\n",
              "│ encoder (\u001b[38;5;33mFunctional\u001b[0m)                 │ (\u001b[38;5;45mNone\u001b[0m, \u001b[38;5;34m2\u001b[0m)                   │           \u001b[38;5;34m4,442\u001b[0m │\n",
              "├──────────────────────────────────────┼─────────────────────────────┼─────────────────┤\n",
              "│ decoder (\u001b[38;5;33mFunctional\u001b[0m)                 │ (\u001b[38;5;45mNone\u001b[0m, \u001b[38;5;34m10\u001b[0m)                  │           \u001b[38;5;34m4,450\u001b[0m │\n",
              "└──────────────────────────────────────┴─────────────────────────────┴─────────────────┘\n"
            ],
            "text/html": [
              "<pre style=\"white-space:pre;overflow-x:auto;line-height:normal;font-family:Menlo,'DejaVu Sans Mono',consolas,'Courier New',monospace\">┏━━━━━━━━━━━━━━━━━━━━━━━━━━━━━━━━━━━━━━┳━━━━━━━━━━━━━━━━━━━━━━━━━━━━━┳━━━━━━━━━━━━━━━━━┓\n",
              "┃<span style=\"font-weight: bold\"> Layer (type)                         </span>┃<span style=\"font-weight: bold\"> Output Shape                </span>┃<span style=\"font-weight: bold\">         Param # </span>┃\n",
              "┡━━━━━━━━━━━━━━━━━━━━━━━━━━━━━━━━━━━━━━╇━━━━━━━━━━━━━━━━━━━━━━━━━━━━━╇━━━━━━━━━━━━━━━━━┩\n",
              "│ input_layer_2 (<span style=\"color: #0087ff; text-decoration-color: #0087ff\">InputLayer</span>)           │ (<span style=\"color: #00d7ff; text-decoration-color: #00d7ff\">None</span>, <span style=\"color: #00af00; text-decoration-color: #00af00\">10</span>)                  │               <span style=\"color: #00af00; text-decoration-color: #00af00\">0</span> │\n",
              "├──────────────────────────────────────┼─────────────────────────────┼─────────────────┤\n",
              "│ encoder (<span style=\"color: #0087ff; text-decoration-color: #0087ff\">Functional</span>)                 │ (<span style=\"color: #00d7ff; text-decoration-color: #00d7ff\">None</span>, <span style=\"color: #00af00; text-decoration-color: #00af00\">2</span>)                   │           <span style=\"color: #00af00; text-decoration-color: #00af00\">4,442</span> │\n",
              "├──────────────────────────────────────┼─────────────────────────────┼─────────────────┤\n",
              "│ decoder (<span style=\"color: #0087ff; text-decoration-color: #0087ff\">Functional</span>)                 │ (<span style=\"color: #00d7ff; text-decoration-color: #00d7ff\">None</span>, <span style=\"color: #00af00; text-decoration-color: #00af00\">10</span>)                  │           <span style=\"color: #00af00; text-decoration-color: #00af00\">4,450</span> │\n",
              "└──────────────────────────────────────┴─────────────────────────────┴─────────────────┘\n",
              "</pre>\n"
            ]
          },
          "metadata": {}
        },
        {
          "output_type": "display_data",
          "data": {
            "text/plain": [
              "\u001b[1m Total params: \u001b[0m\u001b[38;5;34m8,892\u001b[0m (34.73 KB)\n"
            ],
            "text/html": [
              "<pre style=\"white-space:pre;overflow-x:auto;line-height:normal;font-family:Menlo,'DejaVu Sans Mono',consolas,'Courier New',monospace\"><span style=\"font-weight: bold\"> Total params: </span><span style=\"color: #00af00; text-decoration-color: #00af00\">8,892</span> (34.73 KB)\n",
              "</pre>\n"
            ]
          },
          "metadata": {}
        },
        {
          "output_type": "display_data",
          "data": {
            "text/plain": [
              "\u001b[1m Trainable params: \u001b[0m\u001b[38;5;34m8,892\u001b[0m (34.73 KB)\n"
            ],
            "text/html": [
              "<pre style=\"white-space:pre;overflow-x:auto;line-height:normal;font-family:Menlo,'DejaVu Sans Mono',consolas,'Courier New',monospace\"><span style=\"font-weight: bold\"> Trainable params: </span><span style=\"color: #00af00; text-decoration-color: #00af00\">8,892</span> (34.73 KB)\n",
              "</pre>\n"
            ]
          },
          "metadata": {}
        },
        {
          "output_type": "display_data",
          "data": {
            "text/plain": [
              "\u001b[1m Non-trainable params: \u001b[0m\u001b[38;5;34m0\u001b[0m (0.00 B)\n"
            ],
            "text/html": [
              "<pre style=\"white-space:pre;overflow-x:auto;line-height:normal;font-family:Menlo,'DejaVu Sans Mono',consolas,'Courier New',monospace\"><span style=\"font-weight: bold\"> Non-trainable params: </span><span style=\"color: #00af00; text-decoration-color: #00af00\">0</span> (0.00 B)\n",
              "</pre>\n"
            ]
          },
          "metadata": {}
        }
      ],
      "source": [
        "autoencoder.summary()"
      ]
    },
    {
      "cell_type": "code",
      "execution_count": 37,
      "metadata": {
        "id": "QrCIdlz2i6sy",
        "outputId": "edb6b3a0-d11e-4b83-920a-fd9299c99382",
        "colab": {
          "base_uri": "https://localhost:8080/"
        }
      },
      "outputs": [
        {
          "output_type": "stream",
          "name": "stdout",
          "text": [
            "Epoch 1/500\n",
            "\u001b[1m5/5\u001b[0m \u001b[32m━━━━━━━━━━━━━━━━━━━━\u001b[0m\u001b[37m\u001b[0m \u001b[1m6s\u001b[0m 480ms/step - accuracy: 0.0631 - loss: 0.6100 - val_accuracy: 0.0667 - val_loss: 0.4792\n",
            "Epoch 2/500\n",
            "\u001b[1m5/5\u001b[0m \u001b[32m━━━━━━━━━━━━━━━━━━━━\u001b[0m\u001b[37m\u001b[0m \u001b[1m2s\u001b[0m 17ms/step - accuracy: 0.0747 - loss: 0.3170 - val_accuracy: 0.0933 - val_loss: 0.2692\n",
            "Epoch 3/500\n",
            "\u001b[1m5/5\u001b[0m \u001b[32m━━━━━━━━━━━━━━━━━━━━\u001b[0m\u001b[37m\u001b[0m \u001b[1m0s\u001b[0m 16ms/step - accuracy: 0.1845 - loss: 0.1408 - val_accuracy: 0.4400 - val_loss: 0.0665\n",
            "Epoch 4/500\n",
            "\u001b[1m5/5\u001b[0m \u001b[32m━━━━━━━━━━━━━━━━━━━━\u001b[0m\u001b[37m\u001b[0m \u001b[1m0s\u001b[0m 15ms/step - accuracy: 0.4927 - loss: -0.0879 - val_accuracy: 0.4400 - val_loss: -0.1279\n",
            "Epoch 5/500\n",
            "\u001b[1m5/5\u001b[0m \u001b[32m━━━━━━━━━━━━━━━━━━━━\u001b[0m\u001b[37m\u001b[0m \u001b[1m0s\u001b[0m 16ms/step - accuracy: 0.4871 - loss: -0.3356 - val_accuracy: 0.4400 - val_loss: -0.3198\n",
            "Epoch 6/500\n",
            "\u001b[1m5/5\u001b[0m \u001b[32m━━━━━━━━━━━━━━━━━━━━\u001b[0m\u001b[37m\u001b[0m \u001b[1m0s\u001b[0m 17ms/step - accuracy: 0.4568 - loss: -0.4941 - val_accuracy: 0.4400 - val_loss: -0.5092\n",
            "Epoch 7/500\n",
            "\u001b[1m5/5\u001b[0m \u001b[32m━━━━━━━━━━━━━━━━━━━━\u001b[0m\u001b[37m\u001b[0m \u001b[1m0s\u001b[0m 16ms/step - accuracy: 0.4938 - loss: -0.7865 - val_accuracy: 0.4400 - val_loss: -0.6945\n",
            "Epoch 8/500\n",
            "\u001b[1m5/5\u001b[0m \u001b[32m━━━━━━━━━━━━━━━━━━━━\u001b[0m\u001b[37m\u001b[0m \u001b[1m0s\u001b[0m 16ms/step - accuracy: 0.5096 - loss: -1.0485 - val_accuracy: 0.4400 - val_loss: -0.8785\n",
            "Epoch 9/500\n",
            "\u001b[1m5/5\u001b[0m \u001b[32m━━━━━━━━━━━━━━━━━━━━\u001b[0m\u001b[37m\u001b[0m \u001b[1m0s\u001b[0m 16ms/step - accuracy: 0.4782 - loss: -1.1880 - val_accuracy: 0.4400 - val_loss: -1.0611\n",
            "Epoch 10/500\n",
            "\u001b[1m5/5\u001b[0m \u001b[32m━━━━━━━━━━━━━━━━━━━━\u001b[0m\u001b[37m\u001b[0m \u001b[1m0s\u001b[0m 17ms/step - accuracy: 0.5149 - loss: -1.5074 - val_accuracy: 0.4400 - val_loss: -1.2373\n",
            "Epoch 11/500\n",
            "\u001b[1m5/5\u001b[0m \u001b[32m━━━━━━━━━━━━━━━━━━━━\u001b[0m\u001b[37m\u001b[0m \u001b[1m0s\u001b[0m 16ms/step - accuracy: 0.4913 - loss: -1.6049 - val_accuracy: 0.4400 - val_loss: -1.4073\n",
            "Epoch 12/500\n",
            "\u001b[1m5/5\u001b[0m \u001b[32m━━━━━━━━━━━━━━━━━━━━\u001b[0m\u001b[37m\u001b[0m \u001b[1m0s\u001b[0m 15ms/step - accuracy: 0.4824 - loss: -1.6686 - val_accuracy: 0.4400 - val_loss: -1.5726\n",
            "Epoch 13/500\n",
            "\u001b[1m5/5\u001b[0m \u001b[32m━━━━━━━━━━━━━━━━━━━━\u001b[0m\u001b[37m\u001b[0m \u001b[1m0s\u001b[0m 16ms/step - accuracy: 0.5063 - loss: -2.0222 - val_accuracy: 0.4400 - val_loss: -1.7322\n",
            "Epoch 14/500\n",
            "\u001b[1m5/5\u001b[0m \u001b[32m━━━━━━━━━━━━━━━━━━━━\u001b[0m\u001b[37m\u001b[0m \u001b[1m0s\u001b[0m 16ms/step - accuracy: 0.4999 - loss: -2.2540 - val_accuracy: 0.4400 - val_loss: -1.8848\n",
            "Epoch 15/500\n",
            "\u001b[1m5/5\u001b[0m \u001b[32m━━━━━━━━━━━━━━━━━━━━\u001b[0m\u001b[37m\u001b[0m \u001b[1m0s\u001b[0m 17ms/step - accuracy: 0.5041 - loss: -2.4380 - val_accuracy: 0.4400 - val_loss: -2.0319\n",
            "Epoch 16/500\n",
            "\u001b[1m5/5\u001b[0m \u001b[32m━━━━━━━━━━━━━━━━━━━━\u001b[0m\u001b[37m\u001b[0m \u001b[1m0s\u001b[0m 15ms/step - accuracy: 0.4871 - loss: -2.4582 - val_accuracy: 0.4400 - val_loss: -2.1778\n",
            "Epoch 17/500\n",
            "\u001b[1m5/5\u001b[0m \u001b[32m━━━━━━━━━━━━━━━━━━━━\u001b[0m\u001b[37m\u001b[0m \u001b[1m0s\u001b[0m 15ms/step - accuracy: 0.4818 - loss: -2.6045 - val_accuracy: 0.4400 - val_loss: -2.3214\n",
            "Epoch 18/500\n",
            "\u001b[1m5/5\u001b[0m \u001b[32m━━━━━━━━━━━━━━━━━━━━\u001b[0m\u001b[37m\u001b[0m \u001b[1m0s\u001b[0m 16ms/step - accuracy: 0.4818 - loss: -2.6641 - val_accuracy: 0.4400 - val_loss: -2.4624\n",
            "Epoch 19/500\n",
            "\u001b[1m5/5\u001b[0m \u001b[32m━━━━━━━━━━━━━━━━━━━━\u001b[0m\u001b[37m\u001b[0m \u001b[1m0s\u001b[0m 15ms/step - accuracy: 0.4877 - loss: -2.9810 - val_accuracy: 0.4400 - val_loss: -2.6011\n",
            "Epoch 20/500\n",
            "\u001b[1m5/5\u001b[0m \u001b[32m━━━━━━━━━━━━━━━━━━━━\u001b[0m\u001b[37m\u001b[0m \u001b[1m0s\u001b[0m 16ms/step - accuracy: 0.5185 - loss: -3.2109 - val_accuracy: 0.4400 - val_loss: -2.7377\n",
            "Epoch 21/500\n",
            "\u001b[1m5/5\u001b[0m \u001b[32m━━━━━━━━━━━━━━━━━━━━\u001b[0m\u001b[37m\u001b[0m \u001b[1m0s\u001b[0m 15ms/step - accuracy: 0.4666 - loss: -3.0328 - val_accuracy: 0.4400 - val_loss: -2.8772\n",
            "Epoch 22/500\n",
            "\u001b[1m5/5\u001b[0m \u001b[32m━━━━━━━━━━━━━━━━━━━━\u001b[0m\u001b[37m\u001b[0m \u001b[1m0s\u001b[0m 15ms/step - accuracy: 0.4993 - loss: -3.5438 - val_accuracy: 0.4400 - val_loss: -3.0154\n",
            "Epoch 23/500\n",
            "\u001b[1m5/5\u001b[0m \u001b[32m━━━━━━━━━━━━━━━━━━━━\u001b[0m\u001b[37m\u001b[0m \u001b[1m0s\u001b[0m 16ms/step - accuracy: 0.4999 - loss: -3.6139 - val_accuracy: 0.4400 - val_loss: -3.1559\n",
            "Epoch 24/500\n",
            "\u001b[1m5/5\u001b[0m \u001b[32m━━━━━━━━━━━━━━━━━━━━\u001b[0m\u001b[37m\u001b[0m \u001b[1m0s\u001b[0m 17ms/step - accuracy: 0.4899 - loss: -3.8990 - val_accuracy: 0.4400 - val_loss: -3.2995\n",
            "Epoch 25/500\n",
            "\u001b[1m5/5\u001b[0m \u001b[32m━━━━━━━━━━━━━━━━━━━━\u001b[0m\u001b[37m\u001b[0m \u001b[1m0s\u001b[0m 16ms/step - accuracy: 0.4891 - loss: -3.9355 - val_accuracy: 0.4400 - val_loss: -3.4408\n",
            "Epoch 26/500\n",
            "\u001b[1m5/5\u001b[0m \u001b[32m━━━━━━━━━━━━━━━━━━━━\u001b[0m\u001b[37m\u001b[0m \u001b[1m0s\u001b[0m 15ms/step - accuracy: 0.4921 - loss: -3.9900 - val_accuracy: 0.4400 - val_loss: -3.5848\n",
            "Epoch 27/500\n",
            "\u001b[1m5/5\u001b[0m \u001b[32m━━━━━━━━━━━━━━━━━━━━\u001b[0m\u001b[37m\u001b[0m \u001b[1m0s\u001b[0m 15ms/step - accuracy: 0.4985 - loss: -4.3438 - val_accuracy: 0.4400 - val_loss: -3.7305\n",
            "Epoch 28/500\n",
            "\u001b[1m5/5\u001b[0m \u001b[32m━━━━━━━━━━━━━━━━━━━━\u001b[0m\u001b[37m\u001b[0m \u001b[1m0s\u001b[0m 16ms/step - accuracy: 0.4982 - loss: -4.3989 - val_accuracy: 0.4400 - val_loss: -3.8811\n",
            "Epoch 29/500\n",
            "\u001b[1m5/5\u001b[0m \u001b[32m━━━━━━━━━━━━━━━━━━━━\u001b[0m\u001b[37m\u001b[0m \u001b[1m0s\u001b[0m 16ms/step - accuracy: 0.5066 - loss: -4.6720 - val_accuracy: 0.4400 - val_loss: -4.0330\n",
            "Epoch 30/500\n",
            "\u001b[1m5/5\u001b[0m \u001b[32m━━━━━━━━━━━━━━━━━━━━\u001b[0m\u001b[37m\u001b[0m \u001b[1m0s\u001b[0m 16ms/step - accuracy: 0.5204 - loss: -4.9815 - val_accuracy: 0.4400 - val_loss: -4.1836\n",
            "Epoch 31/500\n",
            "\u001b[1m5/5\u001b[0m \u001b[32m━━━━━━━━━━━━━━━━━━━━\u001b[0m\u001b[37m\u001b[0m \u001b[1m0s\u001b[0m 16ms/step - accuracy: 0.5123 - loss: -4.8430 - val_accuracy: 0.6800 - val_loss: -4.3377\n",
            "Epoch 32/500\n",
            "\u001b[1m5/5\u001b[0m \u001b[32m━━━━━━━━━━━━━━━━━━━━\u001b[0m\u001b[37m\u001b[0m \u001b[1m0s\u001b[0m 15ms/step - accuracy: 0.6497 - loss: -4.9901 - val_accuracy: 0.6800 - val_loss: -4.4947\n",
            "Epoch 33/500\n",
            "\u001b[1m5/5\u001b[0m \u001b[32m━━━━━━━━━━━━━━━━━━━━\u001b[0m\u001b[37m\u001b[0m \u001b[1m0s\u001b[0m 18ms/step - accuracy: 0.6383 - loss: -4.8963 - val_accuracy: 0.6800 - val_loss: -4.6518\n",
            "Epoch 34/500\n",
            "\u001b[1m5/5\u001b[0m \u001b[32m━━━━━━━━━━━━━━━━━━━━\u001b[0m\u001b[37m\u001b[0m \u001b[1m0s\u001b[0m 15ms/step - accuracy: 0.6828 - loss: -5.4016 - val_accuracy: 0.6800 - val_loss: -4.8124\n",
            "Epoch 35/500\n",
            "\u001b[1m5/5\u001b[0m \u001b[32m━━━━━━━━━━━━━━━━━━━━\u001b[0m\u001b[37m\u001b[0m \u001b[1m0s\u001b[0m 15ms/step - accuracy: 0.6617 - loss: -5.5112 - val_accuracy: 0.6800 - val_loss: -4.9735\n",
            "Epoch 36/500\n",
            "\u001b[1m5/5\u001b[0m \u001b[32m━━━━━━━━━━━━━━━━━━━━\u001b[0m\u001b[37m\u001b[0m \u001b[1m0s\u001b[0m 32ms/step - accuracy: 0.6864 - loss: -5.9463 - val_accuracy: 0.6800 - val_loss: -5.1377\n",
            "Epoch 37/500\n",
            "\u001b[1m5/5\u001b[0m \u001b[32m━━━━━━━━━━━━━━━━━━━━\u001b[0m\u001b[37m\u001b[0m \u001b[1m0s\u001b[0m 31ms/step - accuracy: 0.6683 - loss: -6.1166 - val_accuracy: 0.6800 - val_loss: -5.3019\n",
            "Epoch 38/500\n",
            "\u001b[1m5/5\u001b[0m \u001b[32m━━━━━━━━━━━━━━━━━━━━\u001b[0m\u001b[37m\u001b[0m \u001b[1m0s\u001b[0m 30ms/step - accuracy: 0.6603 - loss: -5.8240 - val_accuracy: 0.6800 - val_loss: -5.4713\n",
            "Epoch 39/500\n",
            "\u001b[1m5/5\u001b[0m \u001b[32m━━━━━━━━━━━━━━━━━━━━\u001b[0m\u001b[37m\u001b[0m \u001b[1m0s\u001b[0m 28ms/step - accuracy: 0.7072 - loss: -6.6393 - val_accuracy: 0.6800 - val_loss: -5.6382\n",
            "Epoch 40/500\n",
            "\u001b[1m5/5\u001b[0m \u001b[32m━━━━━━━━━━━━━━━━━━━━\u001b[0m\u001b[37m\u001b[0m \u001b[1m0s\u001b[0m 23ms/step - accuracy: 0.7028 - loss: -6.7059 - val_accuracy: 0.6800 - val_loss: -5.8083\n",
            "Epoch 41/500\n",
            "\u001b[1m5/5\u001b[0m \u001b[32m━━━━━━━━━━━━━━━━━━━━\u001b[0m\u001b[37m\u001b[0m \u001b[1m0s\u001b[0m 33ms/step - accuracy: 0.6800 - loss: -6.6125 - val_accuracy: 0.6800 - val_loss: -5.9710\n",
            "Epoch 42/500\n",
            "\u001b[1m5/5\u001b[0m \u001b[32m━━━━━━━━━━━━━━━━━━━━\u001b[0m\u001b[37m\u001b[0m \u001b[1m0s\u001b[0m 30ms/step - accuracy: 0.6642 - loss: -6.6444 - val_accuracy: 0.6800 - val_loss: -6.1418\n",
            "Epoch 43/500\n",
            "\u001b[1m5/5\u001b[0m \u001b[32m━━━━━━━━━━━━━━━━━━━━\u001b[0m\u001b[37m\u001b[0m \u001b[1m0s\u001b[0m 34ms/step - accuracy: 0.6428 - loss: -6.6030 - val_accuracy: 0.6800 - val_loss: -6.3098\n",
            "Epoch 44/500\n",
            "\u001b[1m5/5\u001b[0m \u001b[32m━━━━━━━━━━━━━━━━━━━━\u001b[0m\u001b[37m\u001b[0m \u001b[1m0s\u001b[0m 19ms/step - accuracy: 0.6514 - loss: -7.0737 - val_accuracy: 0.6800 - val_loss: -6.4844\n",
            "Epoch 45/500\n",
            "\u001b[1m5/5\u001b[0m \u001b[32m━━━━━━━━━━━━━━━━━━━━\u001b[0m\u001b[37m\u001b[0m \u001b[1m0s\u001b[0m 16ms/step - accuracy: 0.6689 - loss: -7.5864 - val_accuracy: 0.6800 - val_loss: -6.6584\n",
            "Epoch 46/500\n",
            "\u001b[1m5/5\u001b[0m \u001b[32m━━━━━━━━━━━━━━━━━━━━\u001b[0m\u001b[37m\u001b[0m \u001b[1m0s\u001b[0m 15ms/step - accuracy: 0.6578 - loss: -7.5597 - val_accuracy: 0.6800 - val_loss: -6.8220\n",
            "Epoch 47/500\n",
            "\u001b[1m5/5\u001b[0m \u001b[32m━━━━━━━━━━━━━━━━━━━━\u001b[0m\u001b[37m\u001b[0m \u001b[1m0s\u001b[0m 16ms/step - accuracy: 0.6628 - loss: -7.7866 - val_accuracy: 0.6800 - val_loss: -7.0007\n",
            "Epoch 48/500\n",
            "\u001b[1m5/5\u001b[0m \u001b[32m━━━━━━━━━━━━━━━━━━━━\u001b[0m\u001b[37m\u001b[0m \u001b[1m0s\u001b[0m 16ms/step - accuracy: 0.6803 - loss: -8.2063 - val_accuracy: 0.6800 - val_loss: -7.2130\n",
            "Epoch 49/500\n",
            "\u001b[1m5/5\u001b[0m \u001b[32m━━━━━━━━━━━━━━━━━━━━\u001b[0m\u001b[37m\u001b[0m \u001b[1m0s\u001b[0m 16ms/step - accuracy: 0.6625 - loss: -8.2707 - val_accuracy: 0.6800 - val_loss: -7.3841\n",
            "Epoch 50/500\n",
            "\u001b[1m5/5\u001b[0m \u001b[32m━━━━━━━━━━━━━━━━━━━━\u001b[0m\u001b[37m\u001b[0m \u001b[1m0s\u001b[0m 16ms/step - accuracy: 0.6583 - loss: -8.5914 - val_accuracy: 0.6800 - val_loss: -7.5807\n",
            "Epoch 51/500\n",
            "\u001b[1m5/5\u001b[0m \u001b[32m━━━━━━━━━━━━━━━━━━━━\u001b[0m\u001b[37m\u001b[0m \u001b[1m0s\u001b[0m 15ms/step - accuracy: 0.6414 - loss: -8.1304 - val_accuracy: 0.6800 - val_loss: -7.6730\n",
            "Epoch 52/500\n",
            "\u001b[1m5/5\u001b[0m \u001b[32m━━━━━━━━━━━━━━━━━━━━\u001b[0m\u001b[37m\u001b[0m \u001b[1m0s\u001b[0m 15ms/step - accuracy: 0.6597 - loss: -8.7607 - val_accuracy: 0.6800 - val_loss: -7.9130\n",
            "Epoch 53/500\n",
            "\u001b[1m5/5\u001b[0m \u001b[32m━━━━━━━━━━━━━━━━━━━━\u001b[0m\u001b[37m\u001b[0m \u001b[1m0s\u001b[0m 15ms/step - accuracy: 0.6878 - loss: -9.1253 - val_accuracy: 0.6800 - val_loss: -7.9953\n",
            "Epoch 54/500\n",
            "\u001b[1m5/5\u001b[0m \u001b[32m━━━━━━━━━━━━━━━━━━━━\u001b[0m\u001b[37m\u001b[0m \u001b[1m0s\u001b[0m 15ms/step - accuracy: 0.6553 - loss: -8.7732 - val_accuracy: 0.6800 - val_loss: -8.3470\n",
            "Epoch 55/500\n",
            "\u001b[1m5/5\u001b[0m \u001b[32m━━━━━━━━━━━━━━━━━━━━\u001b[0m\u001b[37m\u001b[0m \u001b[1m0s\u001b[0m 15ms/step - accuracy: 0.6672 - loss: -9.6933 - val_accuracy: 0.6800 - val_loss: -8.4317\n",
            "Epoch 56/500\n",
            "\u001b[1m5/5\u001b[0m \u001b[32m━━━━━━━━━━━━━━━━━━━━\u001b[0m\u001b[37m\u001b[0m \u001b[1m0s\u001b[0m 20ms/step - accuracy: 0.6950 - loss: -9.5843 - val_accuracy: 0.6800 - val_loss: -8.5192\n",
            "Epoch 57/500\n",
            "\u001b[1m5/5\u001b[0m \u001b[32m━━━━━━━━━━━━━━━━━━━━\u001b[0m\u001b[37m\u001b[0m \u001b[1m0s\u001b[0m 16ms/step - accuracy: 0.6675 - loss: -9.2603 - val_accuracy: 0.6800 - val_loss: -8.6040\n",
            "Epoch 58/500\n",
            "\u001b[1m5/5\u001b[0m \u001b[32m━━━━━━━━━━━━━━━━━━━━\u001b[0m\u001b[37m\u001b[0m \u001b[1m0s\u001b[0m 16ms/step - accuracy: 0.6664 - loss: -9.7716 - val_accuracy: 0.6800 - val_loss: -8.6809\n",
            "Epoch 59/500\n",
            "\u001b[1m5/5\u001b[0m \u001b[32m━━━━━━━━━━━━━━━━━━━━\u001b[0m\u001b[37m\u001b[0m \u001b[1m0s\u001b[0m 16ms/step - accuracy: 0.6578 - loss: -9.6613 - val_accuracy: 0.6800 - val_loss: -8.7852\n",
            "Epoch 60/500\n",
            "\u001b[1m5/5\u001b[0m \u001b[32m━━━━━━━━━━━━━━━━━━━━\u001b[0m\u001b[37m\u001b[0m \u001b[1m0s\u001b[0m 15ms/step - accuracy: 0.6522 - loss: -9.6809 - val_accuracy: 0.6800 - val_loss: -8.9171\n",
            "Epoch 61/500\n",
            "\u001b[1m5/5\u001b[0m \u001b[32m━━━━━━━━━━━━━━━━━━━━\u001b[0m\u001b[37m\u001b[0m \u001b[1m0s\u001b[0m 18ms/step - accuracy: 0.6689 - loss: -10.1243 - val_accuracy: 0.6800 - val_loss: -9.0540\n",
            "Epoch 62/500\n",
            "\u001b[1m5/5\u001b[0m \u001b[32m━━━━━━━━━━━━━━━━━━━━\u001b[0m\u001b[37m\u001b[0m \u001b[1m0s\u001b[0m 16ms/step - accuracy: 0.6564 - loss: -9.8624 - val_accuracy: 0.6800 - val_loss: -9.1932\n",
            "Epoch 63/500\n",
            "\u001b[1m5/5\u001b[0m \u001b[32m━━━━━━━━━━━━━━━━━━━━\u001b[0m\u001b[37m\u001b[0m \u001b[1m0s\u001b[0m 15ms/step - accuracy: 0.6511 - loss: -9.6973 - val_accuracy: 0.6800 - val_loss: -9.2999\n",
            "Epoch 64/500\n",
            "\u001b[1m5/5\u001b[0m \u001b[32m━━━━━━━━━━━━━━━━━━━━\u001b[0m\u001b[37m\u001b[0m \u001b[1m0s\u001b[0m 16ms/step - accuracy: 0.6850 - loss: -10.4301 - val_accuracy: 0.6800 - val_loss: -9.3929\n",
            "Epoch 65/500\n",
            "\u001b[1m5/5\u001b[0m \u001b[32m━━━━━━━━━━━━━━━━━━━━\u001b[0m\u001b[37m\u001b[0m \u001b[1m0s\u001b[0m 16ms/step - accuracy: 0.6456 - loss: -10.5247 - val_accuracy: 0.6800 - val_loss: -9.5026\n",
            "Epoch 66/500\n",
            "\u001b[1m5/5\u001b[0m \u001b[32m━━━━━━━━━━━━━━━━━━━━\u001b[0m\u001b[37m\u001b[0m \u001b[1m0s\u001b[0m 16ms/step - accuracy: 0.6875 - loss: -10.6847 - val_accuracy: 0.6800 - val_loss: -9.6194\n",
            "Epoch 67/500\n",
            "\u001b[1m5/5\u001b[0m \u001b[32m━━━━━━━━━━━━━━━━━━━━\u001b[0m\u001b[37m\u001b[0m \u001b[1m0s\u001b[0m 15ms/step - accuracy: 0.6994 - loss: -11.2147 - val_accuracy: 0.6800 - val_loss: -9.7147\n",
            "Epoch 68/500\n",
            "\u001b[1m5/5\u001b[0m \u001b[32m━━━━━━━━━━━━━━━━━━━━\u001b[0m\u001b[37m\u001b[0m \u001b[1m0s\u001b[0m 15ms/step - accuracy: 0.6794 - loss: -10.7468 - val_accuracy: 0.6800 - val_loss: -9.8252\n",
            "Epoch 69/500\n",
            "\u001b[1m5/5\u001b[0m \u001b[32m━━━━━━━━━━━━━━━━━━━━\u001b[0m\u001b[37m\u001b[0m \u001b[1m0s\u001b[0m 22ms/step - accuracy: 0.6433 - loss: -10.4582 - val_accuracy: 0.6800 - val_loss: -9.9213\n",
            "Epoch 70/500\n",
            "\u001b[1m5/5\u001b[0m \u001b[32m━━━━━━━━━━━━━━━━━━━━\u001b[0m\u001b[37m\u001b[0m \u001b[1m0s\u001b[0m 18ms/step - accuracy: 0.6806 - loss: -10.7917 - val_accuracy: 0.6800 - val_loss: -10.0240\n",
            "Epoch 71/500\n",
            "\u001b[1m5/5\u001b[0m \u001b[32m━━━━━━━━━━━━━━━━━━━━\u001b[0m\u001b[37m\u001b[0m \u001b[1m0s\u001b[0m 15ms/step - accuracy: 0.6706 - loss: -10.8571 - val_accuracy: 0.6800 - val_loss: -10.1161\n",
            "Epoch 72/500\n",
            "\u001b[1m5/5\u001b[0m \u001b[32m━━━━━━━━━━━━━━━━━━━━\u001b[0m\u001b[37m\u001b[0m \u001b[1m0s\u001b[0m 15ms/step - accuracy: 0.6333 - loss: -10.8232 - val_accuracy: 0.6800 - val_loss: -10.2037\n",
            "Epoch 73/500\n",
            "\u001b[1m5/5\u001b[0m \u001b[32m━━━━━━━━━━━━━━━━━━━━\u001b[0m\u001b[37m\u001b[0m \u001b[1m0s\u001b[0m 16ms/step - accuracy: 0.6325 - loss: -10.6020 - val_accuracy: 0.6800 - val_loss: -10.3073\n",
            "Epoch 74/500\n",
            "\u001b[1m5/5\u001b[0m \u001b[32m━━━━━━━━━━━━━━━━━━━━\u001b[0m\u001b[37m\u001b[0m \u001b[1m0s\u001b[0m 15ms/step - accuracy: 0.6475 - loss: -10.7726 - val_accuracy: 0.6800 - val_loss: -10.4014\n",
            "Epoch 75/500\n",
            "\u001b[1m5/5\u001b[0m \u001b[32m━━━━━━━━━━━━━━━━━━━━\u001b[0m\u001b[37m\u001b[0m \u001b[1m0s\u001b[0m 16ms/step - accuracy: 0.6631 - loss: -11.1660 - val_accuracy: 0.6800 - val_loss: -10.4902\n",
            "Epoch 76/500\n",
            "\u001b[1m5/5\u001b[0m \u001b[32m━━━━━━━━━━━━━━━━━━━━\u001b[0m\u001b[37m\u001b[0m \u001b[1m0s\u001b[0m 16ms/step - accuracy: 0.6686 - loss: -11.2163 - val_accuracy: 0.6800 - val_loss: -10.5733\n",
            "Epoch 77/500\n",
            "\u001b[1m5/5\u001b[0m \u001b[32m━━━━━━━━━━━━━━━━━━━━\u001b[0m\u001b[37m\u001b[0m \u001b[1m0s\u001b[0m 15ms/step - accuracy: 0.6697 - loss: -11.4547 - val_accuracy: 0.6800 - val_loss: -10.6658\n",
            "Epoch 78/500\n",
            "\u001b[1m5/5\u001b[0m \u001b[32m━━━━━━━━━━━━━━━━━━━━\u001b[0m\u001b[37m\u001b[0m \u001b[1m0s\u001b[0m 15ms/step - accuracy: 0.6575 - loss: -11.2168 - val_accuracy: 0.6800 - val_loss: -10.7488\n",
            "Epoch 79/500\n",
            "\u001b[1m5/5\u001b[0m \u001b[32m━━━━━━━━━━━━━━━━━━━━\u001b[0m\u001b[37m\u001b[0m \u001b[1m0s\u001b[0m 17ms/step - accuracy: 0.6647 - loss: -12.0528 - val_accuracy: 0.6800 - val_loss: -10.8092\n",
            "Epoch 80/500\n",
            "\u001b[1m5/5\u001b[0m \u001b[32m━━━━━━━━━━━━━━━━━━━━\u001b[0m\u001b[37m\u001b[0m \u001b[1m0s\u001b[0m 15ms/step - accuracy: 0.6567 - loss: -11.5566 - val_accuracy: 0.6800 - val_loss: -10.8633\n",
            "Epoch 81/500\n",
            "\u001b[1m5/5\u001b[0m \u001b[32m━━━━━━━━━━━━━━━━━━━━\u001b[0m\u001b[37m\u001b[0m \u001b[1m0s\u001b[0m 16ms/step - accuracy: 0.6683 - loss: -11.6048 - val_accuracy: 0.6800 - val_loss: -10.9279\n",
            "Epoch 82/500\n",
            "\u001b[1m5/5\u001b[0m \u001b[32m━━━━━━━━━━━━━━━━━━━━\u001b[0m\u001b[37m\u001b[0m \u001b[1m0s\u001b[0m 15ms/step - accuracy: 0.6233 - loss: -11.2244 - val_accuracy: 0.6800 - val_loss: -10.9843\n",
            "Epoch 83/500\n",
            "\u001b[1m5/5\u001b[0m \u001b[32m━━━━━━━━━━━━━━━━━━━━\u001b[0m\u001b[37m\u001b[0m \u001b[1m0s\u001b[0m 17ms/step - accuracy: 0.6628 - loss: -11.5893 - val_accuracy: 0.6800 - val_loss: -11.0509\n",
            "Epoch 84/500\n",
            "\u001b[1m5/5\u001b[0m \u001b[32m━━━━━━━━━━━━━━━━━━━━\u001b[0m\u001b[37m\u001b[0m \u001b[1m0s\u001b[0m 16ms/step - accuracy: 0.6733 - loss: -11.8543 - val_accuracy: 0.6800 - val_loss: -11.1023\n",
            "Epoch 85/500\n",
            "\u001b[1m5/5\u001b[0m \u001b[32m━━━━━━━━━━━━━━━━━━━━\u001b[0m\u001b[37m\u001b[0m \u001b[1m0s\u001b[0m 16ms/step - accuracy: 0.6553 - loss: -11.9115 - val_accuracy: 0.6800 - val_loss: -11.1627\n",
            "Epoch 86/500\n",
            "\u001b[1m5/5\u001b[0m \u001b[32m━━━━━━━━━━━━━━━━━━━━\u001b[0m\u001b[37m\u001b[0m \u001b[1m0s\u001b[0m 16ms/step - accuracy: 0.6842 - loss: -12.2814 - val_accuracy: 0.6800 - val_loss: -11.2166\n",
            "Epoch 87/500\n",
            "\u001b[1m5/5\u001b[0m \u001b[32m━━━━━━━━━━━━━━━━━━━━\u001b[0m\u001b[37m\u001b[0m \u001b[1m0s\u001b[0m 16ms/step - accuracy: 0.6939 - loss: -12.3898 - val_accuracy: 0.6800 - val_loss: -11.2743\n",
            "Epoch 88/500\n",
            "\u001b[1m5/5\u001b[0m \u001b[32m━━━━━━━━━━━━━━━━━━━━\u001b[0m\u001b[37m\u001b[0m \u001b[1m0s\u001b[0m 18ms/step - accuracy: 0.6792 - loss: -11.9934 - val_accuracy: 0.6800 - val_loss: -11.3374\n",
            "Epoch 89/500\n",
            "\u001b[1m5/5\u001b[0m \u001b[32m━━━━━━━━━━━━━━━━━━━━\u001b[0m\u001b[37m\u001b[0m \u001b[1m0s\u001b[0m 15ms/step - accuracy: 0.6892 - loss: -12.2353 - val_accuracy: 0.6800 - val_loss: -11.3943\n",
            "Epoch 90/500\n",
            "\u001b[1m5/5\u001b[0m \u001b[32m━━━━━━━━━━━━━━━━━━━━\u001b[0m\u001b[37m\u001b[0m \u001b[1m0s\u001b[0m 16ms/step - accuracy: 0.6486 - loss: -11.9830 - val_accuracy: 0.6800 - val_loss: -11.4456\n",
            "Epoch 91/500\n",
            "\u001b[1m5/5\u001b[0m \u001b[32m━━━━━━━━━━━━━━━━━━━━\u001b[0m\u001b[37m\u001b[0m \u001b[1m0s\u001b[0m 17ms/step - accuracy: 0.6525 - loss: -11.9697 - val_accuracy: 0.6800 - val_loss: -11.5086\n",
            "Epoch 92/500\n",
            "\u001b[1m5/5\u001b[0m \u001b[32m━━━━━━━━━━━━━━━━━━━━\u001b[0m\u001b[37m\u001b[0m \u001b[1m0s\u001b[0m 17ms/step - accuracy: 0.6561 - loss: -12.2700 - val_accuracy: 0.6800 - val_loss: -11.5566\n",
            "Epoch 93/500\n",
            "\u001b[1m5/5\u001b[0m \u001b[32m━━━━━━━━━━━━━━━━━━━━\u001b[0m\u001b[37m\u001b[0m \u001b[1m0s\u001b[0m 16ms/step - accuracy: 0.6872 - loss: -12.6174 - val_accuracy: 0.6800 - val_loss: -11.6115\n",
            "Epoch 94/500\n",
            "\u001b[1m5/5\u001b[0m \u001b[32m━━━━━━━━━━━━━━━━━━━━\u001b[0m\u001b[37m\u001b[0m \u001b[1m0s\u001b[0m 16ms/step - accuracy: 0.6778 - loss: -12.2450 - val_accuracy: 0.6800 - val_loss: -11.6636\n",
            "Epoch 95/500\n",
            "\u001b[1m5/5\u001b[0m \u001b[32m━━━━━━━━━━━━━━━━━━━━\u001b[0m\u001b[37m\u001b[0m \u001b[1m0s\u001b[0m 15ms/step - accuracy: 0.6664 - loss: -12.3745 - val_accuracy: 0.6800 - val_loss: -11.7221\n",
            "Epoch 96/500\n",
            "\u001b[1m5/5\u001b[0m \u001b[32m━━━━━━━━━━━━━━━━━━━━\u001b[0m\u001b[37m\u001b[0m \u001b[1m0s\u001b[0m 16ms/step - accuracy: 0.6792 - loss: -12.4594 - val_accuracy: 0.6800 - val_loss: -11.7734\n",
            "Epoch 97/500\n",
            "\u001b[1m5/5\u001b[0m \u001b[32m━━━━━━━━━━━━━━━━━━━━\u001b[0m\u001b[37m\u001b[0m \u001b[1m0s\u001b[0m 15ms/step - accuracy: 0.6825 - loss: -12.6023 - val_accuracy: 0.6800 - val_loss: -11.8286\n",
            "Epoch 98/500\n",
            "\u001b[1m5/5\u001b[0m \u001b[32m━━━━━━━━━━━━━━━━━━━━\u001b[0m\u001b[37m\u001b[0m \u001b[1m0s\u001b[0m 17ms/step - accuracy: 0.6531 - loss: -12.2579 - val_accuracy: 0.6800 - val_loss: -11.8956\n",
            "Epoch 99/500\n",
            "\u001b[1m5/5\u001b[0m \u001b[32m━━━━━━━━━━━━━━━━━━━━\u001b[0m\u001b[37m\u001b[0m \u001b[1m0s\u001b[0m 16ms/step - accuracy: 0.6617 - loss: -12.4480 - val_accuracy: 0.6800 - val_loss: -11.9410\n",
            "Epoch 100/500\n",
            "\u001b[1m5/5\u001b[0m \u001b[32m━━━━━━━━━━━━━━━━━━━━\u001b[0m\u001b[37m\u001b[0m \u001b[1m0s\u001b[0m 16ms/step - accuracy: 0.6389 - loss: -12.4274 - val_accuracy: 0.6800 - val_loss: -12.0012\n",
            "Epoch 101/500\n",
            "\u001b[1m5/5\u001b[0m \u001b[32m━━━━━━━━━━━━━━━━━━━━\u001b[0m\u001b[37m\u001b[0m \u001b[1m0s\u001b[0m 17ms/step - accuracy: 0.6908 - loss: -12.8977 - val_accuracy: 0.6800 - val_loss: -12.0406\n",
            "Epoch 102/500\n",
            "\u001b[1m5/5\u001b[0m \u001b[32m━━━━━━━━━━━━━━━━━━━━\u001b[0m\u001b[37m\u001b[0m \u001b[1m0s\u001b[0m 15ms/step - accuracy: 0.6436 - loss: -12.6896 - val_accuracy: 0.6800 - val_loss: -12.1199\n",
            "Epoch 103/500\n",
            "\u001b[1m5/5\u001b[0m \u001b[32m━━━━━━━━━━━━━━━━━━━━\u001b[0m\u001b[37m\u001b[0m \u001b[1m0s\u001b[0m 15ms/step - accuracy: 0.6706 - loss: -12.6805 - val_accuracy: 0.6800 - val_loss: -12.1626\n",
            "Epoch 104/500\n",
            "\u001b[1m5/5\u001b[0m \u001b[32m━━━━━━━━━━━━━━━━━━━━\u001b[0m\u001b[37m\u001b[0m \u001b[1m0s\u001b[0m 15ms/step - accuracy: 0.6494 - loss: -12.7650 - val_accuracy: 0.6800 - val_loss: -12.2264\n",
            "Epoch 105/500\n",
            "\u001b[1m5/5\u001b[0m \u001b[32m━━━━━━━━━━━━━━━━━━━━\u001b[0m\u001b[37m\u001b[0m \u001b[1m0s\u001b[0m 16ms/step - accuracy: 0.6522 - loss: -12.8285 - val_accuracy: 0.6800 - val_loss: -12.2653\n",
            "Epoch 106/500\n",
            "\u001b[1m5/5\u001b[0m \u001b[32m━━━━━━━━━━━━━━━━━━━━\u001b[0m\u001b[37m\u001b[0m \u001b[1m0s\u001b[0m 17ms/step - accuracy: 0.6819 - loss: -13.0256 - val_accuracy: 0.6800 - val_loss: -12.3083\n",
            "Epoch 107/500\n",
            "\u001b[1m5/5\u001b[0m \u001b[32m━━━━━━━━━━━━━━━━━━━━\u001b[0m\u001b[37m\u001b[0m \u001b[1m0s\u001b[0m 18ms/step - accuracy: 0.6794 - loss: -13.2445 - val_accuracy: 0.6800 - val_loss: -12.3748\n",
            "Epoch 108/500\n",
            "\u001b[1m5/5\u001b[0m \u001b[32m━━━━━━━━━━━━━━━━━━━━\u001b[0m\u001b[37m\u001b[0m \u001b[1m0s\u001b[0m 15ms/step - accuracy: 0.6644 - loss: -12.9536 - val_accuracy: 0.6800 - val_loss: -12.4161\n",
            "Epoch 109/500\n",
            "\u001b[1m5/5\u001b[0m \u001b[32m━━━━━━━━━━━━━━━━━━━━\u001b[0m\u001b[37m\u001b[0m \u001b[1m0s\u001b[0m 17ms/step - accuracy: 0.6550 - loss: -13.2780 - val_accuracy: 0.6533 - val_loss: -12.4538\n",
            "Epoch 110/500\n",
            "\u001b[1m5/5\u001b[0m \u001b[32m━━━━━━━━━━━━━━━━━━━━\u001b[0m\u001b[37m\u001b[0m \u001b[1m0s\u001b[0m 16ms/step - accuracy: 0.6701 - loss: -13.0882 - val_accuracy: 0.6800 - val_loss: -12.5245\n",
            "Epoch 111/500\n",
            "\u001b[1m5/5\u001b[0m \u001b[32m━━━━━━━━━━━━━━━━━━━━\u001b[0m\u001b[37m\u001b[0m \u001b[1m0s\u001b[0m 15ms/step - accuracy: 0.4992 - loss: -12.9516 - val_accuracy: 0.6533 - val_loss: -12.5628\n",
            "Epoch 112/500\n",
            "\u001b[1m5/5\u001b[0m \u001b[32m━━━━━━━━━━━━━━━━━━━━\u001b[0m\u001b[37m\u001b[0m \u001b[1m0s\u001b[0m 16ms/step - accuracy: 0.6551 - loss: -13.1545 - val_accuracy: 0.6533 - val_loss: -12.6004\n",
            "Epoch 113/500\n",
            "\u001b[1m5/5\u001b[0m \u001b[32m━━━━━━━━━━━━━━━━━━━━\u001b[0m\u001b[37m\u001b[0m \u001b[1m0s\u001b[0m 17ms/step - accuracy: 0.6423 - loss: -13.1052 - val_accuracy: 0.6533 - val_loss: -12.6399\n",
            "Epoch 114/500\n",
            "\u001b[1m5/5\u001b[0m \u001b[32m━━━━━━━━━━━━━━━━━━━━\u001b[0m\u001b[37m\u001b[0m \u001b[1m0s\u001b[0m 15ms/step - accuracy: 0.5198 - loss: -13.0986 - val_accuracy: 0.6533 - val_loss: -12.6779\n",
            "Epoch 115/500\n",
            "\u001b[1m5/5\u001b[0m \u001b[32m━━━━━━━━━━━━━━━━━━━━\u001b[0m\u001b[37m\u001b[0m \u001b[1m0s\u001b[0m 15ms/step - accuracy: 0.6853 - loss: -13.5991 - val_accuracy: 0.6533 - val_loss: -12.7150\n",
            "Epoch 116/500\n",
            "\u001b[1m5/5\u001b[0m \u001b[32m━━━━━━━━━━━━━━━━━━━━\u001b[0m\u001b[37m\u001b[0m \u001b[1m0s\u001b[0m 27ms/step - accuracy: 0.6703 - loss: -13.3783 - val_accuracy: 0.6533 - val_loss: -12.7526\n",
            "Epoch 117/500\n",
            "\u001b[1m5/5\u001b[0m \u001b[32m━━━━━━━━━━━━━━━━━━━━\u001b[0m\u001b[37m\u001b[0m \u001b[1m0s\u001b[0m 16ms/step - accuracy: 0.5183 - loss: -13.5899 - val_accuracy: 0.6533 - val_loss: -12.7895\n",
            "Epoch 118/500\n",
            "\u001b[1m5/5\u001b[0m \u001b[32m━━━━━━━━━━━━━━━━━━━━\u001b[0m\u001b[37m\u001b[0m \u001b[1m0s\u001b[0m 16ms/step - accuracy: 0.6678 - loss: -13.2762 - val_accuracy: 0.6533 - val_loss: -12.8263\n",
            "Epoch 119/500\n",
            "\u001b[1m5/5\u001b[0m \u001b[32m━━━━━━━━━━━━━━━━━━━━\u001b[0m\u001b[37m\u001b[0m \u001b[1m0s\u001b[0m 16ms/step - accuracy: 0.6637 - loss: -13.6798 - val_accuracy: 0.6533 - val_loss: -12.9159\n",
            "Epoch 120/500\n",
            "\u001b[1m5/5\u001b[0m \u001b[32m━━━━━━━━━━━━━━━━━━━━\u001b[0m\u001b[37m\u001b[0m \u001b[1m0s\u001b[0m 15ms/step - accuracy: 0.4970 - loss: -13.9871 - val_accuracy: 0.6533 - val_loss: -12.9491\n",
            "Epoch 121/500\n",
            "\u001b[1m5/5\u001b[0m \u001b[32m━━━━━━━━━━━━━━━━━━━━\u001b[0m\u001b[37m\u001b[0m \u001b[1m0s\u001b[0m 16ms/step - accuracy: 0.6728 - loss: -13.9475 - val_accuracy: 0.6533 - val_loss: -12.9855\n",
            "Epoch 122/500\n",
            "\u001b[1m5/5\u001b[0m \u001b[32m━━━━━━━━━━━━━━━━━━━━\u001b[0m\u001b[37m\u001b[0m \u001b[1m0s\u001b[0m 16ms/step - accuracy: 0.6645 - loss: -13.5837 - val_accuracy: 0.6533 - val_loss: -13.0227\n",
            "Epoch 123/500\n",
            "\u001b[1m5/5\u001b[0m \u001b[32m━━━━━━━━━━━━━━━━━━━━\u001b[0m\u001b[37m\u001b[0m \u001b[1m0s\u001b[0m 17ms/step - accuracy: 0.5902 - loss: -13.9227 - val_accuracy: 0.6800 - val_loss: -13.0566\n",
            "Epoch 124/500\n",
            "\u001b[1m5/5\u001b[0m \u001b[32m━━━━━━━━━━━━━━━━━━━━\u001b[0m\u001b[37m\u001b[0m \u001b[1m0s\u001b[0m 16ms/step - accuracy: 0.5456 - loss: -13.5693 - val_accuracy: 0.6533 - val_loss: -13.0895\n",
            "Epoch 125/500\n",
            "\u001b[1m5/5\u001b[0m \u001b[32m━━━━━━━━━━━━━━━━━━━━\u001b[0m\u001b[37m\u001b[0m \u001b[1m0s\u001b[0m 26ms/step - accuracy: 0.6536 - loss: -13.7728 - val_accuracy: 0.6533 - val_loss: -13.1233\n",
            "Epoch 126/500\n",
            "\u001b[1m5/5\u001b[0m \u001b[32m━━━━━━━━━━━━━━━━━━━━\u001b[0m\u001b[37m\u001b[0m \u001b[1m0s\u001b[0m 15ms/step - accuracy: 0.6746 - loss: -13.8433 - val_accuracy: 0.6533 - val_loss: -13.1572\n",
            "Epoch 127/500\n",
            "\u001b[1m5/5\u001b[0m \u001b[32m━━━━━━━━━━━━━━━━━━━━\u001b[0m\u001b[37m\u001b[0m \u001b[1m0s\u001b[0m 16ms/step - accuracy: 0.5711 - loss: -13.7322 - val_accuracy: 0.6533 - val_loss: -13.1925\n",
            "Epoch 128/500\n",
            "\u001b[1m5/5\u001b[0m \u001b[32m━━━━━━━━━━━━━━━━━━━━\u001b[0m\u001b[37m\u001b[0m \u001b[1m0s\u001b[0m 16ms/step - accuracy: 0.5838 - loss: -13.5852 - val_accuracy: 0.6533 - val_loss: -13.2275\n",
            "Epoch 129/500\n",
            "\u001b[1m5/5\u001b[0m \u001b[32m━━━━━━━━━━━━━━━━━━━━\u001b[0m\u001b[37m\u001b[0m \u001b[1m0s\u001b[0m 15ms/step - accuracy: 0.6834 - loss: -13.8461 - val_accuracy: 0.6533 - val_loss: -13.2590\n",
            "Epoch 130/500\n",
            "\u001b[1m5/5\u001b[0m \u001b[32m━━━━━━━━━━━━━━━━━━━━\u001b[0m\u001b[37m\u001b[0m \u001b[1m0s\u001b[0m 15ms/step - accuracy: 0.6845 - loss: -14.3591 - val_accuracy: 0.6533 - val_loss: -13.2930\n",
            "Epoch 131/500\n",
            "\u001b[1m5/5\u001b[0m \u001b[32m━━━━━━━━━━━━━━━━━━━━\u001b[0m\u001b[37m\u001b[0m \u001b[1m0s\u001b[0m 17ms/step - accuracy: 0.6239 - loss: -14.4506 - val_accuracy: 0.6533 - val_loss: -13.3265\n",
            "Epoch 132/500\n",
            "\u001b[1m5/5\u001b[0m \u001b[32m━━━━━━━━━━━━━━━━━━━━\u001b[0m\u001b[37m\u001b[0m \u001b[1m0s\u001b[0m 31ms/step - accuracy: 0.6301 - loss: -13.8298 - val_accuracy: 0.6533 - val_loss: -13.3584\n",
            "Epoch 133/500\n",
            "\u001b[1m5/5\u001b[0m \u001b[32m━━━━━━━━━━━━━━━━━━━━\u001b[0m\u001b[37m\u001b[0m \u001b[1m0s\u001b[0m 33ms/step - accuracy: 0.6542 - loss: -13.7315 - val_accuracy: 0.6533 - val_loss: -13.3892\n",
            "Epoch 134/500\n",
            "\u001b[1m5/5\u001b[0m \u001b[32m━━━━━━━━━━━━━━━━━━━━\u001b[0m\u001b[37m\u001b[0m \u001b[1m0s\u001b[0m 32ms/step - accuracy: 0.6235 - loss: -14.1012 - val_accuracy: 0.6533 - val_loss: -13.4227\n",
            "Epoch 135/500\n",
            "\u001b[1m5/5\u001b[0m \u001b[32m━━━━━━━━━━━━━━━━━━━━\u001b[0m\u001b[37m\u001b[0m \u001b[1m0s\u001b[0m 30ms/step - accuracy: 0.6509 - loss: -13.7170 - val_accuracy: 0.6800 - val_loss: -13.4557\n",
            "Epoch 136/500\n",
            "\u001b[1m5/5\u001b[0m \u001b[32m━━━━━━━━━━━━━━━━━━━━\u001b[0m\u001b[37m\u001b[0m \u001b[1m0s\u001b[0m 33ms/step - accuracy: 0.5300 - loss: -13.7816 - val_accuracy: 0.6533 - val_loss: -13.4873\n",
            "Epoch 137/500\n",
            "\u001b[1m5/5\u001b[0m \u001b[32m━━━━━━━━━━━━━━━━━━━━\u001b[0m\u001b[37m\u001b[0m \u001b[1m0s\u001b[0m 33ms/step - accuracy: 0.6470 - loss: -14.0448 - val_accuracy: 0.6533 - val_loss: -13.5211\n",
            "Epoch 138/500\n",
            "\u001b[1m5/5\u001b[0m \u001b[32m━━━━━━━━━━━━━━━━━━━━\u001b[0m\u001b[37m\u001b[0m \u001b[1m0s\u001b[0m 16ms/step - accuracy: 0.5841 - loss: -14.1440 - val_accuracy: 0.6533 - val_loss: -13.5522\n",
            "Epoch 139/500\n",
            "\u001b[1m5/5\u001b[0m \u001b[32m━━━━━━━━━━━━━━━━━━━━\u001b[0m\u001b[37m\u001b[0m \u001b[1m0s\u001b[0m 16ms/step - accuracy: 0.6255 - loss: -13.8521 - val_accuracy: 0.6533 - val_loss: -13.5851\n",
            "Epoch 140/500\n",
            "\u001b[1m5/5\u001b[0m \u001b[32m━━━━━━━━━━━━━━━━━━━━\u001b[0m\u001b[37m\u001b[0m \u001b[1m0s\u001b[0m 15ms/step - accuracy: 0.6773 - loss: -14.2031 - val_accuracy: 0.6533 - val_loss: -13.6157\n",
            "Epoch 141/500\n",
            "\u001b[1m5/5\u001b[0m \u001b[32m━━━━━━━━━━━━━━━━━━━━\u001b[0m\u001b[37m\u001b[0m \u001b[1m0s\u001b[0m 17ms/step - accuracy: 0.6626 - loss: -14.2449 - val_accuracy: 0.2667 - val_loss: -13.6484\n",
            "Epoch 142/500\n",
            "\u001b[1m5/5\u001b[0m \u001b[32m━━━━━━━━━━━━━━━━━━━━\u001b[0m\u001b[37m\u001b[0m \u001b[1m0s\u001b[0m 17ms/step - accuracy: 0.5043 - loss: -14.9468 - val_accuracy: 0.6533 - val_loss: -13.6812\n",
            "Epoch 143/500\n",
            "\u001b[1m5/5\u001b[0m \u001b[32m━━━━━━━━━━━━━━━━━━━━\u001b[0m\u001b[37m\u001b[0m \u001b[1m0s\u001b[0m 19ms/step - accuracy: 0.6163 - loss: -14.4995 - val_accuracy: 0.6533 - val_loss: -13.7137\n",
            "Epoch 144/500\n",
            "\u001b[1m5/5\u001b[0m \u001b[32m━━━━━━━━━━━━━━━━━━━━\u001b[0m\u001b[37m\u001b[0m \u001b[1m0s\u001b[0m 16ms/step - accuracy: 0.6573 - loss: -14.2813 - val_accuracy: 0.6533 - val_loss: -13.7444\n",
            "Epoch 145/500\n",
            "\u001b[1m5/5\u001b[0m \u001b[32m━━━━━━━━━━━━━━━━━━━━\u001b[0m\u001b[37m\u001b[0m \u001b[1m0s\u001b[0m 17ms/step - accuracy: 0.6778 - loss: -14.8116 - val_accuracy: 0.2667 - val_loss: -13.7790\n",
            "Epoch 146/500\n",
            "\u001b[1m5/5\u001b[0m \u001b[32m━━━━━━━━━━━━━━━━━━━━\u001b[0m\u001b[37m\u001b[0m \u001b[1m0s\u001b[0m 16ms/step - accuracy: 0.4688 - loss: -14.3463 - val_accuracy: 0.6533 - val_loss: -13.8107\n",
            "Epoch 147/500\n",
            "\u001b[1m5/5\u001b[0m \u001b[32m━━━━━━━━━━━━━━━━━━━━\u001b[0m\u001b[37m\u001b[0m \u001b[1m0s\u001b[0m 16ms/step - accuracy: 0.6086 - loss: -14.3924 - val_accuracy: 0.6533 - val_loss: -13.8408\n",
            "Epoch 148/500\n",
            "\u001b[1m5/5\u001b[0m \u001b[32m━━━━━━━━━━━━━━━━━━━━\u001b[0m\u001b[37m\u001b[0m \u001b[1m0s\u001b[0m 16ms/step - accuracy: 0.6234 - loss: -14.3205 - val_accuracy: 0.6533 - val_loss: -13.8420\n",
            "Epoch 149/500\n",
            "\u001b[1m5/5\u001b[0m \u001b[32m━━━━━━━━━━━━━━━━━━━━\u001b[0m\u001b[37m\u001b[0m \u001b[1m0s\u001b[0m 27ms/step - accuracy: 0.6542 - loss: -14.1976 - val_accuracy: 0.6533 - val_loss: -13.8392\n",
            "Epoch 150/500\n",
            "\u001b[1m5/5\u001b[0m \u001b[32m━━━━━━━━━━━━━━━━━━━━\u001b[0m\u001b[37m\u001b[0m \u001b[1m0s\u001b[0m 16ms/step - accuracy: 0.6456 - loss: -14.6625 - val_accuracy: 0.6533 - val_loss: -13.8364\n",
            "Epoch 151/500\n",
            "\u001b[1m5/5\u001b[0m \u001b[32m━━━━━━━━━━━━━━━━━━━━\u001b[0m\u001b[37m\u001b[0m \u001b[1m0s\u001b[0m 15ms/step - accuracy: 0.6434 - loss: -14.3540 - val_accuracy: 0.6533 - val_loss: -13.8339\n",
            "Epoch 152/500\n",
            "\u001b[1m5/5\u001b[0m \u001b[32m━━━━━━━━━━━━━━━━━━━━\u001b[0m\u001b[37m\u001b[0m \u001b[1m0s\u001b[0m 18ms/step - accuracy: 0.6809 - loss: -14.4744 - val_accuracy: 0.6533 - val_loss: -13.8324\n",
            "Epoch 153/500\n",
            "\u001b[1m5/5\u001b[0m \u001b[32m━━━━━━━━━━━━━━━━━━━━\u001b[0m\u001b[37m\u001b[0m \u001b[1m0s\u001b[0m 17ms/step - accuracy: 0.6810 - loss: -14.8656 - val_accuracy: 0.6667 - val_loss: -13.8301\n",
            "Epoch 154/500\n",
            "\u001b[1m5/5\u001b[0m \u001b[32m━━━━━━━━━━━━━━━━━━━━\u001b[0m\u001b[37m\u001b[0m \u001b[1m0s\u001b[0m 16ms/step - accuracy: 0.6538 - loss: -14.0185 - val_accuracy: 0.6533 - val_loss: -13.8224\n",
            "Epoch 155/500\n",
            "\u001b[1m5/5\u001b[0m \u001b[32m━━━━━━━━━━━━━━━━━━━━\u001b[0m\u001b[37m\u001b[0m \u001b[1m0s\u001b[0m 16ms/step - accuracy: 0.6545 - loss: -14.3557 - val_accuracy: 0.6533 - val_loss: -13.8183\n",
            "Epoch 156/500\n",
            "\u001b[1m5/5\u001b[0m \u001b[32m━━━━━━━━━━━━━━━━━━━━\u001b[0m\u001b[37m\u001b[0m \u001b[1m0s\u001b[0m 16ms/step - accuracy: 0.6445 - loss: -14.5550 - val_accuracy: 0.6667 - val_loss: -13.8154\n",
            "Epoch 157/500\n",
            "\u001b[1m5/5\u001b[0m \u001b[32m━━━━━━━━━━━━━━━━━━━━\u001b[0m\u001b[37m\u001b[0m \u001b[1m0s\u001b[0m 16ms/step - accuracy: 0.6485 - loss: -14.1163 - val_accuracy: 0.6667 - val_loss: -13.8120\n",
            "Epoch 158/500\n",
            "\u001b[1m5/5\u001b[0m \u001b[32m━━━━━━━━━━━━━━━━━━━━\u001b[0m\u001b[37m\u001b[0m \u001b[1m0s\u001b[0m 16ms/step - accuracy: 0.6571 - loss: -14.4603 - val_accuracy: 0.6667 - val_loss: -13.8093\n",
            "Epoch 159/500\n",
            "\u001b[1m5/5\u001b[0m \u001b[32m━━━━━━━━━━━━━━━━━━━━\u001b[0m\u001b[37m\u001b[0m \u001b[1m0s\u001b[0m 17ms/step - accuracy: 0.6796 - loss: -14.5781 - val_accuracy: 0.6667 - val_loss: -13.8073\n",
            "Epoch 160/500\n",
            "\u001b[1m5/5\u001b[0m \u001b[32m━━━━━━━━━━━━━━━━━━━━\u001b[0m\u001b[37m\u001b[0m \u001b[1m0s\u001b[0m 16ms/step - accuracy: 0.6393 - loss: -14.2556 - val_accuracy: 0.6667 - val_loss: -13.8070\n",
            "Epoch 161/500\n",
            "\u001b[1m5/5\u001b[0m \u001b[32m━━━━━━━━━━━━━━━━━━━━\u001b[0m\u001b[37m\u001b[0m \u001b[1m0s\u001b[0m 15ms/step - accuracy: 0.6599 - loss: -14.6315 - val_accuracy: 0.6667 - val_loss: -13.8064\n",
            "Epoch 162/500\n",
            "\u001b[1m5/5\u001b[0m \u001b[32m━━━━━━━━━━━━━━━━━━━━\u001b[0m\u001b[37m\u001b[0m \u001b[1m0s\u001b[0m 26ms/step - accuracy: 0.6607 - loss: -14.8677 - val_accuracy: 0.6667 - val_loss: -13.8040\n",
            "Epoch 163/500\n",
            "\u001b[1m5/5\u001b[0m \u001b[32m━━━━━━━━━━━━━━━━━━━━\u001b[0m\u001b[37m\u001b[0m \u001b[1m0s\u001b[0m 16ms/step - accuracy: 0.6557 - loss: -14.2521 - val_accuracy: 0.6667 - val_loss: -13.8011\n",
            "Epoch 164/500\n",
            "\u001b[1m5/5\u001b[0m \u001b[32m━━━━━━━━━━━━━━━━━━━━\u001b[0m\u001b[37m\u001b[0m \u001b[1m0s\u001b[0m 26ms/step - accuracy: 0.6632 - loss: -14.5358 - val_accuracy: 0.6667 - val_loss: -13.7982\n",
            "Epoch 165/500\n",
            "\u001b[1m5/5\u001b[0m \u001b[32m━━━━━━━━━━━━━━━━━━━━\u001b[0m\u001b[37m\u001b[0m \u001b[1m0s\u001b[0m 16ms/step - accuracy: 0.6624 - loss: -14.4734 - val_accuracy: 0.6667 - val_loss: -13.7958\n",
            "Epoch 166/500\n",
            "\u001b[1m5/5\u001b[0m \u001b[32m━━━━━━━━━━━━━━━━━━━━\u001b[0m\u001b[37m\u001b[0m \u001b[1m0s\u001b[0m 15ms/step - accuracy: 0.6657 - loss: -14.4604 - val_accuracy: 0.6667 - val_loss: -13.7937\n",
            "Epoch 167/500\n",
            "\u001b[1m5/5\u001b[0m \u001b[32m━━━━━━━━━━━━━━━━━━━━\u001b[0m\u001b[37m\u001b[0m \u001b[1m0s\u001b[0m 16ms/step - accuracy: 0.6685 - loss: -14.3930 - val_accuracy: 0.6667 - val_loss: -13.7907\n",
            "Epoch 168/500\n",
            "\u001b[1m5/5\u001b[0m \u001b[32m━━━━━━━━━━━━━━━━━━━━\u001b[0m\u001b[37m\u001b[0m \u001b[1m0s\u001b[0m 16ms/step - accuracy: 0.6602 - loss: -14.4144 - val_accuracy: 0.6667 - val_loss: -13.7876\n",
            "Epoch 169/500\n",
            "\u001b[1m5/5\u001b[0m \u001b[32m━━━━━━━━━━━━━━━━━━━━\u001b[0m\u001b[37m\u001b[0m \u001b[1m0s\u001b[0m 16ms/step - accuracy: 0.6877 - loss: -14.6999 - val_accuracy: 0.6667 - val_loss: -13.7851\n",
            "Epoch 170/500\n",
            "\u001b[1m5/5\u001b[0m \u001b[32m━━━━━━━━━━━━━━━━━━━━\u001b[0m\u001b[37m\u001b[0m \u001b[1m0s\u001b[0m 16ms/step - accuracy: 0.6913 - loss: -14.7691 - val_accuracy: 0.6667 - val_loss: -13.7815\n",
            "Epoch 171/500\n",
            "\u001b[1m5/5\u001b[0m \u001b[32m━━━━━━━━━━━━━━━━━━━━\u001b[0m\u001b[37m\u001b[0m \u001b[1m0s\u001b[0m 16ms/step - accuracy: 0.6721 - loss: -14.5001 - val_accuracy: 0.6667 - val_loss: -13.7777\n",
            "Epoch 172/500\n",
            "\u001b[1m5/5\u001b[0m \u001b[32m━━━━━━━━━━━━━━━━━━━━\u001b[0m\u001b[37m\u001b[0m \u001b[1m0s\u001b[0m 17ms/step - accuracy: 0.6216 - loss: -14.1884 - val_accuracy: 0.6667 - val_loss: -13.7751\n",
            "Epoch 173/500\n",
            "\u001b[1m5/5\u001b[0m \u001b[32m━━━━━━━━━━━━━━━━━━━━\u001b[0m\u001b[37m\u001b[0m \u001b[1m0s\u001b[0m 16ms/step - accuracy: 0.6657 - loss: -14.6080 - val_accuracy: 0.6667 - val_loss: -13.7722\n",
            "Epoch 174/500\n",
            "\u001b[1m5/5\u001b[0m \u001b[32m━━━━━━━━━━━━━━━━━━━━\u001b[0m\u001b[37m\u001b[0m \u001b[1m0s\u001b[0m 15ms/step - accuracy: 0.6618 - loss: -14.5396 - val_accuracy: 0.6667 - val_loss: -13.7698\n",
            "Epoch 175/500\n",
            "\u001b[1m5/5\u001b[0m \u001b[32m━━━━━━━━━━━━━━━━━━━━\u001b[0m\u001b[37m\u001b[0m \u001b[1m0s\u001b[0m 16ms/step - accuracy: 0.6527 - loss: -14.5915 - val_accuracy: 0.6667 - val_loss: -13.7659\n",
            "Epoch 176/500\n",
            "\u001b[1m5/5\u001b[0m \u001b[32m━━━━━━━━━━━━━━━━━━━━\u001b[0m\u001b[37m\u001b[0m \u001b[1m0s\u001b[0m 26ms/step - accuracy: 0.6793 - loss: -14.4158 - val_accuracy: 0.6667 - val_loss: -13.7621\n",
            "Epoch 177/500\n",
            "\u001b[1m5/5\u001b[0m \u001b[32m━━━━━━━━━━━━━━━━━━━━\u001b[0m\u001b[37m\u001b[0m \u001b[1m0s\u001b[0m 17ms/step - accuracy: 0.6904 - loss: -14.9156 - val_accuracy: 0.6667 - val_loss: -13.7588\n",
            "Epoch 178/500\n",
            "\u001b[1m5/5\u001b[0m \u001b[32m━━━━━━━━━━━━━━━━━━━━\u001b[0m\u001b[37m\u001b[0m \u001b[1m0s\u001b[0m 16ms/step - accuracy: 0.6804 - loss: -14.5819 - val_accuracy: 0.6667 - val_loss: -13.7595\n",
            "Epoch 179/500\n",
            "\u001b[1m5/5\u001b[0m \u001b[32m━━━━━━━━━━━━━━━━━━━━\u001b[0m\u001b[37m\u001b[0m \u001b[1m0s\u001b[0m 16ms/step - accuracy: 0.6466 - loss: -14.2917 - val_accuracy: 0.6667 - val_loss: -13.7590\n",
            "Epoch 180/500\n",
            "\u001b[1m5/5\u001b[0m \u001b[32m━━━━━━━━━━━━━━━━━━━━\u001b[0m\u001b[37m\u001b[0m \u001b[1m0s\u001b[0m 15ms/step - accuracy: 0.6657 - loss: -14.8611 - val_accuracy: 0.6667 - val_loss: -13.7580\n",
            "Epoch 181/500\n",
            "\u001b[1m5/5\u001b[0m \u001b[32m━━━━━━━━━━━━━━━━━━━━\u001b[0m\u001b[37m\u001b[0m \u001b[1m0s\u001b[0m 18ms/step - accuracy: 0.6502 - loss: -14.2410 - val_accuracy: 0.6667 - val_loss: -13.7573\n",
            "Epoch 182/500\n",
            "\u001b[1m5/5\u001b[0m \u001b[32m━━━━━━━━━━━━━━━━━━━━\u001b[0m\u001b[37m\u001b[0m \u001b[1m0s\u001b[0m 15ms/step - accuracy: 0.6252 - loss: -14.6385 - val_accuracy: 0.6667 - val_loss: -13.7561\n",
            "Epoch 183/500\n",
            "\u001b[1m5/5\u001b[0m \u001b[32m━━━━━━━━━━━━━━━━━━━━\u001b[0m\u001b[37m\u001b[0m \u001b[1m0s\u001b[0m 17ms/step - accuracy: 0.6827 - loss: -14.5129 - val_accuracy: 0.6667 - val_loss: -13.7547\n",
            "Epoch 184/500\n",
            "\u001b[1m5/5\u001b[0m \u001b[32m━━━━━━━━━━━━━━━━━━━━\u001b[0m\u001b[37m\u001b[0m \u001b[1m0s\u001b[0m 16ms/step - accuracy: 0.6877 - loss: -14.5692 - val_accuracy: 0.6800 - val_loss: -13.7535\n",
            "Epoch 185/500\n",
            "\u001b[1m5/5\u001b[0m \u001b[32m━━━━━━━━━━━━━━━━━━━━\u001b[0m\u001b[37m\u001b[0m \u001b[1m0s\u001b[0m 17ms/step - accuracy: 0.6897 - loss: -14.7256 - val_accuracy: 0.6800 - val_loss: -13.7521\n",
            "Epoch 186/500\n",
            "\u001b[1m5/5\u001b[0m \u001b[32m━━━━━━━━━━━━━━━━━━━━\u001b[0m\u001b[37m\u001b[0m \u001b[1m0s\u001b[0m 16ms/step - accuracy: 0.6819 - loss: -14.5546 - val_accuracy: 0.6800 - val_loss: -13.7504\n",
            "Epoch 187/500\n",
            "\u001b[1m5/5\u001b[0m \u001b[32m━━━━━━━━━━━━━━━━━━━━\u001b[0m\u001b[37m\u001b[0m \u001b[1m0s\u001b[0m 16ms/step - accuracy: 0.6486 - loss: -14.4634 - val_accuracy: 0.6800 - val_loss: -13.7495\n",
            "Epoch 188/500\n",
            "\u001b[1m5/5\u001b[0m \u001b[32m━━━━━━━━━━━━━━━━━━━━\u001b[0m\u001b[37m\u001b[0m \u001b[1m0s\u001b[0m 16ms/step - accuracy: 0.6586 - loss: -14.1026 - val_accuracy: 0.6800 - val_loss: -13.7481\n",
            "Epoch 189/500\n",
            "\u001b[1m5/5\u001b[0m \u001b[32m━━━━━━━━━━━━━━━━━━━━\u001b[0m\u001b[37m\u001b[0m \u001b[1m0s\u001b[0m 16ms/step - accuracy: 0.6600 - loss: -14.6150 - val_accuracy: 0.6800 - val_loss: -13.7481\n",
            "Epoch 190/500\n",
            "\u001b[1m5/5\u001b[0m \u001b[32m━━━━━━━━━━━━━━━━━━━━\u001b[0m\u001b[37m\u001b[0m \u001b[1m0s\u001b[0m 19ms/step - accuracy: 0.6647 - loss: -14.6268 - val_accuracy: 0.6800 - val_loss: -13.7471\n",
            "Epoch 191/500\n",
            "\u001b[1m5/5\u001b[0m \u001b[32m━━━━━━━━━━━━━━━━━━━━\u001b[0m\u001b[37m\u001b[0m \u001b[1m0s\u001b[0m 16ms/step - accuracy: 0.6692 - loss: -14.7531 - val_accuracy: 0.6800 - val_loss: -13.7460\n",
            "Epoch 192/500\n",
            "\u001b[1m5/5\u001b[0m \u001b[32m━━━━━━━━━━━━━━━━━━━━\u001b[0m\u001b[37m\u001b[0m \u001b[1m0s\u001b[0m 16ms/step - accuracy: 0.6619 - loss: -14.7095 - val_accuracy: 0.6800 - val_loss: -13.7455\n",
            "Epoch 193/500\n",
            "\u001b[1m5/5\u001b[0m \u001b[32m━━━━━━━━━━━━━━━━━━━━\u001b[0m\u001b[37m\u001b[0m \u001b[1m0s\u001b[0m 17ms/step - accuracy: 0.6431 - loss: -14.2699 - val_accuracy: 0.6800 - val_loss: -13.7448\n",
            "Epoch 194/500\n",
            "\u001b[1m5/5\u001b[0m \u001b[32m━━━━━━━━━━━━━━━━━━━━\u001b[0m\u001b[37m\u001b[0m \u001b[1m0s\u001b[0m 16ms/step - accuracy: 0.6633 - loss: -14.5162 - val_accuracy: 0.6800 - val_loss: -13.7422\n",
            "Epoch 195/500\n",
            "\u001b[1m5/5\u001b[0m \u001b[32m━━━━━━━━━━━━━━━━━━━━\u001b[0m\u001b[37m\u001b[0m \u001b[1m0s\u001b[0m 16ms/step - accuracy: 0.6794 - loss: -14.7352 - val_accuracy: 0.6800 - val_loss: -13.7431\n",
            "Epoch 196/500\n",
            "\u001b[1m5/5\u001b[0m \u001b[32m━━━━━━━━━━━━━━━━━━━━\u001b[0m\u001b[37m\u001b[0m \u001b[1m0s\u001b[0m 16ms/step - accuracy: 0.6658 - loss: -14.6318 - val_accuracy: 0.6800 - val_loss: -13.7418\n",
            "Epoch 197/500\n",
            "\u001b[1m5/5\u001b[0m \u001b[32m━━━━━━━━━━━━━━━━━━━━\u001b[0m\u001b[37m\u001b[0m \u001b[1m0s\u001b[0m 15ms/step - accuracy: 0.6783 - loss: -14.3814 - val_accuracy: 0.6800 - val_loss: -13.7417\n",
            "Epoch 198/500\n",
            "\u001b[1m5/5\u001b[0m \u001b[32m━━━━━━━━━━━━━━━━━━━━\u001b[0m\u001b[37m\u001b[0m \u001b[1m0s\u001b[0m 15ms/step - accuracy: 0.6536 - loss: -14.2451 - val_accuracy: 0.6667 - val_loss: -13.7396\n",
            "Epoch 199/500\n",
            "\u001b[1m5/5\u001b[0m \u001b[32m━━━━━━━━━━━━━━━━━━━━\u001b[0m\u001b[37m\u001b[0m \u001b[1m0s\u001b[0m 15ms/step - accuracy: 0.6396 - loss: -13.9454 - val_accuracy: 0.6800 - val_loss: -13.7416\n",
            "Epoch 200/500\n",
            "\u001b[1m5/5\u001b[0m \u001b[32m━━━━━━━━━━━━━━━━━━━━\u001b[0m\u001b[37m\u001b[0m \u001b[1m0s\u001b[0m 17ms/step - accuracy: 0.6972 - loss: -15.3319 - val_accuracy: 0.6800 - val_loss: -13.7405\n",
            "Epoch 201/500\n",
            "\u001b[1m5/5\u001b[0m \u001b[32m━━━━━━━━━━━━━━━━━━━━\u001b[0m\u001b[37m\u001b[0m \u001b[1m0s\u001b[0m 16ms/step - accuracy: 0.6883 - loss: -14.8187 - val_accuracy: 0.6667 - val_loss: -13.7305\n",
            "Epoch 202/500\n",
            "\u001b[1m5/5\u001b[0m \u001b[32m━━━━━━━━━━━━━━━━━━━━\u001b[0m\u001b[37m\u001b[0m \u001b[1m0s\u001b[0m 16ms/step - accuracy: 0.6754 - loss: -14.7889 - val_accuracy: 0.6667 - val_loss: -13.7314\n",
            "Epoch 203/500\n",
            "\u001b[1m5/5\u001b[0m \u001b[32m━━━━━━━━━━━━━━━━━━━━\u001b[0m\u001b[37m\u001b[0m \u001b[1m0s\u001b[0m 18ms/step - accuracy: 0.6591 - loss: -14.2888 - val_accuracy: 0.6667 - val_loss: -13.7378\n",
            "Epoch 204/500\n",
            "\u001b[1m5/5\u001b[0m \u001b[32m━━━━━━━━━━━━━━━━━━━━\u001b[0m\u001b[37m\u001b[0m \u001b[1m0s\u001b[0m 16ms/step - accuracy: 0.6588 - loss: -14.6691 - val_accuracy: 0.6667 - val_loss: -13.7370\n",
            "Epoch 205/500\n",
            "\u001b[1m5/5\u001b[0m \u001b[32m━━━━━━━━━━━━━━━━━━━━\u001b[0m\u001b[37m\u001b[0m \u001b[1m0s\u001b[0m 17ms/step - accuracy: 0.6646 - loss: -14.8277 - val_accuracy: 0.6667 - val_loss: -13.7364\n",
            "Epoch 206/500\n",
            "\u001b[1m5/5\u001b[0m \u001b[32m━━━━━━━━━━━━━━━━━━━━\u001b[0m\u001b[37m\u001b[0m \u001b[1m0s\u001b[0m 27ms/step - accuracy: 0.6496 - loss: -14.2369 - val_accuracy: 0.6667 - val_loss: -13.7371\n",
            "Epoch 207/500\n",
            "\u001b[1m5/5\u001b[0m \u001b[32m━━━━━━━━━━━━━━━━━━━━\u001b[0m\u001b[37m\u001b[0m \u001b[1m0s\u001b[0m 18ms/step - accuracy: 0.6718 - loss: -14.6540 - val_accuracy: 0.6667 - val_loss: -13.7386\n",
            "Epoch 208/500\n",
            "\u001b[1m5/5\u001b[0m \u001b[32m━━━━━━━━━━━━━━━━━━━━\u001b[0m\u001b[37m\u001b[0m \u001b[1m0s\u001b[0m 16ms/step - accuracy: 0.6593 - loss: -14.6368 - val_accuracy: 0.6667 - val_loss: -13.7406\n",
            "Epoch 209/500\n",
            "\u001b[1m5/5\u001b[0m \u001b[32m━━━━━━━━━━━━━━━━━━━━\u001b[0m\u001b[37m\u001b[0m \u001b[1m0s\u001b[0m 16ms/step - accuracy: 0.6488 - loss: -14.2408 - val_accuracy: 0.6667 - val_loss: -13.7409\n",
            "Epoch 210/500\n",
            "\u001b[1m5/5\u001b[0m \u001b[32m━━━━━━━━━━━━━━━━━━━━\u001b[0m\u001b[37m\u001b[0m \u001b[1m0s\u001b[0m 17ms/step - accuracy: 0.6427 - loss: -14.6391 - val_accuracy: 0.6667 - val_loss: -13.7417\n",
            "Epoch 211/500\n",
            "\u001b[1m5/5\u001b[0m \u001b[32m━━━━━━━━━━━━━━━━━━━━\u001b[0m\u001b[37m\u001b[0m \u001b[1m0s\u001b[0m 16ms/step - accuracy: 0.6252 - loss: -14.2319 - val_accuracy: 0.6667 - val_loss: -13.7431\n",
            "Epoch 212/500\n",
            "\u001b[1m5/5\u001b[0m \u001b[32m━━━━━━━━━━━━━━━━━━━━\u001b[0m\u001b[37m\u001b[0m \u001b[1m0s\u001b[0m 16ms/step - accuracy: 0.6593 - loss: -14.3875 - val_accuracy: 0.6667 - val_loss: -13.7433\n",
            "Epoch 213/500\n",
            "\u001b[1m5/5\u001b[0m \u001b[32m━━━━━━━━━━━━━━━━━━━━\u001b[0m\u001b[37m\u001b[0m \u001b[1m0s\u001b[0m 16ms/step - accuracy: 0.6341 - loss: -14.2238 - val_accuracy: 0.6667 - val_loss: -13.7428\n",
            "Epoch 214/500\n",
            "\u001b[1m5/5\u001b[0m \u001b[32m━━━━━━━━━━━━━━━━━━━━\u001b[0m\u001b[37m\u001b[0m \u001b[1m0s\u001b[0m 16ms/step - accuracy: 0.6588 - loss: -14.6461 - val_accuracy: 0.6667 - val_loss: -13.7418\n",
            "Epoch 215/500\n",
            "\u001b[1m5/5\u001b[0m \u001b[32m━━━━━━━━━━━━━━━━━━━━\u001b[0m\u001b[37m\u001b[0m \u001b[1m0s\u001b[0m 16ms/step - accuracy: 0.6960 - loss: -14.9930 - val_accuracy: 0.6667 - val_loss: -13.7406\n",
            "Epoch 216/500\n",
            "\u001b[1m5/5\u001b[0m \u001b[32m━━━━━━━━━━━━━━━━━━━━\u001b[0m\u001b[37m\u001b[0m \u001b[1m0s\u001b[0m 18ms/step - accuracy: 0.6777 - loss: -14.8784 - val_accuracy: 0.6667 - val_loss: -13.7390\n",
            "Epoch 217/500\n",
            "\u001b[1m5/5\u001b[0m \u001b[32m━━━━━━━━━━━━━━━━━━━━\u001b[0m\u001b[37m\u001b[0m \u001b[1m0s\u001b[0m 16ms/step - accuracy: 0.6635 - loss: -14.7834 - val_accuracy: 0.6667 - val_loss: -13.7373\n",
            "Epoch 218/500\n",
            "\u001b[1m5/5\u001b[0m \u001b[32m━━━━━━━━━━━━━━━━━━━━\u001b[0m\u001b[37m\u001b[0m \u001b[1m0s\u001b[0m 16ms/step - accuracy: 0.6643 - loss: -14.6538 - val_accuracy: 0.6533 - val_loss: -13.7361\n",
            "Epoch 219/500\n",
            "\u001b[1m5/5\u001b[0m \u001b[32m━━━━━━━━━━━━━━━━━━━━\u001b[0m\u001b[37m\u001b[0m \u001b[1m0s\u001b[0m 16ms/step - accuracy: 0.6578 - loss: -14.9104 - val_accuracy: 0.6533 - val_loss: -13.7367\n",
            "Epoch 220/500\n",
            "\u001b[1m5/5\u001b[0m \u001b[32m━━━━━━━━━━━━━━━━━━━━\u001b[0m\u001b[37m\u001b[0m \u001b[1m0s\u001b[0m 17ms/step - accuracy: 0.6420 - loss: -14.4168 - val_accuracy: 0.6533 - val_loss: -13.7366\n",
            "Epoch 221/500\n",
            "\u001b[1m5/5\u001b[0m \u001b[32m━━━━━━━━━━━━━━━━━━━━\u001b[0m\u001b[37m\u001b[0m \u001b[1m0s\u001b[0m 16ms/step - accuracy: 0.7109 - loss: -14.9121 - val_accuracy: 0.6533 - val_loss: -13.7378\n",
            "Epoch 222/500\n",
            "\u001b[1m5/5\u001b[0m \u001b[32m━━━━━━━━━━━━━━━━━━━━\u001b[0m\u001b[37m\u001b[0m \u001b[1m0s\u001b[0m 17ms/step - accuracy: 0.6764 - loss: -14.7751 - val_accuracy: 0.6533 - val_loss: -13.7388\n",
            "Epoch 223/500\n",
            "\u001b[1m5/5\u001b[0m \u001b[32m━━━━━━━━━━━━━━━━━━━━\u001b[0m\u001b[37m\u001b[0m \u001b[1m0s\u001b[0m 16ms/step - accuracy: 0.6281 - loss: -14.0482 - val_accuracy: 0.6533 - val_loss: -13.7360\n",
            "Epoch 224/500\n",
            "\u001b[1m5/5\u001b[0m \u001b[32m━━━━━━━━━━━━━━━━━━━━\u001b[0m\u001b[37m\u001b[0m \u001b[1m0s\u001b[0m 17ms/step - accuracy: 0.6531 - loss: -14.5056 - val_accuracy: 0.6533 - val_loss: -13.7378\n",
            "Epoch 225/500\n",
            "\u001b[1m5/5\u001b[0m \u001b[32m━━━━━━━━━━━━━━━━━━━━\u001b[0m\u001b[37m\u001b[0m \u001b[1m0s\u001b[0m 17ms/step - accuracy: 0.6920 - loss: -14.6970 - val_accuracy: 0.6533 - val_loss: -13.7370\n",
            "Epoch 226/500\n",
            "\u001b[1m5/5\u001b[0m \u001b[32m━━━━━━━━━━━━━━━━━━━━\u001b[0m\u001b[37m\u001b[0m \u001b[1m0s\u001b[0m 33ms/step - accuracy: 0.6601 - loss: -14.5125 - val_accuracy: 0.6533 - val_loss: -13.7374\n",
            "Epoch 227/500\n",
            "\u001b[1m5/5\u001b[0m \u001b[32m━━━━━━━━━━━━━━━━━━━━\u001b[0m\u001b[37m\u001b[0m \u001b[1m0s\u001b[0m 23ms/step - accuracy: 0.6559 - loss: -14.5372 - val_accuracy: 0.6533 - val_loss: -13.7388\n",
            "Epoch 228/500\n",
            "\u001b[1m5/5\u001b[0m \u001b[32m━━━━━━━━━━━━━━━━━━━━\u001b[0m\u001b[37m\u001b[0m \u001b[1m0s\u001b[0m 32ms/step - accuracy: 0.6607 - loss: -14.6086 - val_accuracy: 0.6533 - val_loss: -13.7418\n",
            "Epoch 229/500\n",
            "\u001b[1m5/5\u001b[0m \u001b[32m━━━━━━━━━━━━━━━━━━━━\u001b[0m\u001b[37m\u001b[0m \u001b[1m0s\u001b[0m 30ms/step - accuracy: 0.6627 - loss: -14.4641 - val_accuracy: 0.6533 - val_loss: -13.7444\n",
            "Epoch 230/500\n",
            "\u001b[1m5/5\u001b[0m \u001b[32m━━━━━━━━━━━━━━━━━━━━\u001b[0m\u001b[37m\u001b[0m \u001b[1m0s\u001b[0m 25ms/step - accuracy: 0.6861 - loss: -14.8299 - val_accuracy: 0.6533 - val_loss: -13.7449\n",
            "Epoch 231/500\n",
            "\u001b[1m5/5\u001b[0m \u001b[32m━━━━━━━━━━━━━━━━━━━━\u001b[0m\u001b[37m\u001b[0m \u001b[1m0s\u001b[0m 23ms/step - accuracy: 0.6938 - loss: -14.3972 - val_accuracy: 0.6533 - val_loss: -13.7460\n",
            "Epoch 232/500\n",
            "\u001b[1m5/5\u001b[0m \u001b[32m━━━━━━━━━━━━━━━━━━━━\u001b[0m\u001b[37m\u001b[0m \u001b[1m0s\u001b[0m 32ms/step - accuracy: 0.6710 - loss: -14.4509 - val_accuracy: 0.6533 - val_loss: -13.7469\n",
            "Epoch 233/500\n",
            "\u001b[1m5/5\u001b[0m \u001b[32m━━━━━━━━━━━━━━━━━━━━\u001b[0m\u001b[37m\u001b[0m \u001b[1m0s\u001b[0m 33ms/step - accuracy: 0.6710 - loss: -14.9398 - val_accuracy: 0.6533 - val_loss: -13.7485\n",
            "Epoch 234/500\n",
            "\u001b[1m5/5\u001b[0m \u001b[32m━━━━━━━━━━━━━━━━━━━━\u001b[0m\u001b[37m\u001b[0m \u001b[1m0s\u001b[0m 21ms/step - accuracy: 0.6651 - loss: -14.5812 - val_accuracy: 0.6533 - val_loss: -13.7502\n",
            "Epoch 235/500\n",
            "\u001b[1m5/5\u001b[0m \u001b[32m━━━━━━━━━━━━━━━━━━━━\u001b[0m\u001b[37m\u001b[0m \u001b[1m0s\u001b[0m 17ms/step - accuracy: 0.6594 - loss: -14.5033 - val_accuracy: 0.6533 - val_loss: -13.7515\n",
            "Epoch 236/500\n",
            "\u001b[1m5/5\u001b[0m \u001b[32m━━━━━━━━━━━━━━━━━━━━\u001b[0m\u001b[37m\u001b[0m \u001b[1m0s\u001b[0m 16ms/step - accuracy: 0.6663 - loss: -14.3519 - val_accuracy: 0.6533 - val_loss: -13.7514\n",
            "Epoch 237/500\n",
            "\u001b[1m5/5\u001b[0m \u001b[32m━━━━━━━━━━━━━━━━━━━━\u001b[0m\u001b[37m\u001b[0m \u001b[1m0s\u001b[0m 16ms/step - accuracy: 0.6880 - loss: -14.6617 - val_accuracy: 0.6533 - val_loss: -13.7525\n",
            "Epoch 238/500\n",
            "\u001b[1m5/5\u001b[0m \u001b[32m━━━━━━━━━━━━━━━━━━━━\u001b[0m\u001b[37m\u001b[0m \u001b[1m0s\u001b[0m 15ms/step - accuracy: 0.6796 - loss: -14.7032 - val_accuracy: 0.6533 - val_loss: -13.7536\n",
            "Epoch 239/500\n",
            "\u001b[1m5/5\u001b[0m \u001b[32m━━━━━━━━━━━━━━━━━━━━\u001b[0m\u001b[37m\u001b[0m \u001b[1m0s\u001b[0m 16ms/step - accuracy: 0.6529 - loss: -14.2585 - val_accuracy: 0.6533 - val_loss: -13.7546\n",
            "Epoch 240/500\n",
            "\u001b[1m5/5\u001b[0m \u001b[32m━━━━━━━━━━━━━━━━━━━━\u001b[0m\u001b[37m\u001b[0m \u001b[1m0s\u001b[0m 16ms/step - accuracy: 0.6788 - loss: -14.3783 - val_accuracy: 0.6533 - val_loss: -13.7558\n",
            "Epoch 241/500\n",
            "\u001b[1m5/5\u001b[0m \u001b[32m━━━━━━━━━━━━━━━━━━━━\u001b[0m\u001b[37m\u001b[0m \u001b[1m0s\u001b[0m 16ms/step - accuracy: 0.6504 - loss: -14.1802 - val_accuracy: 0.6533 - val_loss: -13.7578\n",
            "Epoch 242/500\n",
            "\u001b[1m5/5\u001b[0m \u001b[32m━━━━━━━━━━━━━━━━━━━━\u001b[0m\u001b[37m\u001b[0m \u001b[1m0s\u001b[0m 16ms/step - accuracy: 0.6498 - loss: -14.4906 - val_accuracy: 0.6533 - val_loss: -13.7600\n",
            "Epoch 243/500\n",
            "\u001b[1m5/5\u001b[0m \u001b[32m━━━━━━━━━━━━━━━━━━━━\u001b[0m\u001b[37m\u001b[0m \u001b[1m0s\u001b[0m 16ms/step - accuracy: 0.6504 - loss: -14.6109 - val_accuracy: 0.6533 - val_loss: -13.7621\n",
            "Epoch 244/500\n",
            "\u001b[1m5/5\u001b[0m \u001b[32m━━━━━━━━━━━━━━━━━━━━\u001b[0m\u001b[37m\u001b[0m \u001b[1m0s\u001b[0m 16ms/step - accuracy: 0.6705 - loss: -14.2537 - val_accuracy: 0.6533 - val_loss: -13.7625\n",
            "Epoch 245/500\n",
            "\u001b[1m5/5\u001b[0m \u001b[32m━━━━━━━━━━━━━━━━━━━━\u001b[0m\u001b[37m\u001b[0m \u001b[1m0s\u001b[0m 16ms/step - accuracy: 0.6653 - loss: -14.4072 - val_accuracy: 0.6667 - val_loss: -13.7634\n",
            "Epoch 246/500\n",
            "\u001b[1m5/5\u001b[0m \u001b[32m━━━━━━━━━━━━━━━━━━━━\u001b[0m\u001b[37m\u001b[0m \u001b[1m0s\u001b[0m 19ms/step - accuracy: 0.6644 - loss: -14.6830 - val_accuracy: 0.6533 - val_loss: -13.7642\n",
            "Epoch 247/500\n",
            "\u001b[1m5/5\u001b[0m \u001b[32m━━━━━━━━━━━━━━━━━━━━\u001b[0m\u001b[37m\u001b[0m \u001b[1m0s\u001b[0m 16ms/step - accuracy: 0.6438 - loss: -14.4691 - val_accuracy: 0.6533 - val_loss: -13.7644\n",
            "Epoch 248/500\n",
            "\u001b[1m5/5\u001b[0m \u001b[32m━━━━━━━━━━━━━━━━━━━━\u001b[0m\u001b[37m\u001b[0m \u001b[1m0s\u001b[0m 16ms/step - accuracy: 0.6642 - loss: -14.9690 - val_accuracy: 0.6533 - val_loss: -13.7655\n",
            "Epoch 249/500\n",
            "\u001b[1m5/5\u001b[0m \u001b[32m━━━━━━━━━━━━━━━━━━━━\u001b[0m\u001b[37m\u001b[0m \u001b[1m0s\u001b[0m 16ms/step - accuracy: 0.6728 - loss: -14.3442 - val_accuracy: 0.6533 - val_loss: -13.7669\n",
            "Epoch 250/500\n",
            "\u001b[1m5/5\u001b[0m \u001b[32m━━━━━━━━━━━━━━━━━━━━\u001b[0m\u001b[37m\u001b[0m \u001b[1m0s\u001b[0m 16ms/step - accuracy: 0.6774 - loss: -14.8833 - val_accuracy: 0.6533 - val_loss: -13.7683\n",
            "Epoch 251/500\n",
            "\u001b[1m5/5\u001b[0m \u001b[32m━━━━━━━━━━━━━━━━━━━━\u001b[0m\u001b[37m\u001b[0m \u001b[1m0s\u001b[0m 17ms/step - accuracy: 0.6819 - loss: -14.3482 - val_accuracy: 0.6533 - val_loss: -13.7712\n",
            "Epoch 252/500\n",
            "\u001b[1m5/5\u001b[0m \u001b[32m━━━━━━━━━━━━━━━━━━━━\u001b[0m\u001b[37m\u001b[0m \u001b[1m0s\u001b[0m 16ms/step - accuracy: 0.6697 - loss: -14.2673 - val_accuracy: 0.6533 - val_loss: -13.7739\n",
            "Epoch 253/500\n",
            "\u001b[1m5/5\u001b[0m \u001b[32m━━━━━━━━━━━━━━━━━━━━\u001b[0m\u001b[37m\u001b[0m \u001b[1m0s\u001b[0m 16ms/step - accuracy: 0.6961 - loss: -14.4987 - val_accuracy: 0.6533 - val_loss: -13.7762\n",
            "Epoch 254/500\n",
            "\u001b[1m5/5\u001b[0m \u001b[32m━━━━━━━━━━━━━━━━━━━━\u001b[0m\u001b[37m\u001b[0m \u001b[1m0s\u001b[0m 16ms/step - accuracy: 0.6855 - loss: -14.7499 - val_accuracy: 0.6667 - val_loss: -13.7775\n",
            "Epoch 255/500\n",
            "\u001b[1m5/5\u001b[0m \u001b[32m━━━━━━━━━━━━━━━━━━━━\u001b[0m\u001b[37m\u001b[0m \u001b[1m0s\u001b[0m 18ms/step - accuracy: 0.6549 - loss: -14.4153 - val_accuracy: 0.6533 - val_loss: -13.7780\n",
            "Epoch 256/500\n",
            "\u001b[1m5/5\u001b[0m \u001b[32m━━━━━━━━━━━━━━━━━━━━\u001b[0m\u001b[37m\u001b[0m \u001b[1m0s\u001b[0m 16ms/step - accuracy: 0.6530 - loss: -14.3882 - val_accuracy: 0.6533 - val_loss: -13.7791\n",
            "Epoch 257/500\n",
            "\u001b[1m5/5\u001b[0m \u001b[32m━━━━━━━━━━━━━━━━━━━━\u001b[0m\u001b[37m\u001b[0m \u001b[1m0s\u001b[0m 16ms/step - accuracy: 0.6631 - loss: -14.9991 - val_accuracy: 0.6533 - val_loss: -13.7795\n",
            "Epoch 258/500\n",
            "\u001b[1m5/5\u001b[0m \u001b[32m━━━━━━━━━━━━━━━━━━━━\u001b[0m\u001b[37m\u001b[0m \u001b[1m0s\u001b[0m 16ms/step - accuracy: 0.6853 - loss: -14.8645 - val_accuracy: 0.6533 - val_loss: -13.7809\n",
            "Epoch 259/500\n",
            "\u001b[1m5/5\u001b[0m \u001b[32m━━━━━━━━━━━━━━━━━━━━\u001b[0m\u001b[37m\u001b[0m \u001b[1m0s\u001b[0m 15ms/step - accuracy: 0.6872 - loss: -15.0906 - val_accuracy: 0.6533 - val_loss: -13.7806\n",
            "Epoch 260/500\n",
            "\u001b[1m5/5\u001b[0m \u001b[32m━━━━━━━━━━━━━━━━━━━━\u001b[0m\u001b[37m\u001b[0m \u001b[1m0s\u001b[0m 15ms/step - accuracy: 0.6733 - loss: -14.7196 - val_accuracy: 0.6533 - val_loss: -13.7823\n",
            "Epoch 261/500\n",
            "\u001b[1m5/5\u001b[0m \u001b[32m━━━━━━━━━━━━━━━━━━━━\u001b[0m\u001b[37m\u001b[0m \u001b[1m0s\u001b[0m 16ms/step - accuracy: 0.6587 - loss: -14.5346 - val_accuracy: 0.6533 - val_loss: -13.7834\n",
            "Epoch 262/500\n",
            "\u001b[1m5/5\u001b[0m \u001b[32m━━━━━━━━━━━━━━━━━━━━\u001b[0m\u001b[37m\u001b[0m \u001b[1m0s\u001b[0m 16ms/step - accuracy: 0.6356 - loss: -14.7885 - val_accuracy: 0.6533 - val_loss: -13.7845\n",
            "Epoch 263/500\n",
            "\u001b[1m5/5\u001b[0m \u001b[32m━━━━━━━━━━━━━━━━━━━━\u001b[0m\u001b[37m\u001b[0m \u001b[1m0s\u001b[0m 17ms/step - accuracy: 0.6572 - loss: -14.6011 - val_accuracy: 0.6533 - val_loss: -13.7860\n",
            "Epoch 264/500\n",
            "\u001b[1m5/5\u001b[0m \u001b[32m━━━━━━━━━━━━━━━━━━━━\u001b[0m\u001b[37m\u001b[0m \u001b[1m0s\u001b[0m 19ms/step - accuracy: 0.6486 - loss: -14.3993 - val_accuracy: 0.6667 - val_loss: -13.7872\n",
            "Epoch 265/500\n",
            "\u001b[1m5/5\u001b[0m \u001b[32m━━━━━━━━━━━━━━━━━━━━\u001b[0m\u001b[37m\u001b[0m \u001b[1m0s\u001b[0m 16ms/step - accuracy: 0.6584 - loss: -14.4596 - val_accuracy: 0.6667 - val_loss: -13.7938\n",
            "Epoch 266/500\n",
            "\u001b[1m5/5\u001b[0m \u001b[32m━━━━━━━━━━━━━━━━━━━━\u001b[0m\u001b[37m\u001b[0m \u001b[1m0s\u001b[0m 16ms/step - accuracy: 0.6846 - loss: -14.3126 - val_accuracy: 0.6533 - val_loss: -13.7962\n",
            "Epoch 267/500\n",
            "\u001b[1m5/5\u001b[0m \u001b[32m━━━━━━━━━━━━━━━━━━━━\u001b[0m\u001b[37m\u001b[0m \u001b[1m0s\u001b[0m 16ms/step - accuracy: 0.6595 - loss: -14.8417 - val_accuracy: 0.6533 - val_loss: -13.8000\n",
            "Epoch 268/500\n",
            "\u001b[1m5/5\u001b[0m \u001b[32m━━━━━━━━━━━━━━━━━━━━\u001b[0m\u001b[37m\u001b[0m \u001b[1m0s\u001b[0m 16ms/step - accuracy: 0.6786 - loss: -14.6825 - val_accuracy: 0.6533 - val_loss: -13.7990\n",
            "Epoch 269/500\n",
            "\u001b[1m5/5\u001b[0m \u001b[32m━━━━━━━━━━━━━━━━━━━━\u001b[0m\u001b[37m\u001b[0m \u001b[1m0s\u001b[0m 17ms/step - accuracy: 0.6858 - loss: -15.0395 - val_accuracy: 0.6667 - val_loss: -13.8047\n",
            "Epoch 270/500\n",
            "\u001b[1m5/5\u001b[0m \u001b[32m━━━━━━━━━━━━━━━━━━━━\u001b[0m\u001b[37m\u001b[0m \u001b[1m0s\u001b[0m 16ms/step - accuracy: 0.6480 - loss: -14.3065 - val_accuracy: 0.6533 - val_loss: -13.8061\n",
            "Epoch 271/500\n",
            "\u001b[1m5/5\u001b[0m \u001b[32m━━━━━━━━━━━━━━━━━━━━\u001b[0m\u001b[37m\u001b[0m \u001b[1m0s\u001b[0m 16ms/step - accuracy: 0.6728 - loss: -15.2099 - val_accuracy: 0.6667 - val_loss: -13.8069\n",
            "Epoch 272/500\n",
            "\u001b[1m5/5\u001b[0m \u001b[32m━━━━━━━━━━━━━━━━━━━━\u001b[0m\u001b[37m\u001b[0m \u001b[1m0s\u001b[0m 16ms/step - accuracy: 0.6912 - loss: -14.6943 - val_accuracy: 0.6800 - val_loss: -13.8047\n",
            "Epoch 273/500\n",
            "\u001b[1m5/5\u001b[0m \u001b[32m━━━━━━━━━━━━━━━━━━━━\u001b[0m\u001b[37m\u001b[0m \u001b[1m0s\u001b[0m 19ms/step - accuracy: 0.7133 - loss: -14.8775 - val_accuracy: 0.6533 - val_loss: -13.8106\n",
            "Epoch 274/500\n",
            "\u001b[1m5/5\u001b[0m \u001b[32m━━━━━━━━━━━━━━━━━━━━\u001b[0m\u001b[37m\u001b[0m \u001b[1m0s\u001b[0m 15ms/step - accuracy: 0.6811 - loss: -14.5620 - val_accuracy: 0.6667 - val_loss: -13.8121\n",
            "Epoch 275/500\n",
            "\u001b[1m5/5\u001b[0m \u001b[32m━━━━━━━━━━━━━━━━━━━━\u001b[0m\u001b[37m\u001b[0m \u001b[1m0s\u001b[0m 16ms/step - accuracy: 0.6732 - loss: -15.0076 - val_accuracy: 0.6667 - val_loss: -13.8167\n",
            "Epoch 276/500\n",
            "\u001b[1m5/5\u001b[0m \u001b[32m━━━━━━━━━━━━━━━━━━━━\u001b[0m\u001b[37m\u001b[0m \u001b[1m0s\u001b[0m 16ms/step - accuracy: 0.6696 - loss: -14.4822 - val_accuracy: 0.6667 - val_loss: -13.8204\n",
            "Epoch 277/500\n",
            "\u001b[1m5/5\u001b[0m \u001b[32m━━━━━━━━━━━━━━━━━━━━\u001b[0m\u001b[37m\u001b[0m \u001b[1m0s\u001b[0m 16ms/step - accuracy: 0.6742 - loss: -14.6593 - val_accuracy: 0.6800 - val_loss: -13.8235\n",
            "Epoch 278/500\n",
            "\u001b[1m5/5\u001b[0m \u001b[32m━━━━━━━━━━━━━━━━━━━━\u001b[0m\u001b[37m\u001b[0m \u001b[1m0s\u001b[0m 16ms/step - accuracy: 0.6926 - loss: -14.7556 - val_accuracy: 0.6533 - val_loss: -13.8275\n",
            "Epoch 279/500\n",
            "\u001b[1m5/5\u001b[0m \u001b[32m━━━━━━━━━━━━━━━━━━━━\u001b[0m\u001b[37m\u001b[0m \u001b[1m0s\u001b[0m 16ms/step - accuracy: 0.6497 - loss: -14.0621 - val_accuracy: 0.6667 - val_loss: -13.8312\n",
            "Epoch 280/500\n",
            "\u001b[1m5/5\u001b[0m \u001b[32m━━━━━━━━━━━━━━━━━━━━\u001b[0m\u001b[37m\u001b[0m \u001b[1m0s\u001b[0m 16ms/step - accuracy: 0.7138 - loss: -15.0098 - val_accuracy: 0.6667 - val_loss: -13.8330\n",
            "Epoch 281/500\n",
            "\u001b[1m5/5\u001b[0m \u001b[32m━━━━━━━━━━━━━━━━━━━━\u001b[0m\u001b[37m\u001b[0m \u001b[1m0s\u001b[0m 16ms/step - accuracy: 0.6859 - loss: -14.7783 - val_accuracy: 0.6667 - val_loss: -13.8353\n",
            "Epoch 282/500\n",
            "\u001b[1m5/5\u001b[0m \u001b[32m━━━━━━━━━━━━━━━━━━━━\u001b[0m\u001b[37m\u001b[0m \u001b[1m0s\u001b[0m 16ms/step - accuracy: 0.6558 - loss: -14.4861 - val_accuracy: 0.6533 - val_loss: -13.8378\n",
            "Epoch 283/500\n",
            "\u001b[1m5/5\u001b[0m \u001b[32m━━━━━━━━━━━━━━━━━━━━\u001b[0m\u001b[37m\u001b[0m \u001b[1m0s\u001b[0m 28ms/step - accuracy: 0.6924 - loss: -15.2465 - val_accuracy: 0.6533 - val_loss: -13.8422\n",
            "Epoch 284/500\n",
            "\u001b[1m5/5\u001b[0m \u001b[32m━━━━━━━━━━━━━━━━━━━━\u001b[0m\u001b[37m\u001b[0m \u001b[1m0s\u001b[0m 17ms/step - accuracy: 0.6708 - loss: -14.4567 - val_accuracy: 0.6667 - val_loss: -13.8498\n",
            "Epoch 285/500\n",
            "\u001b[1m5/5\u001b[0m \u001b[32m━━━━━━━━━━━━━━━━━━━━\u001b[0m\u001b[37m\u001b[0m \u001b[1m0s\u001b[0m 17ms/step - accuracy: 0.6936 - loss: -14.7525 - val_accuracy: 0.6667 - val_loss: -13.8602\n",
            "Epoch 286/500\n",
            "\u001b[1m5/5\u001b[0m \u001b[32m━━━━━━━━━━━━━━━━━━━━\u001b[0m\u001b[37m\u001b[0m \u001b[1m0s\u001b[0m 16ms/step - accuracy: 0.6395 - loss: -14.1464 - val_accuracy: 0.6533 - val_loss: -13.8647\n",
            "Epoch 287/500\n",
            "\u001b[1m5/5\u001b[0m \u001b[32m━━━━━━━━━━━━━━━━━━━━\u001b[0m\u001b[37m\u001b[0m \u001b[1m0s\u001b[0m 16ms/step - accuracy: 0.6455 - loss: -14.4708 - val_accuracy: 0.6533 - val_loss: -13.8840\n",
            "Epoch 288/500\n",
            "\u001b[1m5/5\u001b[0m \u001b[32m━━━━━━━━━━━━━━━━━━━━\u001b[0m\u001b[37m\u001b[0m \u001b[1m0s\u001b[0m 27ms/step - accuracy: 0.6794 - loss: -15.0144 - val_accuracy: 0.6667 - val_loss: -13.8947\n",
            "Epoch 289/500\n",
            "\u001b[1m5/5\u001b[0m \u001b[32m━━━━━━━━━━━━━━━━━━━━\u001b[0m\u001b[37m\u001b[0m \u001b[1m0s\u001b[0m 17ms/step - accuracy: 0.7012 - loss: -15.0199 - val_accuracy: 0.6667 - val_loss: -13.9004\n",
            "Epoch 290/500\n",
            "\u001b[1m5/5\u001b[0m \u001b[32m━━━━━━━━━━━━━━━━━━━━\u001b[0m\u001b[37m\u001b[0m \u001b[1m0s\u001b[0m 17ms/step - accuracy: 0.6928 - loss: -14.6795 - val_accuracy: 0.6800 - val_loss: -13.9093\n",
            "Epoch 291/500\n",
            "\u001b[1m5/5\u001b[0m \u001b[32m━━━━━━━━━━━━━━━━━━━━\u001b[0m\u001b[37m\u001b[0m \u001b[1m0s\u001b[0m 17ms/step - accuracy: 0.6901 - loss: -14.2392 - val_accuracy: 0.6800 - val_loss: -13.9202\n",
            "Epoch 292/500\n",
            "\u001b[1m5/5\u001b[0m \u001b[32m━━━━━━━━━━━━━━━━━━━━\u001b[0m\u001b[37m\u001b[0m \u001b[1m0s\u001b[0m 18ms/step - accuracy: 0.6662 - loss: -14.7025 - val_accuracy: 0.6667 - val_loss: -13.9325\n",
            "Epoch 293/500\n",
            "\u001b[1m5/5\u001b[0m \u001b[32m━━━━━━━━━━━━━━━━━━━━\u001b[0m\u001b[37m\u001b[0m \u001b[1m0s\u001b[0m 16ms/step - accuracy: 0.6674 - loss: -15.1596 - val_accuracy: 0.6667 - val_loss: -13.9420\n",
            "Epoch 294/500\n",
            "\u001b[1m5/5\u001b[0m \u001b[32m━━━━━━━━━━━━━━━━━━━━\u001b[0m\u001b[37m\u001b[0m \u001b[1m0s\u001b[0m 17ms/step - accuracy: 0.6694 - loss: -14.5030 - val_accuracy: 0.6667 - val_loss: -13.9519\n",
            "Epoch 295/500\n",
            "\u001b[1m5/5\u001b[0m \u001b[32m━━━━━━━━━━━━━━━━━━━━\u001b[0m\u001b[37m\u001b[0m \u001b[1m0s\u001b[0m 16ms/step - accuracy: 0.6733 - loss: -14.9500 - val_accuracy: 0.6667 - val_loss: -13.9615\n",
            "Epoch 296/500\n",
            "\u001b[1m5/5\u001b[0m \u001b[32m━━━━━━━━━━━━━━━━━━━━\u001b[0m\u001b[37m\u001b[0m \u001b[1m0s\u001b[0m 16ms/step - accuracy: 0.6801 - loss: -15.0203 - val_accuracy: 0.6533 - val_loss: -13.9671\n",
            "Epoch 297/500\n",
            "\u001b[1m5/5\u001b[0m \u001b[32m━━━━━━━━━━━━━━━━━━━━\u001b[0m\u001b[37m\u001b[0m \u001b[1m0s\u001b[0m 16ms/step - accuracy: 0.6858 - loss: -14.8110 - val_accuracy: 0.6533 - val_loss: -13.9745\n",
            "Epoch 298/500\n",
            "\u001b[1m5/5\u001b[0m \u001b[32m━━━━━━━━━━━━━━━━━━━━\u001b[0m\u001b[37m\u001b[0m \u001b[1m0s\u001b[0m 27ms/step - accuracy: 0.6536 - loss: -14.7580 - val_accuracy: 0.6800 - val_loss: -13.9816\n",
            "Epoch 299/500\n",
            "\u001b[1m5/5\u001b[0m \u001b[32m━━━━━━━━━━━━━━━━━━━━\u001b[0m\u001b[37m\u001b[0m \u001b[1m0s\u001b[0m 16ms/step - accuracy: 0.6883 - loss: -15.1311 - val_accuracy: 0.6667 - val_loss: -13.9872\n",
            "Epoch 300/500\n",
            "\u001b[1m5/5\u001b[0m \u001b[32m━━━━━━━━━━━━━━━━━━━━\u001b[0m\u001b[37m\u001b[0m \u001b[1m0s\u001b[0m 17ms/step - accuracy: 0.6823 - loss: -14.8813 - val_accuracy: 0.6667 - val_loss: -13.9926\n",
            "Epoch 301/500\n",
            "\u001b[1m5/5\u001b[0m \u001b[32m━━━━━━━━━━━━━━━━━━━━\u001b[0m\u001b[37m\u001b[0m \u001b[1m0s\u001b[0m 16ms/step - accuracy: 0.6673 - loss: -14.3852 - val_accuracy: 0.6800 - val_loss: -14.0016\n",
            "Epoch 302/500\n",
            "\u001b[1m5/5\u001b[0m \u001b[32m━━━━━━━━━━━━━━━━━━━━\u001b[0m\u001b[37m\u001b[0m \u001b[1m0s\u001b[0m 16ms/step - accuracy: 0.6832 - loss: -14.7165 - val_accuracy: 0.6533 - val_loss: -14.0044\n",
            "Epoch 303/500\n",
            "\u001b[1m5/5\u001b[0m \u001b[32m━━━━━━━━━━━━━━━━━━━━\u001b[0m\u001b[37m\u001b[0m \u001b[1m0s\u001b[0m 17ms/step - accuracy: 0.6538 - loss: -14.5701 - val_accuracy: 0.6533 - val_loss: -14.0131\n",
            "Epoch 304/500\n",
            "\u001b[1m5/5\u001b[0m \u001b[32m━━━━━━━━━━━━━━━━━━━━\u001b[0m\u001b[37m\u001b[0m \u001b[1m0s\u001b[0m 27ms/step - accuracy: 0.6433 - loss: -14.7868 - val_accuracy: 0.6533 - val_loss: -14.0166\n",
            "Epoch 305/500\n",
            "\u001b[1m5/5\u001b[0m \u001b[32m━━━━━━━━━━━━━━━━━━━━\u001b[0m\u001b[37m\u001b[0m \u001b[1m0s\u001b[0m 16ms/step - accuracy: 0.6670 - loss: -14.6753 - val_accuracy: 0.6533 - val_loss: -14.0174\n",
            "Epoch 306/500\n",
            "\u001b[1m5/5\u001b[0m \u001b[32m━━━━━━━━━━━━━━━━━━━━\u001b[0m\u001b[37m\u001b[0m \u001b[1m0s\u001b[0m 16ms/step - accuracy: 0.6717 - loss: -14.7984 - val_accuracy: 0.6533 - val_loss: -14.0479\n",
            "Epoch 307/500\n",
            "\u001b[1m5/5\u001b[0m \u001b[32m━━━━━━━━━━━━━━━━━━━━\u001b[0m\u001b[37m\u001b[0m \u001b[1m0s\u001b[0m 16ms/step - accuracy: 0.6600 - loss: -14.8578 - val_accuracy: 0.6000 - val_loss: -14.0499\n",
            "Epoch 308/500\n",
            "\u001b[1m5/5\u001b[0m \u001b[32m━━━━━━━━━━━━━━━━━━━━\u001b[0m\u001b[37m\u001b[0m \u001b[1m0s\u001b[0m 16ms/step - accuracy: 0.6416 - loss: -14.8202 - val_accuracy: 0.6533 - val_loss: -14.0545\n",
            "Epoch 309/500\n",
            "\u001b[1m5/5\u001b[0m \u001b[32m━━━━━━━━━━━━━━━━━━━━\u001b[0m\u001b[37m\u001b[0m \u001b[1m0s\u001b[0m 17ms/step - accuracy: 0.6761 - loss: -14.9064 - val_accuracy: 0.6533 - val_loss: -14.0574\n",
            "Epoch 310/500\n",
            "\u001b[1m5/5\u001b[0m \u001b[32m━━━━━━━━━━━━━━━━━━━━\u001b[0m\u001b[37m\u001b[0m \u001b[1m0s\u001b[0m 16ms/step - accuracy: 0.7177 - loss: -15.4255 - val_accuracy: 0.6667 - val_loss: -14.0790\n",
            "Epoch 311/500\n",
            "\u001b[1m5/5\u001b[0m \u001b[32m━━━━━━━━━━━━━━━━━━━━\u001b[0m\u001b[37m\u001b[0m \u001b[1m0s\u001b[0m 16ms/step - accuracy: 0.6876 - loss: -15.3402 - val_accuracy: 0.6533 - val_loss: -14.0807\n",
            "Epoch 312/500\n",
            "\u001b[1m5/5\u001b[0m \u001b[32m━━━━━━━━━━━━━━━━━━━━\u001b[0m\u001b[37m\u001b[0m \u001b[1m0s\u001b[0m 16ms/step - accuracy: 0.6787 - loss: -15.0332 - val_accuracy: 0.6533 - val_loss: -14.0823\n",
            "Epoch 313/500\n",
            "\u001b[1m5/5\u001b[0m \u001b[32m━━━━━━━━━━━━━━━━━━━━\u001b[0m\u001b[37m\u001b[0m \u001b[1m0s\u001b[0m 17ms/step - accuracy: 0.6763 - loss: -15.0081 - val_accuracy: 0.6667 - val_loss: -14.0977\n",
            "Epoch 314/500\n",
            "\u001b[1m5/5\u001b[0m \u001b[32m━━━━━━━━━━━━━━━━━━━━\u001b[0m\u001b[37m\u001b[0m \u001b[1m0s\u001b[0m 18ms/step - accuracy: 0.6769 - loss: -15.2956 - val_accuracy: 0.6533 - val_loss: -14.0943\n",
            "Epoch 315/500\n",
            "\u001b[1m5/5\u001b[0m \u001b[32m━━━━━━━━━━━━━━━━━━━━\u001b[0m\u001b[37m\u001b[0m \u001b[1m0s\u001b[0m 16ms/step - accuracy: 0.6512 - loss: -14.9693 - val_accuracy: 0.6533 - val_loss: -14.1105\n",
            "Epoch 316/500\n",
            "\u001b[1m5/5\u001b[0m \u001b[32m━━━━━━━━━━━━━━━━━━━━\u001b[0m\u001b[37m\u001b[0m \u001b[1m0s\u001b[0m 16ms/step - accuracy: 0.6529 - loss: -14.5425 - val_accuracy: 0.3867 - val_loss: -14.1137\n",
            "Epoch 317/500\n",
            "\u001b[1m5/5\u001b[0m \u001b[32m━━━━━━━━━━━━━━━━━━━━\u001b[0m\u001b[37m\u001b[0m \u001b[1m0s\u001b[0m 16ms/step - accuracy: 0.5884 - loss: -14.7869 - val_accuracy: 0.6533 - val_loss: -14.1219\n",
            "Epoch 318/500\n",
            "\u001b[1m5/5\u001b[0m \u001b[32m━━━━━━━━━━━━━━━━━━━━\u001b[0m\u001b[37m\u001b[0m \u001b[1m0s\u001b[0m 19ms/step - accuracy: 0.6770 - loss: -15.1320 - val_accuracy: 0.6533 - val_loss: -14.1255\n",
            "Epoch 319/500\n",
            "\u001b[1m5/5\u001b[0m \u001b[32m━━━━━━━━━━━━━━━━━━━━\u001b[0m\u001b[37m\u001b[0m \u001b[1m0s\u001b[0m 18ms/step - accuracy: 0.6501 - loss: -14.8486 - val_accuracy: 0.6533 - val_loss: -14.1322\n",
            "Epoch 320/500\n",
            "\u001b[1m5/5\u001b[0m \u001b[32m━━━━━━━━━━━━━━━━━━━━\u001b[0m\u001b[37m\u001b[0m \u001b[1m0s\u001b[0m 33ms/step - accuracy: 0.6442 - loss: -14.7174 - val_accuracy: 0.6533 - val_loss: -14.1426\n",
            "Epoch 321/500\n",
            "\u001b[1m5/5\u001b[0m \u001b[32m━━━━━━━━━━━━━━━━━━━━\u001b[0m\u001b[37m\u001b[0m \u001b[1m0s\u001b[0m 33ms/step - accuracy: 0.6620 - loss: -14.8638 - val_accuracy: 0.6533 - val_loss: -14.1420\n",
            "Epoch 322/500\n",
            "\u001b[1m5/5\u001b[0m \u001b[32m━━━━━━━━━━━━━━━━━━━━\u001b[0m\u001b[37m\u001b[0m \u001b[1m0s\u001b[0m 24ms/step - accuracy: 0.5763 - loss: -14.6883 - val_accuracy: 0.6533 - val_loss: -14.1556\n",
            "Epoch 323/500\n",
            "\u001b[1m5/5\u001b[0m \u001b[32m━━━━━━━━━━━━━━━━━━━━\u001b[0m\u001b[37m\u001b[0m \u001b[1m0s\u001b[0m 23ms/step - accuracy: 0.6881 - loss: -14.9997 - val_accuracy: 0.6667 - val_loss: -14.1590\n",
            "Epoch 324/500\n",
            "\u001b[1m5/5\u001b[0m \u001b[32m━━━━━━━━━━━━━━━━━━━━\u001b[0m\u001b[37m\u001b[0m \u001b[1m0s\u001b[0m 32ms/step - accuracy: 0.6843 - loss: -15.1171 - val_accuracy: 0.6667 - val_loss: -14.1623\n",
            "Epoch 325/500\n",
            "\u001b[1m5/5\u001b[0m \u001b[32m━━━━━━━━━━━━━━━━━━━━\u001b[0m\u001b[37m\u001b[0m \u001b[1m0s\u001b[0m 23ms/step - accuracy: 0.6929 - loss: -15.2638 - val_accuracy: 0.6667 - val_loss: -14.1711\n",
            "Epoch 326/500\n",
            "\u001b[1m5/5\u001b[0m \u001b[32m━━━━━━━━━━━━━━━━━━━━\u001b[0m\u001b[37m\u001b[0m \u001b[1m0s\u001b[0m 32ms/step - accuracy: 0.6693 - loss: -15.0697 - val_accuracy: 0.6667 - val_loss: -14.1748\n",
            "Epoch 327/500\n",
            "\u001b[1m5/5\u001b[0m \u001b[32m━━━━━━━━━━━━━━━━━━━━\u001b[0m\u001b[37m\u001b[0m \u001b[1m0s\u001b[0m 32ms/step - accuracy: 0.6510 - loss: -14.8575 - val_accuracy: 0.6667 - val_loss: -14.1858\n",
            "Epoch 328/500\n",
            "\u001b[1m5/5\u001b[0m \u001b[32m━━━━━━━━━━━━━━━━━━━━\u001b[0m\u001b[37m\u001b[0m \u001b[1m0s\u001b[0m 22ms/step - accuracy: 0.6807 - loss: -14.8741 - val_accuracy: 0.6667 - val_loss: -14.1933\n",
            "Epoch 329/500\n",
            "\u001b[1m5/5\u001b[0m \u001b[32m━━━━━━━━━━━━━━━━━━━━\u001b[0m\u001b[37m\u001b[0m \u001b[1m0s\u001b[0m 17ms/step - accuracy: 0.6414 - loss: -14.8630 - val_accuracy: 0.6533 - val_loss: -14.2008\n",
            "Epoch 330/500\n",
            "\u001b[1m5/5\u001b[0m \u001b[32m━━━━━━━━━━━━━━━━━━━━\u001b[0m\u001b[37m\u001b[0m \u001b[1m0s\u001b[0m 16ms/step - accuracy: 0.6401 - loss: -15.1198 - val_accuracy: 0.6533 - val_loss: -14.2110\n",
            "Epoch 331/500\n",
            "\u001b[1m5/5\u001b[0m \u001b[32m━━━━━━━━━━━━━━━━━━━━\u001b[0m\u001b[37m\u001b[0m \u001b[1m0s\u001b[0m 17ms/step - accuracy: 0.6759 - loss: -14.7387 - val_accuracy: 0.6533 - val_loss: -14.2177\n",
            "Epoch 332/500\n",
            "\u001b[1m5/5\u001b[0m \u001b[32m━━━━━━━━━━━━━━━━━━━━\u001b[0m\u001b[37m\u001b[0m \u001b[1m0s\u001b[0m 16ms/step - accuracy: 0.6789 - loss: -14.9084 - val_accuracy: 0.6667 - val_loss: -14.2266\n",
            "Epoch 333/500\n",
            "\u001b[1m5/5\u001b[0m \u001b[32m━━━━━━━━━━━━━━━━━━━━\u001b[0m\u001b[37m\u001b[0m \u001b[1m0s\u001b[0m 16ms/step - accuracy: 0.6534 - loss: -14.7641 - val_accuracy: 0.6533 - val_loss: -14.2352\n",
            "Epoch 334/500\n",
            "\u001b[1m5/5\u001b[0m \u001b[32m━━━━━━━━━━━━━━━━━━━━\u001b[0m\u001b[37m\u001b[0m \u001b[1m0s\u001b[0m 16ms/step - accuracy: 0.6406 - loss: -14.5753 - val_accuracy: 0.6533 - val_loss: -14.2443\n",
            "Epoch 335/500\n",
            "\u001b[1m5/5\u001b[0m \u001b[32m━━━━━━━━━━━━━━━━━━━━\u001b[0m\u001b[37m\u001b[0m \u001b[1m0s\u001b[0m 16ms/step - accuracy: 0.6362 - loss: -14.9540 - val_accuracy: 0.6533 - val_loss: -14.2529\n",
            "Epoch 336/500\n",
            "\u001b[1m5/5\u001b[0m \u001b[32m━━━━━━━━━━━━━━━━━━━━\u001b[0m\u001b[37m\u001b[0m \u001b[1m0s\u001b[0m 16ms/step - accuracy: 0.6586 - loss: -14.7417 - val_accuracy: 0.6667 - val_loss: -14.2621\n",
            "Epoch 337/500\n",
            "\u001b[1m5/5\u001b[0m \u001b[32m━━━━━━━━━━━━━━━━━━━━\u001b[0m\u001b[37m\u001b[0m \u001b[1m0s\u001b[0m 16ms/step - accuracy: 0.6481 - loss: -15.1381 - val_accuracy: 0.6533 - val_loss: -14.2696\n",
            "Epoch 338/500\n",
            "\u001b[1m5/5\u001b[0m \u001b[32m━━━━━━━━━━━━━━━━━━━━\u001b[0m\u001b[37m\u001b[0m \u001b[1m0s\u001b[0m 17ms/step - accuracy: 0.6559 - loss: -15.3653 - val_accuracy: 0.6533 - val_loss: -14.2778\n",
            "Epoch 339/500\n",
            "\u001b[1m5/5\u001b[0m \u001b[32m━━━━━━━━━━━━━━━━━━━━\u001b[0m\u001b[37m\u001b[0m \u001b[1m0s\u001b[0m 16ms/step - accuracy: 0.6947 - loss: -15.3529 - val_accuracy: 0.6533 - val_loss: -14.2838\n",
            "Epoch 340/500\n",
            "\u001b[1m5/5\u001b[0m \u001b[32m━━━━━━━━━━━━━━━━━━━━\u001b[0m\u001b[37m\u001b[0m \u001b[1m0s\u001b[0m 17ms/step - accuracy: 0.6721 - loss: -15.0602 - val_accuracy: 0.6533 - val_loss: -14.2942\n",
            "Epoch 341/500\n",
            "\u001b[1m5/5\u001b[0m \u001b[32m━━━━━━━━━━━━━━━━━━━━\u001b[0m\u001b[37m\u001b[0m \u001b[1m0s\u001b[0m 16ms/step - accuracy: 0.6852 - loss: -15.1043 - val_accuracy: 0.6533 - val_loss: -14.3017\n",
            "Epoch 342/500\n",
            "\u001b[1m5/5\u001b[0m \u001b[32m━━━━━━━━━━━━━━━━━━━━\u001b[0m\u001b[37m\u001b[0m \u001b[1m0s\u001b[0m 26ms/step - accuracy: 0.6632 - loss: -14.7536 - val_accuracy: 0.6667 - val_loss: -14.3093\n",
            "Epoch 343/500\n",
            "\u001b[1m5/5\u001b[0m \u001b[32m━━━━━━━━━━━━━━━━━━━━\u001b[0m\u001b[37m\u001b[0m \u001b[1m0s\u001b[0m 16ms/step - accuracy: 0.5347 - loss: -15.2243 - val_accuracy: 0.6667 - val_loss: -14.3151\n",
            "Epoch 344/500\n",
            "\u001b[1m5/5\u001b[0m \u001b[32m━━━━━━━━━━━━━━━━━━━━\u001b[0m\u001b[37m\u001b[0m \u001b[1m0s\u001b[0m 16ms/step - accuracy: 0.6613 - loss: -14.9167 - val_accuracy: 0.6667 - val_loss: -14.3232\n",
            "Epoch 345/500\n",
            "\u001b[1m5/5\u001b[0m \u001b[32m━━━━━━━━━━━━━━━━━━━━\u001b[0m\u001b[37m\u001b[0m \u001b[1m0s\u001b[0m 17ms/step - accuracy: 0.6892 - loss: -15.1844 - val_accuracy: 0.6800 - val_loss: -14.3299\n",
            "Epoch 346/500\n",
            "\u001b[1m5/5\u001b[0m \u001b[32m━━━━━━━━━━━━━━━━━━━━\u001b[0m\u001b[37m\u001b[0m \u001b[1m0s\u001b[0m 17ms/step - accuracy: 0.6856 - loss: -15.0106 - val_accuracy: 0.6800 - val_loss: -14.3392\n",
            "Epoch 347/500\n",
            "\u001b[1m5/5\u001b[0m \u001b[32m━━━━━━━━━━━━━━━━━━━━\u001b[0m\u001b[37m\u001b[0m \u001b[1m0s\u001b[0m 16ms/step - accuracy: 0.6592 - loss: -15.1683 - val_accuracy: 0.6800 - val_loss: -14.3455\n",
            "Epoch 348/500\n",
            "\u001b[1m5/5\u001b[0m \u001b[32m━━━━━━━━━━━━━━━━━━━━\u001b[0m\u001b[37m\u001b[0m \u001b[1m0s\u001b[0m 16ms/step - accuracy: 0.6571 - loss: -15.0595 - val_accuracy: 0.6667 - val_loss: -14.3555\n",
            "Epoch 349/500\n",
            "\u001b[1m5/5\u001b[0m \u001b[32m━━━━━━━━━━━━━━━━━━━━\u001b[0m\u001b[37m\u001b[0m \u001b[1m0s\u001b[0m 18ms/step - accuracy: 0.6652 - loss: -15.0900 - val_accuracy: 0.6667 - val_loss: -14.3650\n",
            "Epoch 350/500\n",
            "\u001b[1m5/5\u001b[0m \u001b[32m━━━━━━━━━━━━━━━━━━━━\u001b[0m\u001b[37m\u001b[0m \u001b[1m0s\u001b[0m 16ms/step - accuracy: 0.6729 - loss: -15.0432 - val_accuracy: 0.6667 - val_loss: -14.3724\n",
            "Epoch 351/500\n",
            "\u001b[1m5/5\u001b[0m \u001b[32m━━━━━━━━━━━━━━━━━━━━\u001b[0m\u001b[37m\u001b[0m \u001b[1m0s\u001b[0m 16ms/step - accuracy: 0.6391 - loss: -14.6538 - val_accuracy: 0.6667 - val_loss: -14.3821\n",
            "Epoch 352/500\n",
            "\u001b[1m5/5\u001b[0m \u001b[32m━━━━━━━━━━━━━━━━━━━━\u001b[0m\u001b[37m\u001b[0m \u001b[1m0s\u001b[0m 16ms/step - accuracy: 0.6692 - loss: -15.1097 - val_accuracy: 0.6533 - val_loss: -14.3912\n",
            "Epoch 353/500\n",
            "\u001b[1m5/5\u001b[0m \u001b[32m━━━━━━━━━━━━━━━━━━━━\u001b[0m\u001b[37m\u001b[0m \u001b[1m0s\u001b[0m 16ms/step - accuracy: 0.6348 - loss: -14.7660 - val_accuracy: 0.6533 - val_loss: -14.4008\n",
            "Epoch 354/500\n",
            "\u001b[1m5/5\u001b[0m \u001b[32m━━━━━━━━━━━━━━━━━━━━\u001b[0m\u001b[37m\u001b[0m \u001b[1m0s\u001b[0m 16ms/step - accuracy: 0.6489 - loss: -15.3021 - val_accuracy: 0.6533 - val_loss: -14.4032\n",
            "Epoch 355/500\n",
            "\u001b[1m5/5\u001b[0m \u001b[32m━━━━━━━━━━━━━━━━━━━━\u001b[0m\u001b[37m\u001b[0m \u001b[1m0s\u001b[0m 16ms/step - accuracy: 0.5621 - loss: -15.1655 - val_accuracy: 0.6667 - val_loss: -14.4141\n",
            "Epoch 356/500\n",
            "\u001b[1m5/5\u001b[0m \u001b[32m━━━━━━━━━━━━━━━━━━━━\u001b[0m\u001b[37m\u001b[0m \u001b[1m0s\u001b[0m 28ms/step - accuracy: 0.6335 - loss: -14.7236 - val_accuracy: 0.6667 - val_loss: -14.4146\n",
            "Epoch 357/500\n",
            "\u001b[1m5/5\u001b[0m \u001b[32m━━━━━━━━━━━━━━━━━━━━\u001b[0m\u001b[37m\u001b[0m \u001b[1m0s\u001b[0m 16ms/step - accuracy: 0.6568 - loss: -14.8526 - val_accuracy: 0.6667 - val_loss: -14.4256\n",
            "Epoch 358/500\n",
            "\u001b[1m5/5\u001b[0m \u001b[32m━━━━━━━━━━━━━━━━━━━━\u001b[0m\u001b[37m\u001b[0m \u001b[1m0s\u001b[0m 17ms/step - accuracy: 0.6638 - loss: -15.1713 - val_accuracy: 0.6667 - val_loss: -14.4321\n",
            "Epoch 359/500\n",
            "\u001b[1m5/5\u001b[0m \u001b[32m━━━━━━━━━━━━━━━━━━━━\u001b[0m\u001b[37m\u001b[0m \u001b[1m0s\u001b[0m 18ms/step - accuracy: 0.6549 - loss: -14.6768 - val_accuracy: 0.6667 - val_loss: -14.4452\n",
            "Epoch 360/500\n",
            "\u001b[1m5/5\u001b[0m \u001b[32m━━━━━━━━━━━━━━━━━━━━\u001b[0m\u001b[37m\u001b[0m \u001b[1m0s\u001b[0m 17ms/step - accuracy: 0.6402 - loss: -14.8930 - val_accuracy: 0.6667 - val_loss: -14.4526\n",
            "Epoch 361/500\n",
            "\u001b[1m5/5\u001b[0m \u001b[32m━━━━━━━━━━━━━━━━━━━━\u001b[0m\u001b[37m\u001b[0m \u001b[1m0s\u001b[0m 16ms/step - accuracy: 0.6685 - loss: -15.1890 - val_accuracy: 0.6667 - val_loss: -14.4622\n",
            "Epoch 362/500\n",
            "\u001b[1m5/5\u001b[0m \u001b[32m━━━━━━━━━━━━━━━━━━━━\u001b[0m\u001b[37m\u001b[0m \u001b[1m0s\u001b[0m 17ms/step - accuracy: 0.6588 - loss: -15.1807 - val_accuracy: 0.6667 - val_loss: -14.4698\n",
            "Epoch 363/500\n",
            "\u001b[1m5/5\u001b[0m \u001b[32m━━━━━━━━━━━━━━━━━━━━\u001b[0m\u001b[37m\u001b[0m \u001b[1m0s\u001b[0m 17ms/step - accuracy: 0.6677 - loss: -15.2755 - val_accuracy: 0.6533 - val_loss: -14.4776\n",
            "Epoch 364/500\n",
            "\u001b[1m5/5\u001b[0m \u001b[32m━━━━━━━━━━━━━━━━━━━━\u001b[0m\u001b[37m\u001b[0m \u001b[1m0s\u001b[0m 17ms/step - accuracy: 0.6656 - loss: -15.2036 - val_accuracy: 0.6533 - val_loss: -14.4899\n",
            "Epoch 365/500\n",
            "\u001b[1m5/5\u001b[0m \u001b[32m━━━━━━━━━━━━━━━━━━━━\u001b[0m\u001b[37m\u001b[0m \u001b[1m0s\u001b[0m 16ms/step - accuracy: 0.5901 - loss: -15.2010 - val_accuracy: 0.6667 - val_loss: -14.4899\n",
            "Epoch 366/500\n",
            "\u001b[1m5/5\u001b[0m \u001b[32m━━━━━━━━━━━━━━━━━━━━\u001b[0m\u001b[37m\u001b[0m \u001b[1m0s\u001b[0m 17ms/step - accuracy: 0.6904 - loss: -15.7939 - val_accuracy: 0.6667 - val_loss: -14.4987\n",
            "Epoch 367/500\n",
            "\u001b[1m5/5\u001b[0m \u001b[32m━━━━━━━━━━━━━━━━━━━━\u001b[0m\u001b[37m\u001b[0m \u001b[1m0s\u001b[0m 16ms/step - accuracy: 0.6541 - loss: -15.2666 - val_accuracy: 0.6667 - val_loss: -14.5064\n",
            "Epoch 368/500\n",
            "\u001b[1m5/5\u001b[0m \u001b[32m━━━━━━━━━━━━━━━━━━━━\u001b[0m\u001b[37m\u001b[0m \u001b[1m0s\u001b[0m 18ms/step - accuracy: 0.6599 - loss: -15.4200 - val_accuracy: 0.6667 - val_loss: -14.5185\n",
            "Epoch 369/500\n",
            "\u001b[1m5/5\u001b[0m \u001b[32m━━━━━━━━━━━━━━━━━━━━\u001b[0m\u001b[37m\u001b[0m \u001b[1m0s\u001b[0m 17ms/step - accuracy: 0.6502 - loss: -14.9222 - val_accuracy: 0.6667 - val_loss: -14.5254\n",
            "Epoch 370/500\n",
            "\u001b[1m5/5\u001b[0m \u001b[32m━━━━━━━━━━━━━━━━━━━━\u001b[0m\u001b[37m\u001b[0m \u001b[1m0s\u001b[0m 16ms/step - accuracy: 0.6437 - loss: -15.3945 - val_accuracy: 0.6533 - val_loss: -14.5343\n",
            "Epoch 371/500\n",
            "\u001b[1m5/5\u001b[0m \u001b[32m━━━━━━━━━━━━━━━━━━━━\u001b[0m\u001b[37m\u001b[0m \u001b[1m0s\u001b[0m 16ms/step - accuracy: 0.6501 - loss: -15.2846 - val_accuracy: 0.6533 - val_loss: -14.5428\n",
            "Epoch 372/500\n",
            "\u001b[1m5/5\u001b[0m \u001b[32m━━━━━━━━━━━━━━━━━━━━\u001b[0m\u001b[37m\u001b[0m \u001b[1m0s\u001b[0m 16ms/step - accuracy: 0.6845 - loss: -15.1525 - val_accuracy: 0.6533 - val_loss: -14.5524\n",
            "Epoch 373/500\n",
            "\u001b[1m5/5\u001b[0m \u001b[32m━━━━━━━━━━━━━━━━━━━━\u001b[0m\u001b[37m\u001b[0m \u001b[1m0s\u001b[0m 17ms/step - accuracy: 0.6606 - loss: -15.3506 - val_accuracy: 0.6800 - val_loss: -14.5619\n",
            "Epoch 374/500\n",
            "\u001b[1m5/5\u001b[0m \u001b[32m━━━━━━━━━━━━━━━━━━━━\u001b[0m\u001b[37m\u001b[0m \u001b[1m0s\u001b[0m 16ms/step - accuracy: 0.5331 - loss: -15.4199 - val_accuracy: 0.6533 - val_loss: -14.5684\n",
            "Epoch 375/500\n",
            "\u001b[1m5/5\u001b[0m \u001b[32m━━━━━━━━━━━━━━━━━━━━\u001b[0m\u001b[37m\u001b[0m \u001b[1m0s\u001b[0m 16ms/step - accuracy: 0.6620 - loss: -15.2689 - val_accuracy: 0.6667 - val_loss: -14.5751\n",
            "Epoch 376/500\n",
            "\u001b[1m5/5\u001b[0m \u001b[32m━━━━━━━━━━━━━━━━━━━━\u001b[0m\u001b[37m\u001b[0m \u001b[1m0s\u001b[0m 16ms/step - accuracy: 0.6971 - loss: -15.5660 - val_accuracy: 0.6667 - val_loss: -14.5822\n",
            "Epoch 377/500\n",
            "\u001b[1m5/5\u001b[0m \u001b[32m━━━━━━━━━━━━━━━━━━━━\u001b[0m\u001b[37m\u001b[0m \u001b[1m0s\u001b[0m 16ms/step - accuracy: 0.6991 - loss: -15.2327 - val_accuracy: 0.6667 - val_loss: -14.5904\n",
            "Epoch 378/500\n",
            "\u001b[1m5/5\u001b[0m \u001b[32m━━━━━━━━━━━━━━━━━━━━\u001b[0m\u001b[37m\u001b[0m \u001b[1m0s\u001b[0m 19ms/step - accuracy: 0.6579 - loss: -14.9544 - val_accuracy: 0.6667 - val_loss: -14.6006\n",
            "Epoch 379/500\n",
            "\u001b[1m5/5\u001b[0m \u001b[32m━━━━━━━━━━━━━━━━━━━━\u001b[0m\u001b[37m\u001b[0m \u001b[1m0s\u001b[0m 16ms/step - accuracy: 0.6657 - loss: -15.3187 - val_accuracy: 0.6667 - val_loss: -14.6088\n",
            "Epoch 380/500\n",
            "\u001b[1m5/5\u001b[0m \u001b[32m━━━━━━━━━━━━━━━━━━━━\u001b[0m\u001b[37m\u001b[0m \u001b[1m0s\u001b[0m 16ms/step - accuracy: 0.6921 - loss: -15.4756 - val_accuracy: 0.6533 - val_loss: -14.6180\n",
            "Epoch 381/500\n",
            "\u001b[1m5/5\u001b[0m \u001b[32m━━━━━━━━━━━━━━━━━━━━\u001b[0m\u001b[37m\u001b[0m \u001b[1m0s\u001b[0m 17ms/step - accuracy: 0.6459 - loss: -15.0670 - val_accuracy: 0.6533 - val_loss: -14.6254\n",
            "Epoch 382/500\n",
            "\u001b[1m5/5\u001b[0m \u001b[32m━━━━━━━━━━━━━━━━━━━━\u001b[0m\u001b[37m\u001b[0m \u001b[1m0s\u001b[0m 27ms/step - accuracy: 0.6781 - loss: -15.3351 - val_accuracy: 0.6800 - val_loss: -14.6308\n",
            "Epoch 383/500\n",
            "\u001b[1m5/5\u001b[0m \u001b[32m━━━━━━━━━━━━━━━━━━━━\u001b[0m\u001b[37m\u001b[0m \u001b[1m0s\u001b[0m 18ms/step - accuracy: 0.6711 - loss: -15.3843 - val_accuracy: 0.7067 - val_loss: -14.6416\n",
            "Epoch 384/500\n",
            "\u001b[1m5/5\u001b[0m \u001b[32m━━━━━━━━━━━━━━━━━━━━\u001b[0m\u001b[37m\u001b[0m \u001b[1m0s\u001b[0m 17ms/step - accuracy: 0.6929 - loss: -15.0852 - val_accuracy: 0.7067 - val_loss: -14.6470\n",
            "Epoch 385/500\n",
            "\u001b[1m5/5\u001b[0m \u001b[32m━━━━━━━━━━━━━━━━━━━━\u001b[0m\u001b[37m\u001b[0m \u001b[1m0s\u001b[0m 16ms/step - accuracy: 0.6868 - loss: -15.3390 - val_accuracy: 0.7067 - val_loss: -14.6532\n",
            "Epoch 386/500\n",
            "\u001b[1m5/5\u001b[0m \u001b[32m━━━━━━━━━━━━━━━━━━━━\u001b[0m\u001b[37m\u001b[0m \u001b[1m0s\u001b[0m 20ms/step - accuracy: 0.7048 - loss: -15.1108 - val_accuracy: 0.7067 - val_loss: -14.6642\n",
            "Epoch 387/500\n",
            "\u001b[1m5/5\u001b[0m \u001b[32m━━━━━━━━━━━━━━━━━━━━\u001b[0m\u001b[37m\u001b[0m \u001b[1m0s\u001b[0m 18ms/step - accuracy: 0.7023 - loss: -15.2013 - val_accuracy: 0.7067 - val_loss: -14.6669\n",
            "Epoch 388/500\n",
            "\u001b[1m5/5\u001b[0m \u001b[32m━━━━━━━━━━━━━━━━━━━━\u001b[0m\u001b[37m\u001b[0m \u001b[1m0s\u001b[0m 17ms/step - accuracy: 0.6948 - loss: -15.3808 - val_accuracy: 0.7067 - val_loss: -14.6802\n",
            "Epoch 389/500\n",
            "\u001b[1m5/5\u001b[0m \u001b[32m━━━━━━━━━━━━━━━━━━━━\u001b[0m\u001b[37m\u001b[0m \u001b[1m0s\u001b[0m 17ms/step - accuracy: 0.7272 - loss: -15.5222 - val_accuracy: 0.7067 - val_loss: -14.6852\n",
            "Epoch 390/500\n",
            "\u001b[1m5/5\u001b[0m \u001b[32m━━━━━━━━━━━━━━━━━━━━\u001b[0m\u001b[37m\u001b[0m \u001b[1m0s\u001b[0m 17ms/step - accuracy: 0.6915 - loss: -15.5106 - val_accuracy: 0.7067 - val_loss: -14.6963\n",
            "Epoch 391/500\n",
            "\u001b[1m5/5\u001b[0m \u001b[32m━━━━━━━━━━━━━━━━━━━━\u001b[0m\u001b[37m\u001b[0m \u001b[1m0s\u001b[0m 17ms/step - accuracy: 0.6535 - loss: -15.0472 - val_accuracy: 0.7067 - val_loss: -14.7029\n",
            "Epoch 392/500\n",
            "\u001b[1m5/5\u001b[0m \u001b[32m━━━━━━━━━━━━━━━━━━━━\u001b[0m\u001b[37m\u001b[0m \u001b[1m0s\u001b[0m 17ms/step - accuracy: 0.6796 - loss: -14.6560 - val_accuracy: 0.3200 - val_loss: -14.7107\n",
            "Epoch 393/500\n",
            "\u001b[1m5/5\u001b[0m \u001b[32m━━━━━━━━━━━━━━━━━━━━\u001b[0m\u001b[37m\u001b[0m \u001b[1m0s\u001b[0m 18ms/step - accuracy: 0.5375 - loss: -15.2994 - val_accuracy: 0.7200 - val_loss: -14.7160\n",
            "Epoch 394/500\n",
            "\u001b[1m5/5\u001b[0m \u001b[32m━━━━━━━━━━━━━━━━━━━━\u001b[0m\u001b[37m\u001b[0m \u001b[1m0s\u001b[0m 27ms/step - accuracy: 0.6758 - loss: -15.1653 - val_accuracy: 0.7200 - val_loss: -14.7200\n",
            "Epoch 395/500\n",
            "\u001b[1m5/5\u001b[0m \u001b[32m━━━━━━━━━━━━━━━━━━━━\u001b[0m\u001b[37m\u001b[0m \u001b[1m0s\u001b[0m 16ms/step - accuracy: 0.6700 - loss: -15.1710 - val_accuracy: 0.7200 - val_loss: -14.7287\n",
            "Epoch 396/500\n",
            "\u001b[1m5/5\u001b[0m \u001b[32m━━━━━━━━━━━━━━━━━━━━\u001b[0m\u001b[37m\u001b[0m \u001b[1m0s\u001b[0m 17ms/step - accuracy: 0.7112 - loss: -15.1279 - val_accuracy: 0.7333 - val_loss: -14.7374\n",
            "Epoch 397/500\n",
            "\u001b[1m5/5\u001b[0m \u001b[32m━━━━━━━━━━━━━━━━━━━━\u001b[0m\u001b[37m\u001b[0m \u001b[1m0s\u001b[0m 17ms/step - accuracy: 0.7134 - loss: -15.4211 - val_accuracy: 0.7200 - val_loss: -14.7460\n",
            "Epoch 398/500\n",
            "\u001b[1m5/5\u001b[0m \u001b[32m━━━━━━━━━━━━━━━━━━━━\u001b[0m\u001b[37m\u001b[0m \u001b[1m0s\u001b[0m 17ms/step - accuracy: 0.6805 - loss: -15.5045 - val_accuracy: 0.7200 - val_loss: -14.7542\n",
            "Epoch 399/500\n",
            "\u001b[1m5/5\u001b[0m \u001b[32m━━━━━━━━━━━━━━━━━━━━\u001b[0m\u001b[37m\u001b[0m \u001b[1m0s\u001b[0m 27ms/step - accuracy: 0.6993 - loss: -15.2820 - val_accuracy: 0.7067 - val_loss: -14.7644\n",
            "Epoch 400/500\n",
            "\u001b[1m5/5\u001b[0m \u001b[32m━━━━━━━━━━━━━━━━━━━━\u001b[0m\u001b[37m\u001b[0m \u001b[1m0s\u001b[0m 16ms/step - accuracy: 0.7051 - loss: -15.4129 - val_accuracy: 0.7067 - val_loss: -14.7727\n",
            "Epoch 401/500\n",
            "\u001b[1m5/5\u001b[0m \u001b[32m━━━━━━━━━━━━━━━━━━━━\u001b[0m\u001b[37m\u001b[0m \u001b[1m0s\u001b[0m 16ms/step - accuracy: 0.7182 - loss: -15.3824 - val_accuracy: 0.7067 - val_loss: -14.7821\n",
            "Epoch 402/500\n",
            "\u001b[1m5/5\u001b[0m \u001b[32m━━━━━━━━━━━━━━━━━━━━\u001b[0m\u001b[37m\u001b[0m \u001b[1m0s\u001b[0m 17ms/step - accuracy: 0.6827 - loss: -15.1888 - val_accuracy: 0.7067 - val_loss: -14.7875\n",
            "Epoch 403/500\n",
            "\u001b[1m5/5\u001b[0m \u001b[32m━━━━━━━━━━━━━━━━━━━━\u001b[0m\u001b[37m\u001b[0m \u001b[1m0s\u001b[0m 17ms/step - accuracy: 0.6779 - loss: -15.1986 - val_accuracy: 0.7067 - val_loss: -14.7945\n",
            "Epoch 404/500\n",
            "\u001b[1m5/5\u001b[0m \u001b[32m━━━━━━━━━━━━━━━━━━━━\u001b[0m\u001b[37m\u001b[0m \u001b[1m0s\u001b[0m 16ms/step - accuracy: 0.6883 - loss: -15.1401 - val_accuracy: 0.7200 - val_loss: -14.8052\n",
            "Epoch 405/500\n",
            "\u001b[1m5/5\u001b[0m \u001b[32m━━━━━━━━━━━━━━━━━━━━\u001b[0m\u001b[37m\u001b[0m \u001b[1m0s\u001b[0m 17ms/step - accuracy: 0.6966 - loss: -15.4787 - val_accuracy: 0.7067 - val_loss: -14.8103\n",
            "Epoch 406/500\n",
            "\u001b[1m5/5\u001b[0m \u001b[32m━━━━━━━━━━━━━━━━━━━━\u001b[0m\u001b[37m\u001b[0m \u001b[1m0s\u001b[0m 16ms/step - accuracy: 0.7137 - loss: -15.5370 - val_accuracy: 0.7200 - val_loss: -14.8206\n",
            "Epoch 407/500\n",
            "\u001b[1m5/5\u001b[0m \u001b[32m━━━━━━━━━━━━━━━━━━━━\u001b[0m\u001b[37m\u001b[0m \u001b[1m0s\u001b[0m 16ms/step - accuracy: 0.5773 - loss: -15.7288 - val_accuracy: 0.7200 - val_loss: -14.8236\n",
            "Epoch 408/500\n",
            "\u001b[1m5/5\u001b[0m \u001b[32m━━━━━━━━━━━━━━━━━━━━\u001b[0m\u001b[37m\u001b[0m \u001b[1m0s\u001b[0m 18ms/step - accuracy: 0.7066 - loss: -15.8494 - val_accuracy: 0.7333 - val_loss: -14.8327\n",
            "Epoch 409/500\n",
            "\u001b[1m5/5\u001b[0m \u001b[32m━━━━━━━━━━━━━━━━━━━━\u001b[0m\u001b[37m\u001b[0m \u001b[1m0s\u001b[0m 16ms/step - accuracy: 0.7201 - loss: -15.4926 - val_accuracy: 0.7333 - val_loss: -14.8409\n",
            "Epoch 410/500\n",
            "\u001b[1m5/5\u001b[0m \u001b[32m━━━━━━━━━━━━━━━━━━━━\u001b[0m\u001b[37m\u001b[0m \u001b[1m0s\u001b[0m 17ms/step - accuracy: 0.7095 - loss: -15.4458 - val_accuracy: 0.7333 - val_loss: -14.8496\n",
            "Epoch 411/500\n",
            "\u001b[1m5/5\u001b[0m \u001b[32m━━━━━━━━━━━━━━━━━━━━\u001b[0m\u001b[37m\u001b[0m \u001b[1m0s\u001b[0m 16ms/step - accuracy: 0.6942 - loss: -15.5103 - val_accuracy: 0.7333 - val_loss: -14.8584\n",
            "Epoch 412/500\n",
            "\u001b[1m5/5\u001b[0m \u001b[32m━━━━━━━━━━━━━━━━━━━━\u001b[0m\u001b[37m\u001b[0m \u001b[1m0s\u001b[0m 19ms/step - accuracy: 0.7044 - loss: -15.4641 - val_accuracy: 0.7067 - val_loss: -14.8670\n",
            "Epoch 413/500\n",
            "\u001b[1m5/5\u001b[0m \u001b[32m━━━━━━━━━━━━━━━━━━━━\u001b[0m\u001b[37m\u001b[0m \u001b[1m0s\u001b[0m 30ms/step - accuracy: 0.7035 - loss: -15.5707 - val_accuracy: 0.7200 - val_loss: -14.8785\n",
            "Epoch 414/500\n",
            "\u001b[1m5/5\u001b[0m \u001b[32m━━━━━━━━━━━━━━━━━━━━\u001b[0m\u001b[37m\u001b[0m \u001b[1m0s\u001b[0m 22ms/step - accuracy: 0.6633 - loss: -15.3721 - val_accuracy: 0.7200 - val_loss: -14.8871\n",
            "Epoch 415/500\n",
            "\u001b[1m5/5\u001b[0m \u001b[32m━━━━━━━━━━━━━━━━━━━━\u001b[0m\u001b[37m\u001b[0m \u001b[1m0s\u001b[0m 31ms/step - accuracy: 0.6148 - loss: -15.5236 - val_accuracy: 0.7200 - val_loss: -14.8878\n",
            "Epoch 416/500\n",
            "\u001b[1m5/5\u001b[0m \u001b[32m━━━━━━━━━━━━━━━━━━━━\u001b[0m\u001b[37m\u001b[0m \u001b[1m0s\u001b[0m 30ms/step - accuracy: 0.7027 - loss: -15.4368 - val_accuracy: 0.7333 - val_loss: -14.8995\n",
            "Epoch 417/500\n",
            "\u001b[1m5/5\u001b[0m \u001b[32m━━━━━━━━━━━━━━━━━━━━\u001b[0m\u001b[37m\u001b[0m \u001b[1m0s\u001b[0m 23ms/step - accuracy: 0.6888 - loss: -15.7101 - val_accuracy: 0.7200 - val_loss: -14.9035\n",
            "Epoch 418/500\n",
            "\u001b[1m5/5\u001b[0m \u001b[32m━━━━━━━━━━━━━━━━━━━━\u001b[0m\u001b[37m\u001b[0m \u001b[1m0s\u001b[0m 21ms/step - accuracy: 0.7269 - loss: -15.4736 - val_accuracy: 0.7200 - val_loss: -14.9095\n",
            "Epoch 419/500\n",
            "\u001b[1m5/5\u001b[0m \u001b[32m━━━━━━━━━━━━━━━━━━━━\u001b[0m\u001b[37m\u001b[0m \u001b[1m0s\u001b[0m 30ms/step - accuracy: 0.7044 - loss: -15.6787 - val_accuracy: 0.7200 - val_loss: -14.9176\n",
            "Epoch 420/500\n",
            "\u001b[1m5/5\u001b[0m \u001b[32m━━━━━━━━━━━━━━━━━━━━\u001b[0m\u001b[37m\u001b[0m \u001b[1m0s\u001b[0m 34ms/step - accuracy: 0.6863 - loss: -15.3131 - val_accuracy: 0.7200 - val_loss: -14.9273\n",
            "Epoch 421/500\n",
            "\u001b[1m5/5\u001b[0m \u001b[32m━━━━━━━━━━━━━━━━━━━━\u001b[0m\u001b[37m\u001b[0m \u001b[1m0s\u001b[0m 30ms/step - accuracy: 0.6988 - loss: -15.8490 - val_accuracy: 0.7067 - val_loss: -14.9346\n",
            "Epoch 422/500\n",
            "\u001b[1m5/5\u001b[0m \u001b[32m━━━━━━━━━━━━━━━━━━━━\u001b[0m\u001b[37m\u001b[0m \u001b[1m0s\u001b[0m 29ms/step - accuracy: 0.6687 - loss: -15.3931 - val_accuracy: 0.7067 - val_loss: -14.9342\n",
            "Epoch 423/500\n",
            "\u001b[1m5/5\u001b[0m \u001b[32m━━━━━━━━━━━━━━━━━━━━\u001b[0m\u001b[37m\u001b[0m \u001b[1m0s\u001b[0m 16ms/step - accuracy: 0.6753 - loss: -15.0000 - val_accuracy: 0.7333 - val_loss: -14.9524\n",
            "Epoch 424/500\n",
            "\u001b[1m5/5\u001b[0m \u001b[32m━━━━━━━━━━━━━━━━━━━━\u001b[0m\u001b[37m\u001b[0m \u001b[1m0s\u001b[0m 16ms/step - accuracy: 0.7197 - loss: -15.4763 - val_accuracy: 0.7200 - val_loss: -14.9599\n",
            "Epoch 425/500\n",
            "\u001b[1m5/5\u001b[0m \u001b[32m━━━━━━━━━━━━━━━━━━━━\u001b[0m\u001b[37m\u001b[0m \u001b[1m0s\u001b[0m 17ms/step - accuracy: 0.6947 - loss: -15.1732 - val_accuracy: 0.7200 - val_loss: -14.9667\n",
            "Epoch 426/500\n",
            "\u001b[1m5/5\u001b[0m \u001b[32m━━━━━━━━━━━━━━━━━━━━\u001b[0m\u001b[37m\u001b[0m \u001b[1m0s\u001b[0m 16ms/step - accuracy: 0.6357 - loss: -15.5709 - val_accuracy: 0.7200 - val_loss: -14.9731\n",
            "Epoch 427/500\n",
            "\u001b[1m5/5\u001b[0m \u001b[32m━━━━━━━━━━━━━━━━━━━━\u001b[0m\u001b[37m\u001b[0m \u001b[1m0s\u001b[0m 17ms/step - accuracy: 0.6923 - loss: -15.4694 - val_accuracy: 0.7333 - val_loss: -14.9772\n",
            "Epoch 428/500\n",
            "\u001b[1m5/5\u001b[0m \u001b[32m━━━━━━━━━━━━━━━━━━━━\u001b[0m\u001b[37m\u001b[0m \u001b[1m0s\u001b[0m 16ms/step - accuracy: 0.6969 - loss: -15.5296 - val_accuracy: 0.7333 - val_loss: -14.9837\n",
            "Epoch 429/500\n",
            "\u001b[1m5/5\u001b[0m \u001b[32m━━━━━━━━━━━━━━━━━━━━\u001b[0m\u001b[37m\u001b[0m \u001b[1m0s\u001b[0m 16ms/step - accuracy: 0.7178 - loss: -15.5934 - val_accuracy: 0.7067 - val_loss: -14.9896\n",
            "Epoch 430/500\n",
            "\u001b[1m5/5\u001b[0m \u001b[32m━━━━━━━━━━━━━━━━━━━━\u001b[0m\u001b[37m\u001b[0m \u001b[1m0s\u001b[0m 17ms/step - accuracy: 0.6906 - loss: -15.3895 - val_accuracy: 0.7200 - val_loss: -15.0010\n",
            "Epoch 431/500\n",
            "\u001b[1m5/5\u001b[0m \u001b[32m━━━━━━━━━━━━━━━━━━━━\u001b[0m\u001b[37m\u001b[0m \u001b[1m0s\u001b[0m 18ms/step - accuracy: 0.7222 - loss: -15.5927 - val_accuracy: 0.7067 - val_loss: -15.0089\n",
            "Epoch 432/500\n",
            "\u001b[1m5/5\u001b[0m \u001b[32m━━━━━━━━━━━━━━━━━━━━\u001b[0m\u001b[37m\u001b[0m \u001b[1m0s\u001b[0m 16ms/step - accuracy: 0.7160 - loss: -16.1298 - val_accuracy: 0.7200 - val_loss: -15.0180\n",
            "Epoch 433/500\n",
            "\u001b[1m5/5\u001b[0m \u001b[32m━━━━━━━━━━━━━━━━━━━━\u001b[0m\u001b[37m\u001b[0m \u001b[1m0s\u001b[0m 16ms/step - accuracy: 0.7067 - loss: -15.8219 - val_accuracy: 0.7200 - val_loss: -15.0251\n",
            "Epoch 434/500\n",
            "\u001b[1m5/5\u001b[0m \u001b[32m━━━━━━━━━━━━━━━━━━━━\u001b[0m\u001b[37m\u001b[0m \u001b[1m0s\u001b[0m 17ms/step - accuracy: 0.6883 - loss: -15.4441 - val_accuracy: 0.7067 - val_loss: -15.0306\n",
            "Epoch 435/500\n",
            "\u001b[1m5/5\u001b[0m \u001b[32m━━━━━━━━━━━━━━━━━━━━\u001b[0m\u001b[37m\u001b[0m \u001b[1m0s\u001b[0m 27ms/step - accuracy: 0.7304 - loss: -15.8629 - val_accuracy: 0.7200 - val_loss: -15.0368\n",
            "Epoch 436/500\n",
            "\u001b[1m5/5\u001b[0m \u001b[32m━━━━━━━━━━━━━━━━━━━━\u001b[0m\u001b[37m\u001b[0m \u001b[1m0s\u001b[0m 16ms/step - accuracy: 0.6937 - loss: -15.7755 - val_accuracy: 0.7067 - val_loss: -15.0418\n",
            "Epoch 437/500\n",
            "\u001b[1m5/5\u001b[0m \u001b[32m━━━━━━━━━━━━━━━━━━━━\u001b[0m\u001b[37m\u001b[0m \u001b[1m0s\u001b[0m 18ms/step - accuracy: 0.7061 - loss: -16.0595 - val_accuracy: 0.7200 - val_loss: -15.0501\n",
            "Epoch 438/500\n",
            "\u001b[1m5/5\u001b[0m \u001b[32m━━━━━━━━━━━━━━━━━━━━\u001b[0m\u001b[37m\u001b[0m \u001b[1m0s\u001b[0m 17ms/step - accuracy: 0.6987 - loss: -15.5643 - val_accuracy: 0.7200 - val_loss: -15.0622\n",
            "Epoch 439/500\n",
            "\u001b[1m5/5\u001b[0m \u001b[32m━━━━━━━━━━━━━━━━━━━━\u001b[0m\u001b[37m\u001b[0m \u001b[1m0s\u001b[0m 17ms/step - accuracy: 0.6391 - loss: -15.8852 - val_accuracy: 0.7333 - val_loss: -15.0662\n",
            "Epoch 440/500\n",
            "\u001b[1m5/5\u001b[0m \u001b[32m━━━━━━━━━━━━━━━━━━━━\u001b[0m\u001b[37m\u001b[0m \u001b[1m0s\u001b[0m 18ms/step - accuracy: 0.6888 - loss: -15.5613 - val_accuracy: 0.7067 - val_loss: -15.0745\n",
            "Epoch 441/500\n",
            "\u001b[1m5/5\u001b[0m \u001b[32m━━━━━━━━━━━━━━━━━━━━\u001b[0m\u001b[37m\u001b[0m \u001b[1m0s\u001b[0m 16ms/step - accuracy: 0.6935 - loss: -15.6291 - val_accuracy: 0.7067 - val_loss: -15.0826\n",
            "Epoch 442/500\n",
            "\u001b[1m5/5\u001b[0m \u001b[32m━━━━━━━━━━━━━━━━━━━━\u001b[0m\u001b[37m\u001b[0m \u001b[1m0s\u001b[0m 16ms/step - accuracy: 0.7043 - loss: -15.6202 - val_accuracy: 0.7067 - val_loss: -15.0913\n",
            "Epoch 443/500\n",
            "\u001b[1m5/5\u001b[0m \u001b[32m━━━━━━━━━━━━━━━━━━━━\u001b[0m\u001b[37m\u001b[0m \u001b[1m0s\u001b[0m 18ms/step - accuracy: 0.6668 - loss: -15.5483 - val_accuracy: 0.7200 - val_loss: -15.0983\n",
            "Epoch 444/500\n",
            "\u001b[1m5/5\u001b[0m \u001b[32m━━━━━━━━━━━━━━━━━━━━\u001b[0m\u001b[37m\u001b[0m \u001b[1m0s\u001b[0m 17ms/step - accuracy: 0.7016 - loss: -15.8169 - val_accuracy: 0.7067 - val_loss: -15.1046\n",
            "Epoch 445/500\n",
            "\u001b[1m5/5\u001b[0m \u001b[32m━━━━━━━━━━━━━━━━━━━━\u001b[0m\u001b[37m\u001b[0m \u001b[1m0s\u001b[0m 17ms/step - accuracy: 0.6827 - loss: -15.7138 - val_accuracy: 0.7200 - val_loss: -15.1154\n",
            "Epoch 446/500\n",
            "\u001b[1m5/5\u001b[0m \u001b[32m━━━━━━━━━━━━━━━━━━━━\u001b[0m\u001b[37m\u001b[0m \u001b[1m0s\u001b[0m 16ms/step - accuracy: 0.7202 - loss: -15.2832 - val_accuracy: 0.7200 - val_loss: -15.1237\n",
            "Epoch 447/500\n",
            "\u001b[1m5/5\u001b[0m \u001b[32m━━━━━━━━━━━━━━━━━━━━\u001b[0m\u001b[37m\u001b[0m \u001b[1m0s\u001b[0m 16ms/step - accuracy: 0.6552 - loss: -15.7626 - val_accuracy: 0.7067 - val_loss: -15.1303\n",
            "Epoch 448/500\n",
            "\u001b[1m5/5\u001b[0m \u001b[32m━━━━━━━━━━━━━━━━━━━━\u001b[0m\u001b[37m\u001b[0m \u001b[1m0s\u001b[0m 16ms/step - accuracy: 0.6867 - loss: -15.5622 - val_accuracy: 0.7067 - val_loss: -15.1336\n",
            "Epoch 449/500\n",
            "\u001b[1m5/5\u001b[0m \u001b[32m━━━━━━━━━━━━━━━━━━━━\u001b[0m\u001b[37m\u001b[0m \u001b[1m0s\u001b[0m 18ms/step - accuracy: 0.5944 - loss: -15.6152 - val_accuracy: 0.7333 - val_loss: -15.1474\n",
            "Epoch 450/500\n",
            "\u001b[1m5/5\u001b[0m \u001b[32m━━━━━━━━━━━━━━━━━━━━\u001b[0m\u001b[37m\u001b[0m \u001b[1m0s\u001b[0m 16ms/step - accuracy: 0.6916 - loss: -15.8458 - val_accuracy: 0.7200 - val_loss: -15.1454\n",
            "Epoch 451/500\n",
            "\u001b[1m5/5\u001b[0m \u001b[32m━━━━━━━━━━━━━━━━━━━━\u001b[0m\u001b[37m\u001b[0m \u001b[1m0s\u001b[0m 16ms/step - accuracy: 0.7016 - loss: -15.6678 - val_accuracy: 0.7333 - val_loss: -15.1546\n",
            "Epoch 452/500\n",
            "\u001b[1m5/5\u001b[0m \u001b[32m━━━━━━━━━━━━━━━━━━━━\u001b[0m\u001b[37m\u001b[0m \u001b[1m0s\u001b[0m 16ms/step - accuracy: 0.7192 - loss: -16.0681 - val_accuracy: 0.7333 - val_loss: -15.1635\n",
            "Epoch 453/500\n",
            "\u001b[1m5/5\u001b[0m \u001b[32m━━━━━━━━━━━━━━━━━━━━\u001b[0m\u001b[37m\u001b[0m \u001b[1m0s\u001b[0m 16ms/step - accuracy: 0.7113 - loss: -15.5879 - val_accuracy: 0.7200 - val_loss: -15.1718\n",
            "Epoch 454/500\n",
            "\u001b[1m5/5\u001b[0m \u001b[32m━━━━━━━━━━━━━━━━━━━━\u001b[0m\u001b[37m\u001b[0m \u001b[1m0s\u001b[0m 17ms/step - accuracy: 0.7113 - loss: -15.8371 - val_accuracy: 0.7067 - val_loss: -15.1758\n",
            "Epoch 455/500\n",
            "\u001b[1m5/5\u001b[0m \u001b[32m━━━━━━━━━━━━━━━━━━━━\u001b[0m\u001b[37m\u001b[0m \u001b[1m0s\u001b[0m 17ms/step - accuracy: 0.6851 - loss: -15.3834 - val_accuracy: 0.7067 - val_loss: -15.1821\n",
            "Epoch 456/500\n",
            "\u001b[1m5/5\u001b[0m \u001b[32m━━━━━━━━━━━━━━━━━━━━\u001b[0m\u001b[37m\u001b[0m \u001b[1m0s\u001b[0m 16ms/step - accuracy: 0.6793 - loss: -15.4607 - val_accuracy: 0.7200 - val_loss: -15.1925\n",
            "Epoch 457/500\n",
            "\u001b[1m5/5\u001b[0m \u001b[32m━━━━━━━━━━━━━━━━━━━━\u001b[0m\u001b[37m\u001b[0m \u001b[1m0s\u001b[0m 16ms/step - accuracy: 0.6877 - loss: -15.7686 - val_accuracy: 0.7067 - val_loss: -15.1951\n",
            "Epoch 458/500\n",
            "\u001b[1m5/5\u001b[0m \u001b[32m━━━━━━━━━━━━━━━━━━━━\u001b[0m\u001b[37m\u001b[0m \u001b[1m0s\u001b[0m 17ms/step - accuracy: 0.6875 - loss: -15.7809 - val_accuracy: 0.7333 - val_loss: -15.2052\n",
            "Epoch 459/500\n",
            "\u001b[1m5/5\u001b[0m \u001b[32m━━━━━━━━━━━━━━━━━━━━\u001b[0m\u001b[37m\u001b[0m \u001b[1m0s\u001b[0m 16ms/step - accuracy: 0.7067 - loss: -15.6320 - val_accuracy: 0.7200 - val_loss: -15.2083\n",
            "Epoch 460/500\n",
            "\u001b[1m5/5\u001b[0m \u001b[32m━━━━━━━━━━━━━━━━━━━━\u001b[0m\u001b[37m\u001b[0m \u001b[1m0s\u001b[0m 19ms/step - accuracy: 0.7050 - loss: -16.1093 - val_accuracy: 0.7200 - val_loss: -15.2138\n",
            "Epoch 461/500\n",
            "\u001b[1m5/5\u001b[0m \u001b[32m━━━━━━━━━━━━━━━━━━━━\u001b[0m\u001b[37m\u001b[0m \u001b[1m0s\u001b[0m 17ms/step - accuracy: 0.6744 - loss: -15.3751 - val_accuracy: 0.7200 - val_loss: -15.2229\n",
            "Epoch 462/500\n",
            "\u001b[1m5/5\u001b[0m \u001b[32m━━━━━━━━━━━━━━━━━━━━\u001b[0m\u001b[37m\u001b[0m \u001b[1m0s\u001b[0m 17ms/step - accuracy: 0.6915 - loss: -15.6212 - val_accuracy: 0.7067 - val_loss: -15.2284\n",
            "Epoch 463/500\n",
            "\u001b[1m5/5\u001b[0m \u001b[32m━━━━━━━━━━━━━━━━━━━━\u001b[0m\u001b[37m\u001b[0m \u001b[1m0s\u001b[0m 16ms/step - accuracy: 0.7229 - loss: -15.8608 - val_accuracy: 0.7067 - val_loss: -15.2389\n",
            "Epoch 464/500\n",
            "\u001b[1m5/5\u001b[0m \u001b[32m━━━━━━━━━━━━━━━━━━━━\u001b[0m\u001b[37m\u001b[0m \u001b[1m0s\u001b[0m 16ms/step - accuracy: 0.6921 - loss: -15.9175 - val_accuracy: 0.7067 - val_loss: -15.2396\n",
            "Epoch 465/500\n",
            "\u001b[1m5/5\u001b[0m \u001b[32m━━━━━━━━━━━━━━━━━━━━\u001b[0m\u001b[37m\u001b[0m \u001b[1m0s\u001b[0m 18ms/step - accuracy: 0.7032 - loss: -16.3257 - val_accuracy: 0.3200 - val_loss: -15.2447\n",
            "Epoch 466/500\n",
            "\u001b[1m5/5\u001b[0m \u001b[32m━━━━━━━━━━━━━━━━━━━━\u001b[0m\u001b[37m\u001b[0m \u001b[1m0s\u001b[0m 16ms/step - accuracy: 0.5211 - loss: -15.8292 - val_accuracy: 0.7200 - val_loss: -15.2504\n",
            "Epoch 467/500\n",
            "\u001b[1m5/5\u001b[0m \u001b[32m━━━━━━━━━━━━━━━━━━━━\u001b[0m\u001b[37m\u001b[0m \u001b[1m0s\u001b[0m 27ms/step - accuracy: 0.7072 - loss: -16.0229 - val_accuracy: 0.7200 - val_loss: -15.2561\n",
            "Epoch 468/500\n",
            "\u001b[1m5/5\u001b[0m \u001b[32m━━━━━━━━━━━━━━━━━━━━\u001b[0m\u001b[37m\u001b[0m \u001b[1m0s\u001b[0m 17ms/step - accuracy: 0.7152 - loss: -15.8971 - val_accuracy: 0.7067 - val_loss: -15.2583\n",
            "Epoch 469/500\n",
            "\u001b[1m5/5\u001b[0m \u001b[32m━━━━━━━━━━━━━━━━━━━━\u001b[0m\u001b[37m\u001b[0m \u001b[1m0s\u001b[0m 16ms/step - accuracy: 0.7129 - loss: -16.0774 - val_accuracy: 0.7200 - val_loss: -15.2670\n",
            "Epoch 470/500\n",
            "\u001b[1m5/5\u001b[0m \u001b[32m━━━━━━━━━━━━━━━━━━━━\u001b[0m\u001b[37m\u001b[0m \u001b[1m0s\u001b[0m 17ms/step - accuracy: 0.6779 - loss: -15.5030 - val_accuracy: 0.7067 - val_loss: -15.2696\n",
            "Epoch 471/500\n",
            "\u001b[1m5/5\u001b[0m \u001b[32m━━━━━━━━━━━━━━━━━━━━\u001b[0m\u001b[37m\u001b[0m \u001b[1m0s\u001b[0m 17ms/step - accuracy: 0.6982 - loss: -15.6629 - val_accuracy: 0.7067 - val_loss: -15.2751\n",
            "Epoch 472/500\n",
            "\u001b[1m5/5\u001b[0m \u001b[32m━━━━━━━━━━━━━━━━━━━━\u001b[0m\u001b[37m\u001b[0m \u001b[1m0s\u001b[0m 16ms/step - accuracy: 0.6963 - loss: -15.8172 - val_accuracy: 0.7067 - val_loss: -15.2803\n",
            "Epoch 473/500\n",
            "\u001b[1m5/5\u001b[0m \u001b[32m━━━━━━━━━━━━━━━━━━━━\u001b[0m\u001b[37m\u001b[0m \u001b[1m0s\u001b[0m 17ms/step - accuracy: 0.6570 - loss: -15.5197 - val_accuracy: 0.7067 - val_loss: -15.2883\n",
            "Epoch 474/500\n",
            "\u001b[1m5/5\u001b[0m \u001b[32m━━━━━━━━━━━━━━━━━━━━\u001b[0m\u001b[37m\u001b[0m \u001b[1m0s\u001b[0m 16ms/step - accuracy: 0.6820 - loss: -15.9842 - val_accuracy: 0.7200 - val_loss: -15.3806\n",
            "Epoch 475/500\n",
            "\u001b[1m5/5\u001b[0m \u001b[32m━━━━━━━━━━━━━━━━━━━━\u001b[0m\u001b[37m\u001b[0m \u001b[1m0s\u001b[0m 17ms/step - accuracy: 0.6106 - loss: -15.5754 - val_accuracy: 0.7200 - val_loss: -15.3836\n",
            "Epoch 476/500\n",
            "\u001b[1m5/5\u001b[0m \u001b[32m━━━━━━━━━━━━━━━━━━━━\u001b[0m\u001b[37m\u001b[0m \u001b[1m0s\u001b[0m 17ms/step - accuracy: 0.7162 - loss: -16.0504 - val_accuracy: 0.7333 - val_loss: -15.3953\n",
            "Epoch 477/500\n",
            "\u001b[1m5/5\u001b[0m \u001b[32m━━━━━━━━━━━━━━━━━━━━\u001b[0m\u001b[37m\u001b[0m \u001b[1m0s\u001b[0m 17ms/step - accuracy: 0.7184 - loss: -16.2721 - val_accuracy: 0.7200 - val_loss: -15.3992\n",
            "Epoch 478/500\n",
            "\u001b[1m5/5\u001b[0m \u001b[32m━━━━━━━━━━━━━━━━━━━━\u001b[0m\u001b[37m\u001b[0m \u001b[1m0s\u001b[0m 16ms/step - accuracy: 0.7036 - loss: -15.5016 - val_accuracy: 0.7200 - val_loss: -15.4108\n",
            "Epoch 479/500\n",
            "\u001b[1m5/5\u001b[0m \u001b[32m━━━━━━━━━━━━━━━━━━━━\u001b[0m\u001b[37m\u001b[0m \u001b[1m0s\u001b[0m 18ms/step - accuracy: 0.7090 - loss: -16.1528 - val_accuracy: 0.7200 - val_loss: -15.4194\n",
            "Epoch 480/500\n",
            "\u001b[1m5/5\u001b[0m \u001b[32m━━━━━━━━━━━━━━━━━━━━\u001b[0m\u001b[37m\u001b[0m \u001b[1m0s\u001b[0m 16ms/step - accuracy: 0.7138 - loss: -15.5559 - val_accuracy: 0.7200 - val_loss: -15.4268\n",
            "Epoch 481/500\n",
            "\u001b[1m5/5\u001b[0m \u001b[32m━━━━━━━━━━━━━━━━━━━━\u001b[0m\u001b[37m\u001b[0m \u001b[1m0s\u001b[0m 16ms/step - accuracy: 0.7273 - loss: -15.9124 - val_accuracy: 0.7067 - val_loss: -15.4298\n",
            "Epoch 482/500\n",
            "\u001b[1m5/5\u001b[0m \u001b[32m━━━━━━━━━━━━━━━━━━━━\u001b[0m\u001b[37m\u001b[0m \u001b[1m0s\u001b[0m 17ms/step - accuracy: 0.6996 - loss: -16.2483 - val_accuracy: 0.7067 - val_loss: -15.4353\n",
            "Epoch 483/500\n",
            "\u001b[1m5/5\u001b[0m \u001b[32m━━━━━━━━━━━━━━━━━━━━\u001b[0m\u001b[37m\u001b[0m \u001b[1m0s\u001b[0m 17ms/step - accuracy: 0.6982 - loss: -15.8893 - val_accuracy: 0.7067 - val_loss: -15.4416\n",
            "Epoch 484/500\n",
            "\u001b[1m5/5\u001b[0m \u001b[32m━━━━━━━━━━━━━━━━━━━━\u001b[0m\u001b[37m\u001b[0m \u001b[1m0s\u001b[0m 18ms/step - accuracy: 0.7181 - loss: -16.4677 - val_accuracy: 0.7067 - val_loss: -15.4480\n",
            "Epoch 485/500\n",
            "\u001b[1m5/5\u001b[0m \u001b[32m━━━━━━━━━━━━━━━━━━━━\u001b[0m\u001b[37m\u001b[0m \u001b[1m0s\u001b[0m 19ms/step - accuracy: 0.6586 - loss: -15.9783 - val_accuracy: 0.7067 - val_loss: -15.4513\n",
            "Epoch 486/500\n",
            "\u001b[1m5/5\u001b[0m \u001b[32m━━━━━━━━━━━━━━━━━━━━\u001b[0m\u001b[37m\u001b[0m \u001b[1m0s\u001b[0m 16ms/step - accuracy: 0.6965 - loss: -16.1163 - val_accuracy: 0.7067 - val_loss: -15.4598\n",
            "Epoch 487/500\n",
            "\u001b[1m5/5\u001b[0m \u001b[32m━━━━━━━━━━━━━━━━━━━━\u001b[0m\u001b[37m\u001b[0m \u001b[1m0s\u001b[0m 17ms/step - accuracy: 0.6824 - loss: -15.9415 - val_accuracy: 0.7067 - val_loss: -15.4627\n",
            "Epoch 488/500\n",
            "\u001b[1m5/5\u001b[0m \u001b[32m━━━━━━━━━━━━━━━━━━━━\u001b[0m\u001b[37m\u001b[0m \u001b[1m0s\u001b[0m 16ms/step - accuracy: 0.7138 - loss: -16.0116 - val_accuracy: 0.7200 - val_loss: -15.4694\n",
            "Epoch 489/500\n",
            "\u001b[1m5/5\u001b[0m \u001b[32m━━━━━━━━━━━━━━━━━━━━\u001b[0m\u001b[37m\u001b[0m \u001b[1m0s\u001b[0m 16ms/step - accuracy: 0.6793 - loss: -15.9889 - val_accuracy: 0.7067 - val_loss: -15.4735\n",
            "Epoch 490/500\n",
            "\u001b[1m5/5\u001b[0m \u001b[32m━━━━━━━━━━━━━━━━━━━━\u001b[0m\u001b[37m\u001b[0m \u001b[1m0s\u001b[0m 16ms/step - accuracy: 0.5992 - loss: -15.5582 - val_accuracy: 0.7200 - val_loss: -15.4779\n",
            "Epoch 491/500\n",
            "\u001b[1m5/5\u001b[0m \u001b[32m━━━━━━━━━━━━━━━━━━━━\u001b[0m\u001b[37m\u001b[0m \u001b[1m0s\u001b[0m 17ms/step - accuracy: 0.7327 - loss: -16.1775 - val_accuracy: 0.7333 - val_loss: -15.4815\n",
            "Epoch 492/500\n",
            "\u001b[1m5/5\u001b[0m \u001b[32m━━━━━━━━━━━━━━━━━━━━\u001b[0m\u001b[37m\u001b[0m \u001b[1m0s\u001b[0m 17ms/step - accuracy: 0.7067 - loss: -15.9519 - val_accuracy: 0.7333 - val_loss: -15.4862\n",
            "Epoch 493/500\n",
            "\u001b[1m5/5\u001b[0m \u001b[32m━━━━━━━━━━━━━━━━━━━━\u001b[0m\u001b[37m\u001b[0m \u001b[1m0s\u001b[0m 17ms/step - accuracy: 0.7076 - loss: -15.8241 - val_accuracy: 0.7333 - val_loss: -15.4897\n",
            "Epoch 494/500\n",
            "\u001b[1m5/5\u001b[0m \u001b[32m━━━━━━━━━━━━━━━━━━━━\u001b[0m\u001b[37m\u001b[0m \u001b[1m0s\u001b[0m 18ms/step - accuracy: 0.7217 - loss: -16.3222 - val_accuracy: 0.7333 - val_loss: -15.4983\n",
            "Epoch 495/500\n",
            "\u001b[1m5/5\u001b[0m \u001b[32m━━━━━━━━━━━━━━━━━━━━\u001b[0m\u001b[37m\u001b[0m \u001b[1m0s\u001b[0m 17ms/step - accuracy: 0.7098 - loss: -16.1934 - val_accuracy: 0.7200 - val_loss: -15.4988\n",
            "Epoch 496/500\n",
            "\u001b[1m5/5\u001b[0m \u001b[32m━━━━━━━━━━━━━━━━━━━━\u001b[0m\u001b[37m\u001b[0m \u001b[1m0s\u001b[0m 16ms/step - accuracy: 0.6708 - loss: -15.5296 - val_accuracy: 0.7200 - val_loss: -15.5078\n",
            "Epoch 497/500\n",
            "\u001b[1m5/5\u001b[0m \u001b[32m━━━━━━━━━━━━━━━━━━━━\u001b[0m\u001b[37m\u001b[0m \u001b[1m0s\u001b[0m 17ms/step - accuracy: 0.7180 - loss: -15.8935 - val_accuracy: 0.7200 - val_loss: -15.5135\n",
            "Epoch 498/500\n",
            "\u001b[1m5/5\u001b[0m \u001b[32m━━━━━━━━━━━━━━━━━━━━\u001b[0m\u001b[37m\u001b[0m \u001b[1m0s\u001b[0m 16ms/step - accuracy: 0.6872 - loss: -16.1904 - val_accuracy: 0.7067 - val_loss: -15.5232\n",
            "Epoch 499/500\n",
            "\u001b[1m5/5\u001b[0m \u001b[32m━━━━━━━━━━━━━━━━━━━━\u001b[0m\u001b[37m\u001b[0m \u001b[1m0s\u001b[0m 16ms/step - accuracy: 0.7046 - loss: -15.7571 - val_accuracy: 0.7067 - val_loss: -15.5253\n",
            "Epoch 500/500\n",
            "\u001b[1m5/5\u001b[0m \u001b[32m━━━━━━━━━━━━━━━━━━━━\u001b[0m\u001b[37m\u001b[0m \u001b[1m0s\u001b[0m 16ms/step - accuracy: 0.7124 - loss: -16.0280 - val_accuracy: 0.7067 - val_loss: -15.5307\n"
          ]
        }
      ],
      "source": [
        "with tf.device(\"/device:GPU:0\"):    # у версії TF-DML для 2.10 можна писати \"/device:GPU:0\" замість \"/device:DML:0\"\n",
        "    start_time = time.time()\n",
        "    autoencoder.fit(train_x, train_x,\n",
        "        epochs=500,\n",
        "        batch_size=50,\n",
        "        shuffle=True,\n",
        "        validation_data=(valid_x, valid_x))\n",
        "    end_time = time.time()\n",
        "    #end_time-start_time"
      ]
    },
    {
      "cell_type": "code",
      "execution_count": null,
      "metadata": {
        "id": "KNW9V8Ofi6sy"
      },
      "outputs": [],
      "source": [
        "# зауважте, що час виконання залежно від версії DirectML або типу обладнання може суттєво відрізнятися\n",
        "# також час виконання на першій ітерації під відеокартою зазвичай вищий, ніж на наступних"
      ]
    },
    {
      "cell_type": "code",
      "execution_count": 38,
      "metadata": {
        "id": "qIcf1PKQi6sy",
        "outputId": "ee06b073-51b7-49c2-d58c-25bedd15ae2e",
        "colab": {
          "base_uri": "https://localhost:8080/",
          "height": 1000
        }
      },
      "outputs": [
        {
          "output_type": "stream",
          "name": "stdout",
          "text": [
            "\u001b[1m1/1\u001b[0m \u001b[32m━━━━━━━━━━━━━━━━━━━━\u001b[0m\u001b[37m\u001b[0m \u001b[1m0s\u001b[0m 289ms/step\n"
          ]
        },
        {
          "output_type": "display_data",
          "data": {
            "text/plain": [
              "<Figure size 600x600 with 2 Axes>"
            ],
            "image/png": "[encoded data removed]"
          },
          "metadata": {}
        },
        {
          "output_type": "stream",
          "name": "stdout",
          "text": [
            "\u001b[1m1/1\u001b[0m \u001b[32m━━━━━━━━━━━━━━━━━━━━\u001b[0m\u001b[37m\u001b[0m \u001b[1m0s\u001b[0m 469ms/step\n"
          ]
        },
        {
          "output_type": "display_data",
          "data": {
            "text/plain": [
              "<Figure size 600x600 with 2 Axes>"
            ],
            "image/png": "[encoded data removed]"
          },
          "metadata": {}
        }
      ],
      "source": [
        "#Because latent space is two-dimensional, there are a few visualizations that can be done at this point.\n",
        "#One is to look at the neighborhoods of different classes on the latent 2D plane:\n",
        "colors = np.array(list(islice(cycle(['#377eb8', '#ff7f00', '#4daf4a',\n",
        "                                             '#f781bf', '#a65628', '#984ea3',\n",
        "                                             '#999999', '#e41a1c', '#dede00']), int(max(valid_y) + 1))))\n",
        "\n",
        "start_time = time.time()\n",
        "x_train_encoded = encoder.predict(train_x, batch_size=500)\n",
        "plt.figure(figsize=(6, 6))\n",
        "plt.scatter(x_train_encoded[:, 0], x_train_encoded[:, 1], c = colors[train_y])\n",
        "plt.colorbar()\n",
        "plt.show()\n",
        "\n",
        "x_test_encoded = encoder.predict(valid_x, batch_size=500)\n",
        "plt.figure(figsize=(6, 6))\n",
        "plt.scatter(x_test_encoded[:, 0], x_test_encoded[:, 1], c = colors[valid_y])\n",
        "plt.colorbar()\n",
        "plt.show()\n",
        "end_time = time.time()"
      ]
    },
    {
      "cell_type": "code",
      "execution_count": 39,
      "metadata": {
        "id": "TQCFdOyli6sy",
        "outputId": "9db677af-66f6-4e4f-b5f7-f99e406dbf98",
        "colab": {
          "base_uri": "https://localhost:8080/"
        }
      },
      "outputs": [
        {
          "output_type": "execute_result",
          "data": {
            "text/plain": [
              "0.0025358200073242188"
            ]
          },
          "metadata": {},
          "execution_count": 39
        }
      ],
      "source": [
        "start_time = time.time()\n",
        "train_x, valid_x, train_y, valid_y = model_selection.train_test_split(ab, y_pred)\n",
        "end_time = time.time()\n",
        "end_time-start_time"
      ]
    },
    {
      "cell_type": "code",
      "execution_count": 40,
      "metadata": {
        "id": "8jMhMQ6oi6sz",
        "outputId": "99cca1e1-2ace-4f32-f78e-8b71f306aa99",
        "colab": {
          "base_uri": "https://localhost:8080/"
        }
      },
      "outputs": [
        {
          "output_type": "execute_result",
          "data": {
            "text/plain": [
              "0.0028200149536132812"
            ]
          },
          "metadata": {},
          "execution_count": 40
        }
      ],
      "source": [
        "from sklearn.datasets import make_classification\n",
        "from imblearn.over_sampling import RandomOverSampler\n",
        "start_time = time.time()\n",
        "ros = RandomOverSampler(random_state=0)\n",
        "X_resampled, y_resampled = ros.fit_resample(X_embedded, y_pred)\n",
        "end_time = time.time()\n",
        "end_time-start_time"
      ]
    },
    {
      "cell_type": "code",
      "execution_count": 40,
      "metadata": {
        "id": "EodRtNS7i6sz"
      },
      "outputs": [],
      "source": []
    },
    {
      "cell_type": "code",
      "execution_count": 41,
      "metadata": {
        "id": "fPElk0uZi6sz",
        "outputId": "eb7c0a01-20bb-415c-87ff-61eb1748526e",
        "colab": {
          "base_uri": "https://localhost:8080/",
          "height": 1000
        }
      },
      "outputs": [
        {
          "output_type": "display_data",
          "data": {
            "text/plain": [
              "<Figure size 600x600 with 2 Axes>"
            ],
            "image/png": "[encoded data removed]"
          },
          "metadata": {}
        },
        {
          "output_type": "display_data",
          "data": {
            "text/plain": [
              "<Figure size 600x600 with 2 Axes>"
            ],
            "image/png": "[encoded data removed]"
          },
          "metadata": {}
        }
      ],
      "source": [
        "colors = np.array(list(islice(cycle(['#377eb8', '#ff7f00', '#4daf4a',\n",
        "                                             '#f781bf', '#a65628', '#984ea3',\n",
        "                                             '#999999', '#e41a1c', '#dede00']), int(max(y_pred) + 1))))\n",
        "\n",
        "plt.figure(figsize=(6, 6))\n",
        "plt.scatter(X_embedded[:, 0], X_embedded[:, 1], s=2, c=colors[y_pred])\n",
        "plt.colorbar()\n",
        "plt.show()\n",
        "\n",
        "plt.figure(figsize=(6, 6))\n",
        "plt.scatter(X_resampled[:, 0], X_resampled[:, 1], s=2, c=colors[y_resampled])\n",
        "plt.colorbar()\n",
        "plt.show()"
      ]
    },
    {
      "cell_type": "code",
      "execution_count": 42,
      "metadata": {
        "id": "JlrB6Afli6sz"
      },
      "outputs": [],
      "source": [
        "train_x, valid_x, train_y, valid_y = model_selection.train_test_split(X_resampled, y_resampled)"
      ]
    },
    {
      "cell_type": "code",
      "execution_count": 43,
      "metadata": {
        "id": "bKYov9sdi6s5"
      },
      "outputs": [],
      "source": [
        "#X_resampled, y_resampled = ros.fit_resample(X_embedded, y_pred)"
      ]
    },
    {
      "cell_type": "code",
      "execution_count": 44,
      "metadata": {
        "id": "RkoTrBRki6s5",
        "outputId": "4d8102d1-6ca0-4ba3-9367-fcab694a3b88",
        "colab": {
          "base_uri": "https://localhost:8080/"
        }
      },
      "outputs": [
        {
          "output_type": "execute_result",
          "data": {
            "text/plain": [
              "0.00717473030090332"
            ]
          },
          "metadata": {},
          "execution_count": 44
        }
      ],
      "source": [
        "from imblearn.over_sampling import SMOTE, ADASYN\n",
        "start_time = time.time()\n",
        "X_resampled2, y_resampled2 = SMOTE().fit_resample(X_embedded, y_pred)\n",
        "#print(sorted(Counter(y_resampled).items()))\n",
        "end_time = time.time()\n",
        "end_time-start_time"
      ]
    },
    {
      "cell_type": "code",
      "execution_count": 45,
      "metadata": {
        "id": "f_BY8Rt2i6s6",
        "outputId": "420ca437-a6f2-46d6-e974-4001e46e353e",
        "colab": {
          "base_uri": "https://localhost:8080/"
        }
      },
      "outputs": [
        {
          "output_type": "execute_result",
          "data": {
            "text/plain": [
              "0.010764122009277344"
            ]
          },
          "metadata": {},
          "execution_count": 45
        }
      ],
      "source": [
        "start_time = time.time()\n",
        "clf_smote = LinearSVC().fit(X_resampled2, y_resampled2)\n",
        "end_time = time.time()\n",
        "end_time-start_time"
      ]
    },
    {
      "cell_type": "code",
      "execution_count": 46,
      "metadata": {
        "id": "ERTu4xeIi6s6",
        "outputId": "488b1e5c-0510-4801-cda7-61ea698b41fe",
        "colab": {
          "base_uri": "https://localhost:8080/"
        }
      },
      "outputs": [
        {
          "output_type": "execute_result",
          "data": {
            "text/plain": [
              "0.012067079544067383"
            ]
          },
          "metadata": {},
          "execution_count": 46
        }
      ],
      "source": [
        "start_time = time.time()\n",
        "X_resampled3, y_resampled3 = ADASYN().fit_resample(X_embedded, y_pred)\n",
        "#print(sorted(Counter(y_resampled).items()))\n",
        "end_time = time.time()\n",
        "end_time-start_time"
      ]
    },
    {
      "cell_type": "code",
      "execution_count": 47,
      "metadata": {
        "id": "57u-cmW6i6s6",
        "outputId": "67600fc9-6698-45b0-91f9-dc302a90bf95",
        "colab": {
          "base_uri": "https://localhost:8080/"
        }
      },
      "outputs": [
        {
          "output_type": "execute_result",
          "data": {
            "text/plain": [
              "0.0050563812255859375"
            ]
          },
          "metadata": {},
          "execution_count": 47
        }
      ],
      "source": [
        "start_time = time.time()\n",
        "clf_adasyn = LinearSVC().fit(X_resampled3, y_resampled3)\n",
        "end_time = time.time()\n",
        "end_time-start_time"
      ]
    },
    {
      "cell_type": "code",
      "execution_count": 48,
      "metadata": {
        "id": "H30Rk0G1i6s7",
        "outputId": "e3407e13-5210-4d04-d650-27dc2eecbe79",
        "colab": {
          "base_uri": "https://localhost:8080/",
          "height": 1000
        }
      },
      "outputs": [
        {
          "output_type": "display_data",
          "data": {
            "text/plain": [
              "<Figure size 600x600 with 2 Axes>"
            ],
            "image/png": "[encoded data removed]"
          },
          "metadata": {}
        },
        {
          "output_type": "display_data",
          "data": {
            "text/plain": [
              "<Figure size 600x600 with 2 Axes>"
            ],
            "image/png": "[encoded data removed]"
          },
          "metadata": {}
        },
        {
          "output_type": "display_data",
          "data": {
            "text/plain": [
              "<Figure size 600x600 with 2 Axes>"
            ],
            "image/png": "[encoded data removed]"
          },
          "metadata": {}
        }
      ],
      "source": [
        "plt.figure(figsize=(6, 6))\n",
        "plt.scatter(X_resampled[:, 0], X_resampled[:, 1], s=2, c=colors[y_resampled])\n",
        "plt.colorbar()\n",
        "plt.show()\n",
        "\n",
        "plt.figure(figsize=(6, 6))\n",
        "plt.scatter(X_resampled2[:, 0], X_resampled2[:, 1], s=2, c=colors[y_resampled2])\n",
        "plt.colorbar()\n",
        "plt.show()\n",
        "\n",
        "plt.figure(figsize=(6, 6))\n",
        "plt.scatter(X_resampled3[:, 0], X_resampled3[:, 1], s=2, c=colors[y_resampled3])\n",
        "plt.colorbar()\n",
        "plt.show()"
      ]
    },
    {
      "cell_type": "code",
      "execution_count": 49,
      "metadata": {
        "id": "PdA165ORi6s7"
      },
      "outputs": [],
      "source": [
        "# stops here"
      ]
    }
  ],
  "metadata": {
    "kernelspec": {
      "display_name": "Python 3",
      "name": "python3"
    },
    "language_info": {
      "codemirror_mode": {
        "name": "ipython",
        "version": 3
      },
      "file_extension": ".py",
      "mimetype": "text/x-python",
      "name": "python",
      "nbconvert_exporter": "python",
      "pygments_lexer": "ipython3",
      "version": "3.9.18"
    },
    "varInspector": {
      "cols": {
        "lenName": 16,
        "lenType": 16,
        "lenVar": 40
      },
      "kernels_config": {
        "python": {
          "delete_cmd_postfix": "",
          "delete_cmd_prefix": "del ",
          "library": "var_list.py",
          "varRefreshCmd": "print(var_dic_list())"
        },
        "r": {
          "delete_cmd_postfix": ") ",
          "delete_cmd_prefix": "rm(",
          "library": "var_list.r",
          "varRefreshCmd": "cat(var_dic_list()) "
        }
      },
      "types_to_exclude": [
        "module",
        "function",
        "builtin_function_or_method",
        "instance",
        "_Feature"
      ],
      "window_display": false
    },
    "colab": {
      "provenance": [],
      "gpuType": "T4"
    },
    "accelerator": "GPU"
  },
  "nbformat": 4,
  "nbformat_minor": 0
}